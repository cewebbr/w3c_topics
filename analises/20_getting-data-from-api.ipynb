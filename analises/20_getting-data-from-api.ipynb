{
 "cells": [
  {
   "cell_type": "markdown",
   "id": "15e5d0bd-3e37-4247-92c2-a3b00e2b8e70",
   "metadata": {},
   "source": [
    "# Getting data from W3C API"
   ]
  },
  {
   "cell_type": "code",
   "execution_count": 1,
   "id": "18f39c2d-eb4f-44d6-b148-44cd0447ffa0",
   "metadata": {},
   "outputs": [],
   "source": [
    "import requests\n",
    "import json\n",
    "import pandas as pd\n",
    "import matplotlib.pyplot as pl\n",
    "from datetime import date\n",
    "from glob import glob\n",
    "from bs4 import BeautifulSoup\n",
    "\n",
    "import xavy.explore as xe\n",
    "import xavy.dataframes as xd\n",
    "\n",
    "import modules.w3c_api as wa"
   ]
  },
  {
   "cell_type": "markdown",
   "id": "78d3cb40-bce2-47f9-bb9d-b505876421eb",
   "metadata": {},
   "source": [
    "## Capturing data"
   ]
  },
  {
   "cell_type": "markdown",
   "id": "8b2e3e39-50ce-498b-942d-901247ab909f",
   "metadata": {},
   "source": [
    "Queremos a lista de instâncias -- com seus detalhes -- de cada uma das categorias:\n",
    "\n",
    "1. groups\n",
    "2. participants \n",
    "3. affiliations (organizations)\n",
    "\n",
    "Também queremos as conexões:\n",
    "\n",
    "1. groups - participants\n",
    "2. participants - affiliations"
   ]
  },
  {
   "cell_type": "markdown",
   "id": "518bc462-30ef-43c3-8323-3f02d857fef0",
   "metadata": {
    "jp-MarkdownHeadingCollapsed": true,
    "tags": []
   },
   "source": [
    "### Groups"
   ]
  },
  {
   "cell_type": "markdown",
   "id": "8bf45da6-6206-4e9e-95cd-49d999e53fc1",
   "metadata": {
    "tags": []
   },
   "source": [
    "#### List"
   ]
  },
  {
   "cell_type": "code",
   "execution_count": 2,
   "id": "32868d62-150a-4194-baeb-d310ce021ba5",
   "metadata": {},
   "outputs": [],
   "source": [
    "# Get list of all groups:\n",
    "#group_types = {'bg': 'Business Group', 'other':'Permanent Group', 'ig':'Interest Group', 'wg': 'Working Group', 'tf': 'Task Force', 'cg': 'Community Group'}\n",
    "groups = wa.get_all_data('https://api.w3.org/groups')\n",
    "groups_df = pd.DataFrame(groups)\n",
    "#groups_df['type_id'] = groups_df['href'].str.split('/').str.slice(4,5).str.join('')\n",
    "#groups_df['type'] = groups_df['type_id'].map(group_types)\n",
    "# Make sure group title is unique:\n",
    "#assert groups_df['title'].nunique() == len(groups_df)"
   ]
  },
  {
   "cell_type": "code",
   "execution_count": 27,
   "id": "33e3b200-d804-4b3e-a11b-e0254904a4ca",
   "metadata": {},
   "outputs": [
    {
     "data": {
      "text/html": [
       "<div>\n",
       "<style scoped>\n",
       "    .dataframe tbody tr th:only-of-type {\n",
       "        vertical-align: middle;\n",
       "    }\n",
       "\n",
       "    .dataframe tbody tr th {\n",
       "        vertical-align: top;\n",
       "    }\n",
       "\n",
       "    .dataframe thead th {\n",
       "        text-align: right;\n",
       "    }\n",
       "</style>\n",
       "<table border=\"1\" class=\"dataframe\">\n",
       "  <thead>\n",
       "    <tr style=\"text-align: right;\">\n",
       "      <th></th>\n",
       "      <th>href</th>\n",
       "      <th>title</th>\n",
       "    </tr>\n",
       "  </thead>\n",
       "  <tbody>\n",
       "    <tr>\n",
       "      <th>0</th>\n",
       "      <td>https://api.w3.org/groups/cg/a11yedge</td>\n",
       "      <td>Accessibility at the Edge Community Group</td>\n",
       "    </tr>\n",
       "    <tr>\n",
       "      <th>1</th>\n",
       "      <td>https://api.w3.org/groups/tf/wcag-act</td>\n",
       "      <td>Accessibility Conformance Testing (ACT) Task F...</td>\n",
       "    </tr>\n",
       "    <tr>\n",
       "      <th>2</th>\n",
       "      <td>https://api.w3.org/groups/cg/a11y-discov-vocab</td>\n",
       "      <td>Accessibility Discoverability Vocabulary for S...</td>\n",
       "    </tr>\n",
       "    <tr>\n",
       "      <th>3</th>\n",
       "      <td>https://api.w3.org/groups/wg/eowg</td>\n",
       "      <td>Accessibility Education and Outreach Working G...</td>\n",
       "    </tr>\n",
       "    <tr>\n",
       "      <th>4</th>\n",
       "      <td>https://api.w3.org/groups/cg/accessibility4chi...</td>\n",
       "      <td>Accessibility for Children Community Group</td>\n",
       "    </tr>\n",
       "    <tr>\n",
       "      <th>...</th>\n",
       "      <td>...</td>\n",
       "      <td>...</td>\n",
       "    </tr>\n",
       "    <tr>\n",
       "      <th>244</th>\n",
       "      <td>https://api.w3.org/groups/wg/webtransport</td>\n",
       "      <td>WebTransport Working Group</td>\n",
       "    </tr>\n",
       "    <tr>\n",
       "      <th>245</th>\n",
       "      <td>https://api.w3.org/groups/cg/webview</td>\n",
       "      <td>WebView Community Group</td>\n",
       "    </tr>\n",
       "    <tr>\n",
       "      <th>246</th>\n",
       "      <td>https://api.w3.org/groups/cg/xformsusers</td>\n",
       "      <td>XForms Users Community Group</td>\n",
       "    </tr>\n",
       "    <tr>\n",
       "      <th>247</th>\n",
       "      <td>https://api.w3.org/groups/cg/xproc-next</td>\n",
       "      <td>XProc Next Community Group</td>\n",
       "    </tr>\n",
       "    <tr>\n",
       "      <th>248</th>\n",
       "      <td>https://api.w3.org/groups/cg/xslt-40</td>\n",
       "      <td>XQuery and XSLT Extensions Community Group</td>\n",
       "    </tr>\n",
       "  </tbody>\n",
       "</table>\n",
       "<p>249 rows × 2 columns</p>\n",
       "</div>"
      ],
      "text/plain": [
       "                                                  href  \\\n",
       "0                https://api.w3.org/groups/cg/a11yedge   \n",
       "1                https://api.w3.org/groups/tf/wcag-act   \n",
       "2       https://api.w3.org/groups/cg/a11y-discov-vocab   \n",
       "3                    https://api.w3.org/groups/wg/eowg   \n",
       "4    https://api.w3.org/groups/cg/accessibility4chi...   \n",
       "..                                                 ...   \n",
       "244          https://api.w3.org/groups/wg/webtransport   \n",
       "245               https://api.w3.org/groups/cg/webview   \n",
       "246           https://api.w3.org/groups/cg/xformsusers   \n",
       "247            https://api.w3.org/groups/cg/xproc-next   \n",
       "248               https://api.w3.org/groups/cg/xslt-40   \n",
       "\n",
       "                                                 title  \n",
       "0            Accessibility at the Edge Community Group  \n",
       "1    Accessibility Conformance Testing (ACT) Task F...  \n",
       "2    Accessibility Discoverability Vocabulary for S...  \n",
       "3    Accessibility Education and Outreach Working G...  \n",
       "4           Accessibility for Children Community Group  \n",
       "..                                                 ...  \n",
       "244                         WebTransport Working Group  \n",
       "245                            WebView Community Group  \n",
       "246                       XForms Users Community Group  \n",
       "247                         XProc Next Community Group  \n",
       "248         XQuery and XSLT Extensions Community Group  \n",
       "\n",
       "[249 rows x 2 columns]"
      ]
     },
     "execution_count": 27,
     "metadata": {},
     "output_type": "execute_result"
    }
   ],
   "source": [
    "groups_df"
   ]
  },
  {
   "cell_type": "code",
   "execution_count": 28,
   "id": "f93667bc-1fff-4629-a258-1847592b7d6d",
   "metadata": {},
   "outputs": [],
   "source": [
    "# Save data:\n",
    "today = date.today().strftime('%Y-%m-%d')\n",
    "#groups_df.to_csv('../data/raw/api/w3c_groups_list_{}.csv'.format(today), index=False)"
   ]
  },
  {
   "cell_type": "markdown",
   "id": "8ac11b34-7f54-42db-b66a-db0a171f6f11",
   "metadata": {
    "tags": []
   },
   "source": [
    "#### Properties"
   ]
  },
  {
   "cell_type": "code",
   "execution_count": 29,
   "id": "d0f07c9e-71f7-4647-a494-10b0225bb625",
   "metadata": {},
   "outputs": [],
   "source": [
    "# Get properties from all groups:\n",
    "group_extras = ['homepage', 'users', 'participations', 'chairs']\n",
    "groups_properties = [wa.get_properties(groups_df.iloc[i]['href'], group_extras) for i in range(len(groups_df))]\n",
    "gproperties_df = pd.DataFrame(groups_properties)"
   ]
  },
  {
   "cell_type": "code",
   "execution_count": 30,
   "id": "10397b7b-6f5b-42c0-a314-21b7cb94bdee",
   "metadata": {},
   "outputs": [
    {
     "data": {
      "text/html": [
       "<div>\n",
       "<style scoped>\n",
       "    .dataframe tbody tr th:only-of-type {\n",
       "        vertical-align: middle;\n",
       "    }\n",
       "\n",
       "    .dataframe tbody tr th {\n",
       "        vertical-align: top;\n",
       "    }\n",
       "\n",
       "    .dataframe thead th {\n",
       "        text-align: right;\n",
       "    }\n",
       "</style>\n",
       "<table border=\"1\" class=\"dataframe\">\n",
       "  <thead>\n",
       "    <tr style=\"text-align: right;\">\n",
       "      <th></th>\n",
       "      <th>id</th>\n",
       "      <th>name</th>\n",
       "      <th>is_closed</th>\n",
       "      <th>description</th>\n",
       "      <th>shortname</th>\n",
       "      <th>spec-publisher</th>\n",
       "      <th>discr</th>\n",
       "      <th>type</th>\n",
       "      <th>call</th>\n",
       "      <th>homepage</th>\n",
       "      <th>users</th>\n",
       "      <th>participations</th>\n",
       "      <th>chairs</th>\n",
       "      <th>members</th>\n",
       "      <th>internal</th>\n",
       "      <th>participants_list_public</th>\n",
       "      <th>start-date</th>\n",
       "      <th>end-date</th>\n",
       "    </tr>\n",
       "  </thead>\n",
       "  <tbody>\n",
       "    <tr>\n",
       "      <th>0</th>\n",
       "      <td>138124</td>\n",
       "      <td>Accessibility at the Edge Community Group</td>\n",
       "      <td>False</td>\n",
       "      <td>The mission of the Accessibility at the Edge C...</td>\n",
       "      <td>a11yedge</td>\n",
       "      <td>True</td>\n",
       "      <td>w3cgroup</td>\n",
       "      <td>community group</td>\n",
       "      <td>https://api.w3.org/groups/cg/a11yedge</td>\n",
       "      <td>https://www.w3.org/community/a11yedge/</td>\n",
       "      <td>https://api.w3.org/groups/cg/a11yedge/users</td>\n",
       "      <td>https://api.w3.org/groups/cg/a11yedge/particip...</td>\n",
       "      <td>https://api.w3.org/groups/cg/a11yedge/chairs</td>\n",
       "      <td>NaN</td>\n",
       "      <td>NaN</td>\n",
       "      <td>NaN</td>\n",
       "      <td>NaN</td>\n",
       "      <td>NaN</td>\n",
       "    </tr>\n",
       "    <tr>\n",
       "      <th>1</th>\n",
       "      <td>93339</td>\n",
       "      <td>Accessibility Conformance Testing (ACT) Task F...</td>\n",
       "      <td>False</td>\n",
       "      <td>The objective of the Accessibility Conformance...</td>\n",
       "      <td>wcag-act</td>\n",
       "      <td>NaN</td>\n",
       "      <td>tf</td>\n",
       "      <td>NaN</td>\n",
       "      <td>https://api.w3.org/groups/tf/wcag-act</td>\n",
       "      <td>https://www.w3.org/WAI/GL/task-forces/conforma...</td>\n",
       "      <td>https://api.w3.org/groups/tf/wcag-act/users</td>\n",
       "      <td>NaN</td>\n",
       "      <td>https://api.w3.org/groups/tf/wcag-act/chairs</td>\n",
       "      <td>[{'id': 35422, 'name': 'Accessibility Guidelin...</td>\n",
       "      <td>False</td>\n",
       "      <td>True</td>\n",
       "      <td>NaN</td>\n",
       "      <td>NaN</td>\n",
       "    </tr>\n",
       "    <tr>\n",
       "      <th>2</th>\n",
       "      <td>134546</td>\n",
       "      <td>Accessibility Discoverability Vocabulary for S...</td>\n",
       "      <td>False</td>\n",
       "      <td>The primary objective of this group is to main...</td>\n",
       "      <td>a11y-discov-vocab</td>\n",
       "      <td>True</td>\n",
       "      <td>w3cgroup</td>\n",
       "      <td>community group</td>\n",
       "      <td>https://api.w3.org/groups/cg/a11y-discov-vocab</td>\n",
       "      <td>https://www.w3.org/community/a11y-discov-vocab/</td>\n",
       "      <td>https://api.w3.org/groups/cg/a11y-discov-vocab...</td>\n",
       "      <td>https://api.w3.org/groups/cg/a11y-discov-vocab...</td>\n",
       "      <td>https://api.w3.org/groups/cg/a11y-discov-vocab...</td>\n",
       "      <td>NaN</td>\n",
       "      <td>NaN</td>\n",
       "      <td>NaN</td>\n",
       "      <td>NaN</td>\n",
       "      <td>NaN</td>\n",
       "    </tr>\n",
       "    <tr>\n",
       "      <th>3</th>\n",
       "      <td>35532</td>\n",
       "      <td>Accessibility Education and Outreach Working G...</td>\n",
       "      <td>False</td>\n",
       "      <td>The mission of the Accessibility Education and...</td>\n",
       "      <td>eowg</td>\n",
       "      <td>NaN</td>\n",
       "      <td>w3cgroup</td>\n",
       "      <td>working group</td>\n",
       "      <td>https://api.w3.org/groups/wg/eowg</td>\n",
       "      <td>https://www.w3.org/WAI/about/groups/eowg/</td>\n",
       "      <td>https://api.w3.org/groups/wg/eowg/users</td>\n",
       "      <td>https://api.w3.org/groups/wg/eowg/participations</td>\n",
       "      <td>https://api.w3.org/groups/wg/eowg/chairs</td>\n",
       "      <td>NaN</td>\n",
       "      <td>NaN</td>\n",
       "      <td>NaN</td>\n",
       "      <td>1998-03-10</td>\n",
       "      <td>2024-06-30</td>\n",
       "    </tr>\n",
       "    <tr>\n",
       "      <th>4</th>\n",
       "      <td>119612</td>\n",
       "      <td>Accessibility for Children Community Group</td>\n",
       "      <td>False</td>\n",
       "      <td>&lt;p&gt;The mission of this group is to discuss acc...</td>\n",
       "      <td>accessibility4children</td>\n",
       "      <td>True</td>\n",
       "      <td>w3cgroup</td>\n",
       "      <td>community group</td>\n",
       "      <td>https://api.w3.org/groups/cg/accessibility4chi...</td>\n",
       "      <td>https://www.w3.org/community/accessibility4chi...</td>\n",
       "      <td>https://api.w3.org/groups/cg/accessibility4chi...</td>\n",
       "      <td>https://api.w3.org/groups/cg/accessibility4chi...</td>\n",
       "      <td>https://api.w3.org/groups/cg/accessibility4chi...</td>\n",
       "      <td>NaN</td>\n",
       "      <td>NaN</td>\n",
       "      <td>NaN</td>\n",
       "      <td>NaN</td>\n",
       "      <td>NaN</td>\n",
       "    </tr>\n",
       "    <tr>\n",
       "      <th>...</th>\n",
       "      <td>...</td>\n",
       "      <td>...</td>\n",
       "      <td>...</td>\n",
       "      <td>...</td>\n",
       "      <td>...</td>\n",
       "      <td>...</td>\n",
       "      <td>...</td>\n",
       "      <td>...</td>\n",
       "      <td>...</td>\n",
       "      <td>...</td>\n",
       "      <td>...</td>\n",
       "      <td>...</td>\n",
       "      <td>...</td>\n",
       "      <td>...</td>\n",
       "      <td>...</td>\n",
       "      <td>...</td>\n",
       "      <td>...</td>\n",
       "      <td>...</td>\n",
       "    </tr>\n",
       "    <tr>\n",
       "      <th>244</th>\n",
       "      <td>125908</td>\n",
       "      <td>WebTransport Working Group</td>\n",
       "      <td>False</td>\n",
       "      <td>The mission of the WebTransport Working Group ...</td>\n",
       "      <td>webtransport</td>\n",
       "      <td>NaN</td>\n",
       "      <td>w3cgroup</td>\n",
       "      <td>working group</td>\n",
       "      <td>https://api.w3.org/groups/wg/webtransport</td>\n",
       "      <td>https://www.w3.org/groups/wg/webtransport/</td>\n",
       "      <td>https://api.w3.org/groups/wg/webtransport/users</td>\n",
       "      <td>https://api.w3.org/groups/wg/webtransport/part...</td>\n",
       "      <td>https://api.w3.org/groups/wg/webtransport/chairs</td>\n",
       "      <td>NaN</td>\n",
       "      <td>NaN</td>\n",
       "      <td>NaN</td>\n",
       "      <td>2020-09-08</td>\n",
       "      <td>2024-08-31</td>\n",
       "    </tr>\n",
       "    <tr>\n",
       "      <th>245</th>\n",
       "      <td>136852</td>\n",
       "      <td>WebView Community Group</td>\n",
       "      <td>False</td>\n",
       "      <td>The WebViews Community Group aims to identify,...</td>\n",
       "      <td>webview</td>\n",
       "      <td>True</td>\n",
       "      <td>w3cgroup</td>\n",
       "      <td>community group</td>\n",
       "      <td>https://api.w3.org/groups/cg/webview</td>\n",
       "      <td>https://www.w3.org/community/webview/</td>\n",
       "      <td>https://api.w3.org/groups/cg/webview/users</td>\n",
       "      <td>https://api.w3.org/groups/cg/webview/participa...</td>\n",
       "      <td>https://api.w3.org/groups/cg/webview/chairs</td>\n",
       "      <td>NaN</td>\n",
       "      <td>NaN</td>\n",
       "      <td>NaN</td>\n",
       "      <td>NaN</td>\n",
       "      <td>NaN</td>\n",
       "    </tr>\n",
       "    <tr>\n",
       "      <th>246</th>\n",
       "      <td>53549</td>\n",
       "      <td>XForms Users Community Group</td>\n",
       "      <td>False</td>\n",
       "      <td>A group for XForms users to discuss the use of...</td>\n",
       "      <td>xformsusers</td>\n",
       "      <td>True</td>\n",
       "      <td>w3cgroup</td>\n",
       "      <td>community group</td>\n",
       "      <td>https://api.w3.org/groups/cg/xformsusers</td>\n",
       "      <td>https://www.w3.org/community/xformsusers/</td>\n",
       "      <td>https://api.w3.org/groups/cg/xformsusers/users</td>\n",
       "      <td>https://api.w3.org/groups/cg/xformsusers/parti...</td>\n",
       "      <td>https://api.w3.org/groups/cg/xformsusers/chairs</td>\n",
       "      <td>NaN</td>\n",
       "      <td>NaN</td>\n",
       "      <td>NaN</td>\n",
       "      <td>NaN</td>\n",
       "      <td>NaN</td>\n",
       "    </tr>\n",
       "    <tr>\n",
       "      <th>247</th>\n",
       "      <td>101103</td>\n",
       "      <td>XProc Next Community Group</td>\n",
       "      <td>False</td>\n",
       "      <td>Create a place for gathering requirements from...</td>\n",
       "      <td>xproc-next</td>\n",
       "      <td>True</td>\n",
       "      <td>w3cgroup</td>\n",
       "      <td>community group</td>\n",
       "      <td>https://api.w3.org/groups/cg/xproc-next</td>\n",
       "      <td>https://www.w3.org/community/xproc-next/</td>\n",
       "      <td>https://api.w3.org/groups/cg/xproc-next/users</td>\n",
       "      <td>https://api.w3.org/groups/cg/xproc-next/partic...</td>\n",
       "      <td>https://api.w3.org/groups/cg/xproc-next/chairs</td>\n",
       "      <td>NaN</td>\n",
       "      <td>NaN</td>\n",
       "      <td>NaN</td>\n",
       "      <td>NaN</td>\n",
       "      <td>NaN</td>\n",
       "    </tr>\n",
       "    <tr>\n",
       "      <th>248</th>\n",
       "      <td>122875</td>\n",
       "      <td>XQuery and XSLT Extensions Community Group</td>\n",
       "      <td>False</td>\n",
       "      <td>&lt;p&gt;The group aims to agree extensions to the X...</td>\n",
       "      <td>xslt-40</td>\n",
       "      <td>True</td>\n",
       "      <td>w3cgroup</td>\n",
       "      <td>community group</td>\n",
       "      <td>https://api.w3.org/groups/cg/xslt-40</td>\n",
       "      <td>https://www.w3.org/community/xslt-40/</td>\n",
       "      <td>https://api.w3.org/groups/cg/xslt-40/users</td>\n",
       "      <td>https://api.w3.org/groups/cg/xslt-40/participa...</td>\n",
       "      <td>https://api.w3.org/groups/cg/xslt-40/chairs</td>\n",
       "      <td>NaN</td>\n",
       "      <td>NaN</td>\n",
       "      <td>NaN</td>\n",
       "      <td>NaN</td>\n",
       "      <td>NaN</td>\n",
       "    </tr>\n",
       "  </tbody>\n",
       "</table>\n",
       "<p>249 rows × 18 columns</p>\n",
       "</div>"
      ],
      "text/plain": [
       "         id                                               name  is_closed  \\\n",
       "0    138124          Accessibility at the Edge Community Group      False   \n",
       "1     93339  Accessibility Conformance Testing (ACT) Task F...      False   \n",
       "2    134546  Accessibility Discoverability Vocabulary for S...      False   \n",
       "3     35532  Accessibility Education and Outreach Working G...      False   \n",
       "4    119612         Accessibility for Children Community Group      False   \n",
       "..      ...                                                ...        ...   \n",
       "244  125908                         WebTransport Working Group      False   \n",
       "245  136852                            WebView Community Group      False   \n",
       "246   53549                       XForms Users Community Group      False   \n",
       "247  101103                         XProc Next Community Group      False   \n",
       "248  122875         XQuery and XSLT Extensions Community Group      False   \n",
       "\n",
       "                                           description  \\\n",
       "0    The mission of the Accessibility at the Edge C...   \n",
       "1    The objective of the Accessibility Conformance...   \n",
       "2    The primary objective of this group is to main...   \n",
       "3    The mission of the Accessibility Education and...   \n",
       "4    <p>The mission of this group is to discuss acc...   \n",
       "..                                                 ...   \n",
       "244  The mission of the WebTransport Working Group ...   \n",
       "245  The WebViews Community Group aims to identify,...   \n",
       "246  A group for XForms users to discuss the use of...   \n",
       "247  Create a place for gathering requirements from...   \n",
       "248  <p>The group aims to agree extensions to the X...   \n",
       "\n",
       "                  shortname spec-publisher     discr             type  \\\n",
       "0                  a11yedge           True  w3cgroup  community group   \n",
       "1                  wcag-act            NaN        tf              NaN   \n",
       "2         a11y-discov-vocab           True  w3cgroup  community group   \n",
       "3                      eowg            NaN  w3cgroup    working group   \n",
       "4    accessibility4children           True  w3cgroup  community group   \n",
       "..                      ...            ...       ...              ...   \n",
       "244            webtransport            NaN  w3cgroup    working group   \n",
       "245                 webview           True  w3cgroup  community group   \n",
       "246             xformsusers           True  w3cgroup  community group   \n",
       "247              xproc-next           True  w3cgroup  community group   \n",
       "248                 xslt-40           True  w3cgroup  community group   \n",
       "\n",
       "                                                  call  \\\n",
       "0                https://api.w3.org/groups/cg/a11yedge   \n",
       "1                https://api.w3.org/groups/tf/wcag-act   \n",
       "2       https://api.w3.org/groups/cg/a11y-discov-vocab   \n",
       "3                    https://api.w3.org/groups/wg/eowg   \n",
       "4    https://api.w3.org/groups/cg/accessibility4chi...   \n",
       "..                                                 ...   \n",
       "244          https://api.w3.org/groups/wg/webtransport   \n",
       "245               https://api.w3.org/groups/cg/webview   \n",
       "246           https://api.w3.org/groups/cg/xformsusers   \n",
       "247            https://api.w3.org/groups/cg/xproc-next   \n",
       "248               https://api.w3.org/groups/cg/xslt-40   \n",
       "\n",
       "                                              homepage  \\\n",
       "0               https://www.w3.org/community/a11yedge/   \n",
       "1    https://www.w3.org/WAI/GL/task-forces/conforma...   \n",
       "2      https://www.w3.org/community/a11y-discov-vocab/   \n",
       "3            https://www.w3.org/WAI/about/groups/eowg/   \n",
       "4    https://www.w3.org/community/accessibility4chi...   \n",
       "..                                                 ...   \n",
       "244         https://www.w3.org/groups/wg/webtransport/   \n",
       "245              https://www.w3.org/community/webview/   \n",
       "246          https://www.w3.org/community/xformsusers/   \n",
       "247           https://www.w3.org/community/xproc-next/   \n",
       "248              https://www.w3.org/community/xslt-40/   \n",
       "\n",
       "                                                 users  \\\n",
       "0          https://api.w3.org/groups/cg/a11yedge/users   \n",
       "1          https://api.w3.org/groups/tf/wcag-act/users   \n",
       "2    https://api.w3.org/groups/cg/a11y-discov-vocab...   \n",
       "3              https://api.w3.org/groups/wg/eowg/users   \n",
       "4    https://api.w3.org/groups/cg/accessibility4chi...   \n",
       "..                                                 ...   \n",
       "244    https://api.w3.org/groups/wg/webtransport/users   \n",
       "245         https://api.w3.org/groups/cg/webview/users   \n",
       "246     https://api.w3.org/groups/cg/xformsusers/users   \n",
       "247      https://api.w3.org/groups/cg/xproc-next/users   \n",
       "248         https://api.w3.org/groups/cg/xslt-40/users   \n",
       "\n",
       "                                        participations  \\\n",
       "0    https://api.w3.org/groups/cg/a11yedge/particip...   \n",
       "1                                                  NaN   \n",
       "2    https://api.w3.org/groups/cg/a11y-discov-vocab...   \n",
       "3     https://api.w3.org/groups/wg/eowg/participations   \n",
       "4    https://api.w3.org/groups/cg/accessibility4chi...   \n",
       "..                                                 ...   \n",
       "244  https://api.w3.org/groups/wg/webtransport/part...   \n",
       "245  https://api.w3.org/groups/cg/webview/participa...   \n",
       "246  https://api.w3.org/groups/cg/xformsusers/parti...   \n",
       "247  https://api.w3.org/groups/cg/xproc-next/partic...   \n",
       "248  https://api.w3.org/groups/cg/xslt-40/participa...   \n",
       "\n",
       "                                                chairs  \\\n",
       "0         https://api.w3.org/groups/cg/a11yedge/chairs   \n",
       "1         https://api.w3.org/groups/tf/wcag-act/chairs   \n",
       "2    https://api.w3.org/groups/cg/a11y-discov-vocab...   \n",
       "3             https://api.w3.org/groups/wg/eowg/chairs   \n",
       "4    https://api.w3.org/groups/cg/accessibility4chi...   \n",
       "..                                                 ...   \n",
       "244   https://api.w3.org/groups/wg/webtransport/chairs   \n",
       "245        https://api.w3.org/groups/cg/webview/chairs   \n",
       "246    https://api.w3.org/groups/cg/xformsusers/chairs   \n",
       "247     https://api.w3.org/groups/cg/xproc-next/chairs   \n",
       "248        https://api.w3.org/groups/cg/xslt-40/chairs   \n",
       "\n",
       "                                               members internal  \\\n",
       "0                                                  NaN      NaN   \n",
       "1    [{'id': 35422, 'name': 'Accessibility Guidelin...    False   \n",
       "2                                                  NaN      NaN   \n",
       "3                                                  NaN      NaN   \n",
       "4                                                  NaN      NaN   \n",
       "..                                                 ...      ...   \n",
       "244                                                NaN      NaN   \n",
       "245                                                NaN      NaN   \n",
       "246                                                NaN      NaN   \n",
       "247                                                NaN      NaN   \n",
       "248                                                NaN      NaN   \n",
       "\n",
       "    participants_list_public  start-date    end-date  \n",
       "0                        NaN         NaN         NaN  \n",
       "1                       True         NaN         NaN  \n",
       "2                        NaN         NaN         NaN  \n",
       "3                        NaN  1998-03-10  2024-06-30  \n",
       "4                        NaN         NaN         NaN  \n",
       "..                       ...         ...         ...  \n",
       "244                      NaN  2020-09-08  2024-08-31  \n",
       "245                      NaN         NaN         NaN  \n",
       "246                      NaN         NaN         NaN  \n",
       "247                      NaN         NaN         NaN  \n",
       "248                      NaN         NaN         NaN  \n",
       "\n",
       "[249 rows x 18 columns]"
      ]
     },
     "execution_count": 30,
     "metadata": {},
     "output_type": "execute_result"
    }
   ],
   "source": [
    "gproperties_df"
   ]
  },
  {
   "cell_type": "code",
   "execution_count": 9,
   "id": "96eb16e8-40dd-4082-b32f-d4464ed337e4",
   "metadata": {},
   "outputs": [],
   "source": [
    "# Save data:\n",
    "today = date.today().strftime('%Y-%m-%d')\n",
    "#gproperties_df.to_csv('../data/raw/api/w3c_groups_properties_{}.csv'.format(today), index=False)"
   ]
  },
  {
   "cell_type": "markdown",
   "id": "5347e226-1f11-4109-8d93-f026ab9c8776",
   "metadata": {},
   "source": [
    "#### Links to Participants"
   ]
  },
  {
   "cell_type": "code",
   "execution_count": 24,
   "id": "3be7df85-183e-46ce-abdb-08ed62b4983e",
   "metadata": {},
   "outputs": [
    {
     "name": "stdout",
     "output_type": "stream",
     "text": [
      "0 1 2 3 4 5 6 7 8 9 10 11 12 13 14 15 16 17 18 19 20 21 22 23 24 25 26 27 28 29 30 31 32 33 34 35 36 37 38 39 40 41 42 43 44 45 46 47 48 49 50 51 52 53 54 55 56 57 58 59 60 61 62 63 64 65 66 67 68 69 70 71 72 73 74 75 76 77 78 79 80 81 82 83 84 85 86 87 88 89 90 91 92 93 94 95 96 97 98 99 100 101 102 103 104 105 106 107 108 109 110 111 112 113 114 115 116 117 118 119 120 121 122 123 124 125 126 127 128 129 130 131 132 133 134 135 136 137 138 139 140 141 142 143 144 145 146 147 148 149 150 151 152 153 154 155 156 157 158 159 160 161 162 163 164 165 166 167 168 169 170 171 172 173 174 175 176 177 178 179 180 181 182 183 184 185 186 187 188 189 190 191 192 193 194 195 196 197 198 199 200 201 202 203 204 205 206 207 208 209 210 211 212 213 214 215 216 217 218 219 220 221 222 223 224 225 226 227 228 229 230 231 232 233 234 235 236 237 238 239 240 241 242 243 244 245 246 247 "
     ]
    }
   ],
   "source": [
    "# Select groups with users:\n",
    "groups_w_users_df = gproperties_df.dropna(subset='users')\n",
    "\n",
    "# Loop over groups:\n",
    "for i in range(0, len(groups_w_users_df)):\n",
    "    print(i, end=' ')\n",
    "    # Select group:\n",
    "    group_card = groups_w_users_df.iloc[i]\n",
    "    # Get list of users:\n",
    "    endpoint = group_card['users']\n",
    "    group_members = wa.get_all_data(endpoint)\n",
    "    group_members_df = pd.DataFrame(group_members)\n",
    "    group_members_df['call'] = endpoint\n",
    "    # Save:\n",
    "    today = date.today().strftime('%Y-%m-%d')\n",
    "    gid = wa.unique_shortname(group_card['users'])\n",
    "    #group_members_df.to_csv('../data/raw/api/w3c_participants_group-{:}_{:}.csv'.format(gid, today), index=False)"
   ]
  },
  {
   "cell_type": "markdown",
   "id": "f6d23b4b-aff2-42e2-940a-569df2b47369",
   "metadata": {},
   "source": [
    "#### Links to chairs"
   ]
  },
  {
   "cell_type": "code",
   "execution_count": 33,
   "id": "00acaca3-7b3d-4fab-94c8-03fe20ce0ef4",
   "metadata": {},
   "outputs": [
    {
     "name": "stdout",
     "output_type": "stream",
     "text": [
      "0 1 2 3 4 5 6 7 8 9 10 11 12 13 14 15 16 17 18 19 20 21 22 23 24 25 26 27 28 29 30 31 32 33 34 35 36 37 38 39 40 41 42 43 44 45 46 47 48 49 50 51 52 53 54 55 56 57 58 59 60 61 62 63 64 65 66 67 68 69 70 71 72 73 74 75 76 77 78 79 80 81 82 83 84 85 86 87 88 89 90 91 92 93 94 95 96 97 98 99 100 101 102 103 104 105 106 107 108 109 110 111 112 113 114 115 116 117 118 119 120 121 122 123 124 125 126 127 128 129 130 131 132 133 134 135 136 137 138 139 140 141 142 143 144 145 146 147 148 149 150 151 152 153 154 155 156 157 158 159 160 161 162 163 164 165 166 167 168 169 170 171 172 173 174 175 176 177 178 179 180 181 182 183 184 185 186 187 188 189 190 191 192 193 194 195 196 197 198 199 200 201 202 203 204 205 206 207 208 209 210 211 212 213 214 215 216 217 218 219 220 221 222 223 224 225 226 227 228 229 230 231 232 233 234 235 236 237 238 239 240 241 242 243 244 245 246 247 248 "
     ]
    }
   ],
   "source": [
    "# Select groups with users:\n",
    "groups_w_chairs_df = gproperties_df.dropna(subset='chairs')\n",
    "\n",
    "# Loop over groups:\n",
    "for i in range(0, len(groups_w_chairs_df)):\n",
    "    print(i, end=' ')\n",
    "    # Select group:\n",
    "    group_card = groups_w_chairs_df.iloc[i]\n",
    "    # Get list of users:\n",
    "    endpoint = group_card['chairs']\n",
    "    group_chairs = wa.get_all_data(endpoint)\n",
    "    group_chairs_df = pd.DataFrame(group_chairs)\n",
    "    group_chairs_df['call'] = endpoint\n",
    "    # Save:\n",
    "    today = date.today().strftime('%Y-%m-%d')\n",
    "    gid = wa.unique_shortname(group_card['chairs'])\n",
    "    #group_chairs_df.to_csv('../data/raw/api/w3c_chairs_group-{:}_{:}.csv'.format(gid, today), index=False)"
   ]
  },
  {
   "cell_type": "markdown",
   "id": "1b37c59b-84b4-4a32-a497-7dee11e271b9",
   "metadata": {
    "jp-MarkdownHeadingCollapsed": true,
    "tags": []
   },
   "source": [
    "### Participants' affiliations"
   ]
  },
  {
   "cell_type": "code",
   "execution_count": 3,
   "id": "4c553f38-b45f-48f6-bbcf-1f44c26ba546",
   "metadata": {},
   "outputs": [],
   "source": [
    "# Load raw data about group participants:\n",
    "group_participants_df = wa.load_raw_api_data('../data/raw/api/w3c_participants_group-*_2024-07-25.csv')\n",
    "\n",
    "# Users affiliations endpoints:\n",
    "aff_endpoints = group_participants_df['href'].drop_duplicates() + '/affiliations'"
   ]
  },
  {
   "cell_type": "code",
   "execution_count": 4,
   "id": "d786a4f2-4442-470e-9416-7b8ea3a0cf84",
   "metadata": {},
   "outputs": [
    {
     "name": "stdout",
     "output_type": "stream",
     "text": [
      "000 001 002 003 004 005 006 007 008 009 010 011 012 013 014 015 016 017 018 019 020 021 022 023 024 025 026 027 028 029 030 031 032 033 034 035 036 037 038 039 040 041 042 043 044 045 046 047 048 049 050 051 052 053 054 055 056 057 058 059 060 061 062 063 064 065 066 067 068 069 070 071 072 073 074 075 076 077 078 079 080 081 082 083 084 085 086 087 088 089 090 091 092 093 094 095 096 097 098 099 100 101 102 103 104 105 106 107 108 109 110 111 112 113 114 115 116 117 118 119 120 121 122 123 124 125 126 127 128 129 130 "
     ]
    }
   ],
   "source": [
    "# Capture parameters:\n",
    "batch_size = 100\n",
    "# Derived parameters:\n",
    "n_users = len(aff_endpoints)\n",
    "n_batches = int(n_users / batch_size) + 1\n",
    "n_digits = len(str(n_batches))\n",
    "\n",
    "# Loop over batches:\n",
    "for b in range(0, n_batches):\n",
    "    # Batch label:\n",
    "    batch_label = str(b).zfill(n_digits)\n",
    "    print(batch_label, end=' ')\n",
    "\n",
    "    # Batch limits:\n",
    "    b_start = b * batch_size\n",
    "    b_end   = (b + 1) * batch_size\n",
    "\n",
    "    # Loop over users (group participants):\n",
    "    affs_dfs = [ wa.get_user_affiliations(aff_endpoints.iloc[i]) for i in range(b_start, min(b_end, n_users)) ]\n",
    "\n",
    "    # Save batch data:\n",
    "    today = date.today().strftime('%Y-%m-%d')\n",
    "    users_affs_df = pd.concat(affs_dfs, ignore_index=True)\n",
    "    #users_affs_df.to_csv('../data/raw/api/w3c_affiliations_batch-{:}_{:}.csv'.format(batch_label, today), index=False)"
   ]
  },
  {
   "cell_type": "code",
   "execution_count": 16,
   "id": "699db589-a6ea-4036-bdf4-95ee95b91339",
   "metadata": {},
   "outputs": [
    {
     "data": {
      "text/plain": [
       "True"
      ]
     },
     "execution_count": 16,
     "metadata": {},
     "output_type": "execute_result"
    }
   ],
   "source": [
    "# Link para organização e seu nome são identificadores:\n",
    "assert xe.one2oneQ(users_affs_df, 'href', 'title')\n",
    "# Cada conexão entre usuário e organização só aparece uma vez:\n",
    "assert xd.iskeyQ(users_affs_df)"
   ]
  },
  {
   "cell_type": "markdown",
   "id": "4d28be3c-a321-41e3-9665-d95759cb1270",
   "metadata": {
    "tags": []
   },
   "source": [
    "### Organizations' details"
   ]
  },
  {
   "cell_type": "code",
   "execution_count": 3,
   "id": "1a062982-030f-4121-9313-9f77f51cb744",
   "metadata": {},
   "outputs": [],
   "source": [
    "# Load raw data about participants' affiliations:\n",
    "affiliations_df = wa.load_raw_api_data('../data/raw/api/w3c_affiliations_batch-*_2024-07-25.csv')"
   ]
  },
  {
   "cell_type": "code",
   "execution_count": 4,
   "id": "db7cbafc-a107-481e-8b60-3b81b9cc9a0c",
   "metadata": {},
   "outputs": [],
   "source": [
    "# Endpoints with the organizations' details:\n",
    "org_endpoints = affiliations_df['href'].drop_duplicates()"
   ]
  },
  {
   "cell_type": "code",
   "execution_count": 52,
   "id": "657b955e-aa19-4c1a-9255-3138a664878d",
   "metadata": {},
   "outputs": [
    {
     "name": "stdout",
     "output_type": "stream",
     "text": [
      "40 "
     ]
    }
   ],
   "source": [
    "# Capture parameters:\n",
    "batch_size = 100\n",
    "# Derived parameters:\n",
    "n_orgs = len(org_endpoints)\n",
    "n_batches = int(n_orgs / batch_size) + 1\n",
    "n_digits = len(str(n_batches))\n",
    "\n",
    "# Loop over batches:\n",
    "for b in range(0, n_batches):\n",
    "    # Batch label:\n",
    "    batch_label = str(b).zfill(n_digits)\n",
    "    print(batch_label, end=' ')\n",
    "\n",
    "    # Batch limits:\n",
    "    b_start = b * batch_size\n",
    "    b_end   = (b + 1) * batch_size\n",
    "\n",
    "    # Loop over organizations (participants affiliations):\n",
    "    orgs = [wa.get_properties(org_endpoints.iloc[i], []) for i in range(b_start, min(b_end, n_orgs)) ]\n",
    "\n",
    "    # Save batch data:\n",
    "    today = date.today().strftime('%Y-%m-%d')\n",
    "    orgs_df = pd.DataFrame(orgs)\n",
    "    #orgs_df.to_csv('../data/raw/api/w3c_organizations_batch-{:}_{:}.csv'.format(batch_label, today), index=False)"
   ]
  },
  {
   "cell_type": "markdown",
   "id": "13fe5f11-f139-454c-988a-d7ff909da4eb",
   "metadata": {
    "tags": []
   },
   "source": [
    "### Affiliations"
   ]
  },
  {
   "cell_type": "markdown",
   "id": "c59ca7e2-4b38-4357-8e2f-5548ebcb684f",
   "metadata": {},
   "source": [
    "#### List"
   ]
  },
  {
   "cell_type": "code",
   "execution_count": null,
   "id": "22a66573-68f1-425e-bef9-69d6d47d7e5a",
   "metadata": {},
   "outputs": [],
   "source": [
    "affiliations = wa.get_all_data('https://api.w3.org/affiliations')\n",
    "affiliations_df = pd.DataFrame(affiliations)"
   ]
  },
  {
   "cell_type": "code",
   "execution_count": 73,
   "id": "e37b12a7-3ad1-451d-bbf7-4bcda363a997",
   "metadata": {},
   "outputs": [
    {
     "data": {
      "text/html": [
       "<div>\n",
       "<style scoped>\n",
       "    .dataframe tbody tr th:only-of-type {\n",
       "        vertical-align: middle;\n",
       "    }\n",
       "\n",
       "    .dataframe tbody tr th {\n",
       "        vertical-align: top;\n",
       "    }\n",
       "\n",
       "    .dataframe thead th {\n",
       "        text-align: right;\n",
       "    }\n",
       "</style>\n",
       "<table border=\"1\" class=\"dataframe\">\n",
       "  <thead>\n",
       "    <tr style=\"text-align: right;\">\n",
       "      <th></th>\n",
       "      <th>href</th>\n",
       "      <th>title</th>\n",
       "    </tr>\n",
       "  </thead>\n",
       "  <tbody>\n",
       "    <tr>\n",
       "      <th>0</th>\n",
       "      <td>https://api.w3.org/affiliations/1001</td>\n",
       "      <td>Framkom (Forskningsaktiebolaget Medie-och Komm...</td>\n",
       "    </tr>\n",
       "    <tr>\n",
       "      <th>1</th>\n",
       "      <td>https://api.w3.org/affiliations/1003</td>\n",
       "      <td>BackWeb Technologies, Inc.</td>\n",
       "    </tr>\n",
       "    <tr>\n",
       "      <th>2</th>\n",
       "      <td>https://api.w3.org/affiliations/1005</td>\n",
       "      <td>Bull S.A.</td>\n",
       "    </tr>\n",
       "    <tr>\n",
       "      <th>3</th>\n",
       "      <td>https://api.w3.org/affiliations/1011</td>\n",
       "      <td>Digital Island, Inc.</td>\n",
       "    </tr>\n",
       "    <tr>\n",
       "      <th>4</th>\n",
       "      <td>https://api.w3.org/affiliations/1013</td>\n",
       "      <td>University of Bristol</td>\n",
       "    </tr>\n",
       "    <tr>\n",
       "      <th>...</th>\n",
       "      <td>...</td>\n",
       "      <td>...</td>\n",
       "    </tr>\n",
       "    <tr>\n",
       "      <th>15190</th>\n",
       "      <td>https://api.w3.org/affiliations/157658</td>\n",
       "      <td>xXx</td>\n",
       "    </tr>\n",
       "    <tr>\n",
       "      <th>15191</th>\n",
       "      <td>https://api.w3.org/affiliations/157660</td>\n",
       "      <td>abinfocom</td>\n",
       "    </tr>\n",
       "    <tr>\n",
       "      <th>15192</th>\n",
       "      <td>https://api.w3.org/affiliations/157662</td>\n",
       "      <td>Ja Genau So</td>\n",
       "    </tr>\n",
       "    <tr>\n",
       "      <th>15193</th>\n",
       "      <td>https://api.w3.org/affiliations/157664</td>\n",
       "      <td>Tampa general hospital</td>\n",
       "    </tr>\n",
       "    <tr>\n",
       "      <th>15194</th>\n",
       "      <td>https://api.w3.org/affiliations/157668</td>\n",
       "      <td>Adostrophe Digital Marketing Pvt Ltd</td>\n",
       "    </tr>\n",
       "  </tbody>\n",
       "</table>\n",
       "<p>15195 rows × 2 columns</p>\n",
       "</div>"
      ],
      "text/plain": [
       "                                         href  \\\n",
       "0        https://api.w3.org/affiliations/1001   \n",
       "1        https://api.w3.org/affiliations/1003   \n",
       "2        https://api.w3.org/affiliations/1005   \n",
       "3        https://api.w3.org/affiliations/1011   \n",
       "4        https://api.w3.org/affiliations/1013   \n",
       "...                                       ...   \n",
       "15190  https://api.w3.org/affiliations/157658   \n",
       "15191  https://api.w3.org/affiliations/157660   \n",
       "15192  https://api.w3.org/affiliations/157662   \n",
       "15193  https://api.w3.org/affiliations/157664   \n",
       "15194  https://api.w3.org/affiliations/157668   \n",
       "\n",
       "                                                   title  \n",
       "0      Framkom (Forskningsaktiebolaget Medie-och Komm...  \n",
       "1                             BackWeb Technologies, Inc.  \n",
       "2                                              Bull S.A.  \n",
       "3                                   Digital Island, Inc.  \n",
       "4                                  University of Bristol  \n",
       "...                                                  ...  \n",
       "15190                                                xXx  \n",
       "15191                                          abinfocom  \n",
       "15192                                        Ja Genau So  \n",
       "15193                             Tampa general hospital  \n",
       "15194               Adostrophe Digital Marketing Pvt Ltd  \n",
       "\n",
       "[15195 rows x 2 columns]"
      ]
     },
     "execution_count": 73,
     "metadata": {},
     "output_type": "execute_result"
    }
   ],
   "source": [
    "affiliations_df"
   ]
  },
  {
   "cell_type": "code",
   "execution_count": 74,
   "id": "d1035179-99ee-4555-83ef-7e2dfc9e8749",
   "metadata": {},
   "outputs": [],
   "source": [
    "# Save data:\n",
    "today = date.today().strftime('%Y-%m-%d')\n",
    "#affiliations_df.to_csv('../data/raw/api/w3c_organizations_list_{}.csv'.format(today), index=False)"
   ]
  },
  {
   "cell_type": "markdown",
   "id": "ace655fc-7b9f-4f1f-9ac1-84124a533553",
   "metadata": {},
   "source": [
    "#### Properties"
   ]
  },
  {
   "cell_type": "code",
   "execution_count": null,
   "id": "7bec1810-0409-4d89-8090-c2142e88b2e8",
   "metadata": {},
   "outputs": [],
   "source": [
    "# Capture parameters:\n",
    "org_extras = ['homepage', 'participants', 'participations', 'logo']\n",
    "batch_size = 100\n",
    "# Derived parameters:\n",
    "n_orgs = len(affiliations_df)\n",
    "n_batches = int(n_orgs / batch_size) + 1\n",
    "n_digits = len(str(n_batches))\n",
    "\n",
    "# Loop over batches:\n",
    "for b in range(0, n_batches):\n",
    "    # Batch label:\n",
    "    batch_label = str(b).zfill(n_digits)\n",
    "    print(batch_label, end=' ')\n",
    "\n",
    "    # Batch limits:\n",
    "    b_start = b * batch_size\n",
    "    b_end   = (b + 1) * batch_size\n",
    "\n",
    "    # Loop over organizations:\n",
    "    org_properties = [wa.get_properties(affiliations_df.iloc[i]['href'], org_extras, True) for i in range(b_start, min(b_end, n_orgs))]\n",
    "\n",
    "    # Save batch data:\n",
    "    today = date.today().strftime('%Y-%m-%d')\n",
    "    oproperties_df = pd.DataFrame(org_properties)\n",
    "    oproperties_df.to_csv('../data/raw/api/w3c_organizations_batch-{:}_{:}.csv'.format(batch_label, today), index=False)"
   ]
  },
  {
   "cell_type": "markdown",
   "id": "95e4bcdf-d13d-408c-bf0a-8d7264d37144",
   "metadata": {
    "tags": []
   },
   "source": [
    "### Participants"
   ]
  },
  {
   "cell_type": "markdown",
   "id": "43295e4b-bccb-414a-af98-50f8fce74b99",
   "metadata": {},
   "source": [
    "#### List"
   ]
  },
  {
   "cell_type": "code",
   "execution_count": 155,
   "id": "b603fbb7-7351-43be-bb7d-1bab21389635",
   "metadata": {},
   "outputs": [],
   "source": [
    "# Load organization files:\n",
    "org_files = glob('../data/raw/api/w3c_organizations_batch-*_2024-07-06.csv')\n",
    "org_details_df = pd.concat([pd.read_csv(f) for f in org_files], ignore_index=True)\n",
    "# Remove 404 NOT FOUND organizations:\n",
    "existing_orgs_df = org_details_df.loc[~org_details_df['participants'].isnull()]"
   ]
  },
  {
   "cell_type": "code",
   "execution_count": 150,
   "id": "e58560db-aee6-45d1-b9f2-53176da3ee94",
   "metadata": {},
   "outputs": [
    {
     "name": "stdout",
     "output_type": "stream",
     "text": [
      "2 22 25 30 32 34 45 49 50 55 60 63 69 72 73 75 76 80 91 102 105 126 141 146 158 160 170 195 198 216 224 232 237 243 254 255 257 264 266 276 282 287 298 299 300 304 310 320 323 324 327 329 338 345 363 365 369 376 377 379 395 406 410 424 432 448 454 457 460 464 467 470 473 475 482 489 494 509 511 512 514 518 523 525 526 528 529 533 536 537 538 540 541 544 545 551 552 554 558 560 575 576 581 583 585 590 591 606 624 631 634 635 643 646 659 666 669 670 675 681 695 707 708 709 711 718 720 724 725 726 737 738 740 745 746 750 752 757 759 761 763 766 769 770 772 775 777 779 783 785 786 789 790 792 794 807 810 817 823 824 825 828 829 831 834 838 841 844 850 853 855 856 857 860 863 864 865 870 872 874 876 879 881 886 888 893 897 899 910 911 912 914 922 929 936 939 942 947 948 954 957 961 962 965 976 978 992 1003 1006 1010 1019 1025 1032 1036 1039 1043 1046 1050 1051 1059 1063 1077 1079 1081 1089 1098 1109 1111 1116 1121 1131 1143 1145 1155 1168 1169 1170 1175 1181 1183 1188 1191 1193 1203 1207 1208 1213 1221 1224 1227 1229 1235 1244 1245 1249 1250 1252 1255 1257 1258 1260 1264 1276 1280 1281 1289 1298 1307 1313 1314 1315 1319 1329 1333 1343 1351 1366 1378 1382 1391 1400 1404 1414 1417 1418 1419 1421 1424 1428 1430 1435 1436 1442 1443 1446 1448 1452 1454 1455 1464 1465 1469 1473 1475 1476 1477 1478 1480 1485 1487 1489 1490 1494 1496 1547 1548 1553 1613 1621 1622 1624 1631 1633 1635 1636 1638 1642 1653 1663 1666 1668 1669 1677 1679 1682 1686 1688 1690 1691 1701 1703 1706 1707 1708 1709 1720 1730 1732 1734 1739 1759 1775 1786 1797 1802 1812 1813 1814 1815 1821 1826 1831 1833 1834 1837 1840 1842 1848 1859 1862 1863 1864 1866 1869 1881 1887 1889 1892 1895 1896 1899 1907 1908 1916 1918 1921 1931 1932 1939 1941 1944 1950 1953 1954 1957 1959 1971 1978 1983 1995 1997 1999 2003 2007 2008 2022 2026 2036 2045 2046 2049 2066 2072 2074 2075 2081 2082 2087 2096 2099 2109 2111 2113 2116 2118 2131 2132 2136 2151 2152 2161 2168 2175 2181 2183 2199 2200 2225 2231 2238 2247 2250 2260 2262 2278 2296 2297 2313 2314 2316 2320 2324 2330 2332 2336 2346 2352 2358 2359 2364 2366 2371 2373 2377 2383 2388 2393 2395 2397 2399 2403 2414 2416 2417 2421 2431 2434 2435 2444 2445 2448 2452 2454 2461 2465 2466 2467 2468 2470 2472 2473 2477 2480 2482 2488 2489 2491 2495 2500 2504 2507 2508 2514 2515 2516 2527 2529 2542 2544 2547 2548 2554 2563 2565 2567 2570 2573 2576 2579 2580 2586 2591 2592 2594 2595 2598 2599 2611 2623 2625 2628 2629 2640 2643 2644 2658 2659 2660 2666 2671 2673 2676 2681 2682 2686 2701 2703 2704 2708 2710 2721 2733 2743 2755 2761 2768 2773 2780 2785 2786 2788 2791 2796 2799 2800 2817 2820 2837 2863 2867 2882 2888 2897 2899 2911 2912 2917 2928 2932 2935 2938 2939 2946 2963 2965 2972 2980 2982 2983 2984 2987 2988 3001 3005 3013 3021 3028 3036 3037 3043 3044 3048 3058 3060 3067 3070 3080 3088 3102 3118 3120 3134 3149 3156 3170 3181 3187 3190 3200 3202 3205 3207 3209 3211 3214 3222 3224 3227 3232 3233 3236 3240 3243 3244 3245 3247 3255 3263 3269 3270 3275 3279 3291 3297 3303 3306 3308 3316 3320 3339 3342 3347 3348 3350 3352 3376 3382 3387 3388 3392 3401 3403 3407 3410 3411 3428 3436 3444 3445 3448 3450 3453 3454 3458 3462 3468 3470 3473 3474 3480 3489 3490 3492 3496 3498 3499 3514 3525 3553 3558 3562 3571 3585 3592 3629 3630 3632 3643 3650 3651 3659 3664 3695 3702 3705 3733 3734 3735 3736 3737 3741 3743 3744 3745 3749 3755 3758 3759 3765 3774 3776 3785 3786 3790 3792 3798 3801 3806 3810 3814 3815 3820 3826 3831 3832 3833 3847 3850 3863 3870 3871 3876 3878 3889 3893 3895 3897 3916 3917 3920 3925 3937 3939 3957 3969 3976 3984 3994 3996 3998 4011 4013 4014 4023 4027 4040 4050 4055 4063 4083 4098 4101 4102 4109 4111 4112 4115 4116 4125 4126 4128 4129 4130 4132 4139 4140 4143 4144 4148 4149 4150 4153 4154 4156 4160 4162 4167 4186 4187 4188 4190 4196 4201 4207 4210 4211 4221 4222 4225 4240 4244 4248 4270 4283 4287 4288 4292 4298 4307 4312 4325 4327 4334 4339 4342 4354 4355 4357 4359 4364 4365 4371 4374 4377 4379 4382 4383 4386 4399 4406 4415 4417 4431 4433 4442 4457 4473 4474 4476 4486 4491 4494 4498 4499 4511 4515 4519 4529 4543 4546 4553 4556 4557 4558 4564 4565 4577 4579 4586 4604 4606 4607 4613 4615 4617 4622 4626 4627 4633 4636 4641 4646 4665 4671 4673 4681 4684 4689 4692 4697 4708 4709 4710 4711 4733 4744 4746 4753 4768 4769 4772 4780 4783 4785 4801 4806 4810 4813 4825 4827 4835 4843 4852 4854 4859 4861 4870 4873 4874 4876 4888 4896 4901 4905 4910 4911 4928 4932 4939 4941 4943 4957 4959 4960 4962 4977 4980 4993 4999 5000 5002 5016 5019 5025 5030 5043 5051 5055 5061 5072 5074 5082 5089 5090 5093 5095 5104 5116 5118 5127 5132 5136 5137 5138 5139 5156 5157 5177 5179 5181 5189 5190 5201 5203 5212 5214 5218 5220 5227 5232 5244 5251 5256 5269 5273 5274 5279 5281 5285 5288 5295 5301 5307 5310 5312 5318 5319 5321 5322 5339 5341 5342 5353 5354 5355 5365 5368 5374 5377 5410 5412 5427 5439 5443 5452 5455 5477 5485 5488 5490 5494 5495 5496 5497 5499 5500 5504 5505 5507 5527 5532 5533 5535 5536 5542 5543 5544 5549 5555 5557 5561 5564 5565 5566 5575 5578 5579 5593 5597 5598 5605 5606 5607 5608 5609 5610 5611 5612 5616 5617 5618 5623 5627 5633 5635 5637 5638 5657 5659 5667 5676 5681 5682 5685 5694 5701 5703 5705 5710 5711 5714 5716 5717 5720 5721 5725 5730 5736 5738 5741 5749 5750 5752 5757 5759 5760 5761 5773 5774 5776 5787 5794 5795 5809 5815 5819 5824 5827 5830 5832 5835 5838 5843 5847 5849 5850 5858 5859 5863 5868 5870 5871 5878 5880 5887 5888 5906 5912 5916 5921 5923 5926 5930 5931 5937 5942 5960 5967 5969 5973 5975 5983 5988 5990 5998 6001 6007 6008 6021 6025 6037 6043 6048 6052 6053 6059 6060 6070 6073 6074 6081 6082 6093 6096 6099 6110 6111 6117 6125 6141 6144 6149 6163 6176 6184 6190 6191 6203 6207 6208 6211 6214 6215 6219 6222 6223 6224 6227 6231 6234 6237 6239 6241 6242 6243 6247 6248 6250 6251 6252 6253 6257 6260 6264 6265 6272 6278 6280 6287 6288 6290 6292 6293 6303 6314 6320 6321 6322 6328 6332 6337 6338 6341 6344 6345 6347 6348 6353 6359 6362 6366 6372 6374 6375 6378 6381 6382 6386 6400 6403 6407 6412 6424 6426 6429 6430 6438 6442 6454 6461 6470 6474 6475 6476 6488 6489 6495 6503 6508 6511 6515 6516 6519 6521 6522 6523 6524 6525 6529 6531 6534 6538 6541 6543 6547 6556 6558 6559 6566 6569 6571 6576 6581 6584 6591 6592 6594 6598 6599 6601 6609 6612 6616 6619 6620 6621 6628 6640 6647 6651 6656 6658 6660 6664 6665 6669 6674 6677 6685 6688 6689 6717 6750 6760 6761 6773 6774 6779 6785 6790 6796 6800 6801 6817 6819 6828 6833 6834 6839 6840 6843 6853 6858 6862 6864 6871 6878 6883 6887 6902 6904 6911 6918 6919 6924 6947 6948 6950 6972 6990 6992 6998 6999 7001 7004 7007 7016 7019 7028 7030 7033 7040 7042 7049 7054 7057 7067 7080 7083 7090 7093 7103 7104 7107 7108 7111 7112 7119 7120 7121 7128 7132 7135 7136 7139 7144 7148 7150 7162 7168 7169 7170 7171 7175 7183 7184 7186 7189 7192 7194 7195 7196 7199 7207 7210 7212 7214 7238 7241 7242 7243 7246 7250 7253 7262 7267 7268 7269 7271 7280 7282 7288 7295 7300 7301 7307 7309 7310 7314 7331 7347 7348 7358 7360 7362 7366 7385 7390 7392 7393 7396 7397 7403 7405 7408 7410 7423 7433 7444 7449 7455 7456 7457 7458 7461 7463 7464 7475 7479 7484 7490 7494 7498 7500 7506 7507 7509 7513 7517 7520 7522 7524 7525 7528 7542 7544 7548 7555 7559 7561 7565 7568 7571 7573 7575 7580 7583 7586 7588 7596 7611 7617 7621 7622 7623 7625 7639 7640 7645 7647 7651 7658 7662 7663 7669 7670 7674 7678 7682 7691 7694 7705 7707 7715 7718 7720 7724 7728 7732 7743 7744 7750 7752 7758 7767 7770 7777 7778 7791 7793 7795 7796 7797 7801 7806 7810 7813 7838 7852 7855 7860 7865 7877 7885 7887 7891 7894 7906 7924 7929 7945 7950 7971 7978 7992 7993 7997 7999 8002 8005 8008 8011 8013 8019 8021 8025 8028 8037 8038 8040 8044 8045 8046 8050 8053 8058 8059 8062 8064 8068 8072 8073 8077 8080 8081 8085 8092 8100 8111 8114 8119 8127 8128 8130 8133 8136 8141 8147 8154 8161 8163 8167 8168 8182 8183 8184 8189 8192 8193 8194 8196 8202 8204 8205 8207 8238 8241 8249 8250 8252 8254 8258 8272 8273 8276 8280 8283 8284 8285 8289 8292 8295 8299 8300 8301 8304 8318 8320 8334 8335 8336 8339 8340 8342 8343 8349 8352 8353 8358 8363 8372 8374 8376 8381 8385 8387 8394 8405 8420 8422 8423 8424 8426 8434 8441 8442 8445 8447 8449 8450 8455 8460 8465 8466 8471 8473 8474 8479 8506 8515 8540 8548 8553 8562 8568 8574 8588 8594 8599 8603 8608 8613 8618 8620 8621 8624 8627 8630 8636 8650 8654 8656 8657 8659 8663 8664 8667 8670 8671 8672 8674 8679 8684 8686 8688 8691 8692 8693 8695 8696 8697 8699 8702 8707 8717 8720 8724 8731 8734 8738 8739 8744 8755 8760 8763 8765 8775 8776 8777 8779 8780 8785 8819 8829 8854 8860 8861 8863 8874 8877 8888 8889 8903 8908 8914 8916 8918 8921 8932 8934 8948 8953 8958 8963 8971 8983 8988 8991 8992 8996 9000 9005 9013 9017 9020 9024 9025 9026 9031 9032 9034 9037 9041 9042 9044 9051 9053 9058 9060 9065 9070 9071 9072 9074 9083 9092 9111 9115 9118 9132 9145 9150 9156 9157 9160 9176 9177 9184 9185 9192 9199 9200 9203 9205 9207 9214 9215 9216 9217 9218 9219 9222 9224 9231 9234 9235 9236 9237 9238 9239 9240 9241 9246 9248 9249 9251 9252 9253 9256 9258 9259 9260 9261 9276 9277 9278 9280 9286 9289 9290 9305 9307 9313 9319 9331 9332 9338 9340 9341 9362 9371 9379 9382 9385 9388 9391 9395 9396 9398 9399 9400 9401 9418 9419 9420 9421 9427 9430 9434 9439 9443 9444 9453 9454 9456 9457 9458 9462 9463 9466 9469 9472 9481 9486 9493 9498 9501 9502 9503 9506 9507 9511 9512 9514 9516 9517 9519 9520 9544 9546 9547 9550 9551 9561 9569 9570 9582 9583 9589 9590 9591 9598 9608 9614 9616 9623 9639 9643 9663 9678 9691 9692 9702 9706 9708 9710 9726 9727 9729 9730 9735 9740 9745 9752 9754 9762 9766 9768 9777 9779 9783 9786 9789 9795 9801 9806 9814 9817 9819 9822 9823 9825 9829 9830 9831 9834 9835 9839 9840 9852 9853 9858 9860 9866 9871 9874 9878 9880 9885 9888 9889 9892 9893 9897 9910 9914 9916 9920 9921 9929 9933 9934 9936 9941 9942 9943 9949 9951 9952 9953 9956 9957 9958 9964 9967 9968 9972 9973 9974 9975 9976 9978 9979 9981 9986 9994 9995 9996 9997 10000 10002 10004 10006 10009 10010 10013 10014 10020 10026 10029 10030 10033 10039 10040 10041 10043 10045 10049 10051 10057 10059 10060 10065 10070 10071 10074 10075 10076 10082 10083 10085 10086 10097 10102 10110 10113 10117 10122 10123 10132 10136 10137 10139 10149 10152 10157 10160 10172 10176 10177 10180 10181 10182 10200 10201 10206 10219 10226 10230 10241 10244 10246 10251 10255 10256 10262 10263 10265 10270 10276 10281 10288 10301 10302 10305 10314 10316 10322 10323 10326 10330 10335 10341 10342 10352 10358 10366 10371 10372 10374 10376 10381 10384 10386 10390 10393 10394 10395 10405 10408 10410 10411 10416 10418 10419 10422 10425 10427 10429 10433 10437 10440 10441 10443 10447 10450 10453 10455 10472 10473 10474 10479 10481 10485 10486 10489 10493 10496 10498 10499 10503 10505 10506 10508 10509 10511 10512 10517 10533 10535 10539 10548 10549 10562 10572 10573 10574 10576 10584 10586 10588 10591 10594 10595 10596 10601 10610 10614 10615 10616 10619 10621 10622 10633 10634 10638 10640 10641 10652 10655 10658 10662 10664 10669 10670 10672 10682 10683 10684 10695 10696 10707 10710 10728 10734 10740 10741 10748 10765 10777 10793 10807 10838 10839 10842 10843 10854 10877 10888 10889 10891 10894 10897 10901 10905 10908 10910 10915 10924 10925 10927 10931 10932 10945 10948 10949 10951 10954 10956 10960 10966 10968 10972 10974 10975 10977 10978 10982 10986 11014 11015 11029 11030 11033 11040 11042 11043 11049 11052 11053 11056 11061 11063 11065 11069 11073 11079 11083 11084 11085 11087 11090 11095 11097 11098 11113 11118 11124 11140 11145 11147 11148 11150 11153 11154 11160 11161 11163 11169 11177 11184 11191 11210 11220 11226 11229 11230 11232 11234 11240 11242 11248 11250 11260 11261 11294 11295 11303 11305 11310 11313 11319 11322 11327 11328 11330 11334 11342 11347 11353 11354 11364 11368 11377 11381 11382 11389 11390 11409 11420 11424 11449 11450 11467 11485 11498 11506 11510 11512 11518 11519 11520 11521 11523 11528 11530 11532 11535 11539 11546 11548 11549 11551 11553 11557 11561 11564 11567 11579 11580 11581 11588 11589 11605 11624 11647 11657 11658 11667 11669 11678 11684 11693 11702 11705 11710 11722 11725 11726 11732 11739 11741 11749 11758 11763 11771 11777 11779 11781 11792 11795 11800 11801 11802 11803 11805 11807 11813 11815 11817 11818 11820 11821 11822 11823 11824 11826 11833 11836 11840 11844 11846 11848 11849 11851 11853 11862 11866 11869 11873 11874 11876 11878 11879 11880 11881 11885 11886 11901 11908 11912 11956 11959 11964 11980 11985 11988 11989 11991 11994 11996 11999 12009 12010 12016 12020 12023 12026 12027 12040 12042 12050 12051 12052 12054 12059 12062 12064 12070 12073 12078 12079 12087 12089 12105 12114 12117 12124 12134 12143 12144 12149 12151 12156 12157 12169 12171 12180 12181 12195 12197 12201 12203 12206 12211 12214 12215 12217 12220 12221 12229 12242 12246 12252 12253 12258 12261 12268 12270 12277 12283 12284 12301 12309 12314 12315 12325 12329 12333 12339 12342 12344 12356 12358 12361 12362 12363 12364 12370 12371 12374 12375 12377 12378 12380 12382 12386 12389 12397 12411 12412 12424 12431 12433 12434 12437 12443 12446 12454 12455 12459 12460 12467 12469 12473 12474 12475 12477 12479 12481 12484 12485 12486 12487 12491 12492 12493 12498 12503 12505 12507 12508 12509 12510 12511 12527 12538 12544 12545 12547 12550 12554 12570 12572 12573 12574 12575 12585 12593 12601 12626 12629 12631 12642 12650 12666 12675 12678 12690 12693 12699 12711 12715 12721 12723 12739 12743 12745 12747 12752 12757 12760 12775 12776 12779 12781 12790 12796 12798 12802 12811 12813 12815 12817 12820 12823 12829 12834 12835 12840 12841 12845 12847 12848 12850 12855 12856 12858 12864 12865 12867 12873 12877 12880 12884 12885 12896 12905 12907 12908 12910 12911 12918 12921 12927 12930 12931 12932 12935 12937 12946 12948 12968 12976 12977 12979 12996 12999 13000 13005 13006 13014 13017 13023 13033 13040 13041 13042 13049 13053 13060 13064 13068 13072 13080 13082 13084 13096 13098 13101 13114 13137 13140 13145 13151 13154 13162 13168 13169 13173 13175 13180 13188 13189 13192 13193 13203 13221 13229 13232 13244 13245 13257 13259 13260 13269 13270 13274 13275 13278 13290 13299 13301 13309 13311 13321 13325 13330 13332 13338 13345 13346 13354 13360 13364 13365 13366 13370 13377 13378 13401 13409 13414 13416 13421 13422 13423 13440 13441 13448 13451 13452 13464 13480 13484 13489 13497 13504 13511 13516 13530 13531 13541 13554 13561 13562 13573 13576 13579 13580 13606 13620 13629 13633 13649 13664 13670 13690 13695 13699 13705 13711 13716 13726 13746 13747 13756 13774 13778 13780 13781 13783 13784 13785 13787 13788 13797 13798 13802 13803 13806 13809 13816 13818 13820 13824 13825 13826 13836 13845 13847 13861 13867 13871 13878 13883 13885 13886 13887 13903 13904 13915 13931 13934 13944 13951 13975 13978 13979 13980 13982 13987 13990 13991 14001 14011 14016 14029 14031 14033 14049 14052 14071 14072 14088 14102 14104 14106 14107 14111 14112 14115 14122 14124 14134 14139 14140 14144 14148 14155 14161 14163 14164 14165 14180 14181 14195 14198 14199 14207 14216 14221 14222 14226 14228 14230 14248 14257 14262 14263 14264 14265 14275 14283 14294 14295 14298 14305 14307 14309 14312 14317 14321 14328 14329 14333 14334 14346 14349 14350 14351 14354 14355 14356 14369 14370 14372 14373 14374 14375 14393 14404 14406 14410 14428 14434 14439 14441 14443 14447 14449 14456 14459 14462 14463 14464 14471 14472 14473 14480 14483 14490 14493 14505 14506 14507 14516 14519 14521 14528 14529 14531 14532 14535 14540 14544 14547 14552 14555 14558 14559 14560 14567 14573 14574 14576 14583 14585 14586 14596 14613 14624 14625 14629 14634 14656 14658 14660 14682 14687 14694 14706 14730 14734 14740 14747 14752 14774 14778 14782 14783 14788 14789 14791 14795 14796 14797 14798 14799 14800 14801 14802 14805 14806 14808 14814 14819 14820 14823 14829 14833 14836 14839 14840 14841 14842 14846 14847 14853 14855 14861 14863 14878 14881 14887 14888 14894 14896 14899 14902 14904 14906 14907 14909 14923 14931 14933 14934 14937 14947 14950 14954 14959 14963 14969 14972 14976 14982 14984 15028 15039 15049 15052 15086 15088 15089 15102 15103 15107 15115 15118 15119 15121 15122 15126 15127 15130 15142 15144 15146 15160 15165 15166 15167 15168 15169 15175 15178 15179 15183 "
     ]
    }
   ],
   "source": [
    "for i in range(len(existing_orgs_df)):\n",
    "    # Get list of members in the organization:\n",
    "    endpoint = existing_orgs_df.iloc[i]['participants']\n",
    "    members = wa.get_all_data(endpoint)\n",
    "    if len(members) > 0:\n",
    "        print(i, end=' ')\n",
    "        # Put in DataFrame:\n",
    "        members_df = pd.DataFrame(members)\n",
    "        members_df['call'] = endpoint\n",
    "        # Save organization members data:\n",
    "        org_id = endpoint.split('/')[-2]\n",
    "        today = date.today().strftime('%Y-%m-%d')\n",
    "        members_df.to_csv('../data/raw/api/w3c_participants_org-{:}_{:}.csv'.format(org_id, today), index=False)"
   ]
  },
  {
   "cell_type": "code",
   "execution_count": 153,
   "id": "1cbeec2d-2a89-4da8-b611-da3e086fadf7",
   "metadata": {},
   "outputs": [],
   "source": [
    "# Load members files:\n",
    "members_files = glob('../data/raw/api/w3c_participants_org-*_2024-07-06.csv')\n",
    "members_df = pd.concat([pd.read_csv(f) for f in members_files], ignore_index=True)"
   ]
  },
  {
   "cell_type": "markdown",
   "id": "c932c308-4824-4bb2-970c-edb46fd51b79",
   "metadata": {},
   "source": [
    "## Documentation"
   ]
  },
  {
   "cell_type": "code",
   "execution_count": 32,
   "id": "441cdd34-b2e2-437c-b649-f36708c3ca55",
   "metadata": {},
   "outputs": [],
   "source": [
    "# Load documentation from API:\n",
    "response = requests.get('https://api.w3.org/doc')\n",
    "soup = BeautifulSoup(response.text)\n",
    "scripts = soup.find_all('script')\n",
    "doc_json = json.loads(scripts[0].text)"
   ]
  },
  {
   "cell_type": "code",
   "execution_count": 46,
   "id": "5d436968-0f6f-4092-87e2-25eba6927ed7",
   "metadata": {},
   "outputs": [
    {
     "data": {
      "text/plain": [
       "{'get': {'summary': 'Find group by ID',\n",
       "  'parameters': [{'name': 'group',\n",
       "    'in': 'path',\n",
       "    'required': True,\n",
       "    'description': 'Group id',\n",
       "    'schema': [],\n",
       "    'type': 'integer',\n",
       "    'pattern': '[0-9]+'}],\n",
       "  'responses': {'200': {'description': 'Success',\n",
       "    'schema': {'$ref': '#/definitions/Group'}},\n",
       "   '403': {'description': 'Not authorized'},\n",
       "   '404': {'description': 'Not found'}},\n",
       "  'tags': ['Groups']}}"
      ]
     },
     "execution_count": 46,
     "metadata": {},
     "output_type": "execute_result"
    }
   ],
   "source": [
    "spec = doc_json['spec']\n",
    "endpoints = spec['paths']\n",
    "endpoints['/groups/{group}']"
   ]
  },
  {
   "cell_type": "code",
   "execution_count": 52,
   "id": "a6998a3a-6b15-487a-ad22-332d5a9ff4d0",
   "metadata": {},
   "outputs": [
    {
     "data": {
      "text/plain": [
       "dict_keys(['CallForTranslation', 'W3CFunction', 'Group', 'Charter', 'Contribution', 'Specification', 'Series', 'User', 'Affiliation', 'Service', 'PPParticipation', 'Translation', 'Ecosystem', 'SpecVersion', 'CharterExtension', 'Commitment', 'ConnectedAccount'])"
      ]
     },
     "execution_count": 52,
     "metadata": {},
     "output_type": "execute_result"
    }
   ],
   "source": [
    "spec['definitions'].keys()"
   ]
  },
  {
   "cell_type": "code",
   "execution_count": null,
   "id": "c42c0ecc-3e93-4ec3-899c-74f444426290",
   "metadata": {},
   "outputs": [],
   "source": []
  }
 ],
 "metadata": {
  "kernelspec": {
   "display_name": "Python 3 (ipykernel)",
   "language": "python",
   "name": "python3"
  },
  "language_info": {
   "codemirror_mode": {
    "name": "ipython",
    "version": 3
   },
   "file_extension": ".py",
   "mimetype": "text/x-python",
   "name": "python",
   "nbconvert_exporter": "python",
   "pygments_lexer": "ipython3",
   "version": "3.8.10"
  }
 },
 "nbformat": 4,
 "nbformat_minor": 5
}
