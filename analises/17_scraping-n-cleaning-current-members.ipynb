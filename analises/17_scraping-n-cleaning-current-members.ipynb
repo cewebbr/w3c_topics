{
 "cells": [
  {
   "cell_type": "markdown",
   "id": "a7a1f275-a67e-41f9-bfa8-cb464dc87618",
   "metadata": {},
   "source": [
    "# Scraping info about current W3C members"
   ]
  },
  {
   "cell_type": "code",
   "execution_count": 34,
   "id": "2d4a15ed-95c0-47cc-b894-8895cb6c29ce",
   "metadata": {},
   "outputs": [],
   "source": [
    "import pandas as pd\n",
    "import requests\n",
    "from bs4 import BeautifulSoup\n",
    "\n",
    "import xavy.dataframes as xd\n",
    "import xavy.text as xt"
   ]
  },
  {
   "cell_type": "markdown",
   "id": "f04fb026-5221-4cd9-8e94-82a110781f6b",
   "metadata": {},
   "source": [
    "## Functions"
   ]
  },
  {
   "cell_type": "code",
   "execution_count": 2,
   "id": "866dd093-0578-4521-9fec-8718cea39552",
   "metadata": {},
   "outputs": [],
   "source": [
    "def read_txt(filename):\n",
    "    \"\"\"\n",
    "    Load text from file.\n",
    "    \"\"\"\n",
    "    with open(filename, 'r') as f:\n",
    "        txt = f.read()\n",
    "    return txt\n",
    "\n",
    "\n",
    "def parse_html(filename, item_code):\n",
    "    \"\"\"\n",
    "    Parse an options list in HTML scraped from W3C webpage into\n",
    "    a DataFrame.\n",
    "    \n",
    "    Parameters\n",
    "    ----------\n",
    "    filename : str\n",
    "        Text file containing HTML scraped from W3C webpage.\n",
    "    item_code : tuple-like\n",
    "        First element is the text shown when selecting the \n",
    "        options; second element is the code used in filtering.\n",
    "    \n",
    "    Returns\n",
    "    -------\n",
    "    df : DataFrame\n",
    "        Table with columns given by `item_code` elements and \n",
    "        rows from options in `filename`.\n",
    "    \"\"\"\n",
    "    \n",
    "    # Load HTML:\n",
    "    html = read_txt(filename)\n",
    "    soup = BeautifulSoup(html)\n",
    "    # Get options:\n",
    "    options = soup.find_all('option')\n",
    "    # Parse to table:\n",
    "    dict_list = [{item_code[0]: option.text, item_code[1]: option.attrs['value']} for option in options]\n",
    "    df = pd.DataFrame(dict_list)\n",
    "    \n",
    "    return df"
   ]
  },
  {
   "cell_type": "code",
   "execution_count": 14,
   "id": "0291c809-0348-426d-9294-f703196a22bd",
   "metadata": {},
   "outputs": [],
   "source": [
    "def find_all_class(soup, class_attr):\n",
    "    \"\"\"\n",
    "    Given a Beautiful Soup object `soup`, return all its elements\n",
    "    whose 'class' attribute is `class_attr` (str) as a list of \n",
    "    Beautiful soup objects.    \n",
    "    \"\"\"\n",
    "    elements = soup.find_all(attrs={'class': class_attr})\n",
    "    return elements"
   ]
  },
  {
   "cell_type": "code",
   "execution_count": 15,
   "id": "21810748-8031-43b0-bb32-2b6d47706839",
   "metadata": {},
   "outputs": [],
   "source": [
    "def get_member_info(member_card):\n",
    "    \"\"\"\n",
    "    Given a BeautifulSoup element `member_card` containing the \n",
    "    card of a W3C member, extract infos present.\n",
    "    \n",
    "    Returns a dict with the entries:\n",
    "    name, website, description, logo\n",
    "    \"\"\"\n",
    "    \n",
    "    # Get member name and website:\n",
    "    anchor = member_card.find('a')\n",
    "    name   = anchor.text\n",
    "    link   = anchor.attrs['href']\n",
    "    \n",
    "    # Get description, if present:\n",
    "    par = member_card.find('p')\n",
    "    if par is not None:\n",
    "        descr = par.text\n",
    "    else:\n",
    "        descr = None\n",
    "    \n",
    "    # Get logo, if present:\n",
    "    img = member_card.find('img')\n",
    "    if img is not None:\n",
    "        logo = 'https://www.w3.org' + img.attrs['src']\n",
    "    else:\n",
    "        logo = None\n",
    "        \n",
    "    return {'name': name, 'website': link, 'description': descr, 'logo': logo}"
   ]
  },
  {
   "cell_type": "code",
   "execution_count": 16,
   "id": "402ea363-0991-4e0a-b797-41b2286dbef2",
   "metadata": {},
   "outputs": [],
   "source": [
    "def scrap_members(template, par):\n",
    "    \"\"\"\n",
    "    Get data from all members with a property given by `template` and \n",
    "    `par`.\n",
    "    \n",
    "    Parameters\n",
    "    ----------\n",
    "    template : str\n",
    "        A template for an URL with a single parameter that will \n",
    "        be specified by `par`.\n",
    "    par : str\n",
    "        The parameter for the URL `template`.\n",
    "        \n",
    "    Returns\n",
    "    -------\n",
    "    df : DataFrame\n",
    "        A table with the following data for all W3C members that\n",
    "        fulfill the query provided:\n",
    "        name, website, description and logo.\n",
    "    \"\"\"\n",
    "    \n",
    "    # Request:\n",
    "    response = requests.get(template.format(par))\n",
    "    if response.status_code != 200:\n",
    "        raise Exception('Failed request.')\n",
    "\n",
    "    # Find members:\n",
    "    soup = BeautifulSoup(response.text)\n",
    "    member_cards = find_all_class(soup, 'card--member')\n",
    "\n",
    "    # Parse data about members:\n",
    "    data = [get_member_info(m) for m in member_cards]\n",
    "    \n",
    "    if len(data) == 0:\n",
    "        return pd.DataFrame(columns=['name', 'website', 'description', 'logo'])\n",
    "    else:\n",
    "        df = pd.DataFrame(data)\n",
    "    \n",
    "    return df"
   ]
  },
  {
   "cell_type": "code",
   "execution_count": 27,
   "id": "c9d9d9ea-8310-409f-8601-25bc2578415f",
   "metadata": {},
   "outputs": [],
   "source": [
    "def scrap_member_slices(slice_df, template):\n",
    "    \"\"\"\n",
    "    Scrap data about W3C members in a 'tomographical' way: \n",
    "    Loop over all filtering options and aggregate the results.\n",
    "    \n",
    "    Parameters\n",
    "    ----------\n",
    "    slice_df : DataFrame\n",
    "        Table containing the filtering options in a given \n",
    "        dimension, which can be country or business ecosystem.\n",
    "    template : str\n",
    "        URL template in which the filtering can be applied.\n",
    "        It must be related to the same dimension specified in\n",
    "        `slice_df`.\n",
    "    \n",
    "    Returns\n",
    "    -------\n",
    "    concat_df : DataFrame\n",
    "        Table with aggregated data from all members collected by \n",
    "        filtering by all options in `slice_df`.\n",
    "    \"\"\"\n",
    "    \n",
    "    # Get number of slices and the dimension on which we are slicing:\n",
    "    n_slices = len(slice_df)\n",
    "    dimension = slice_df.columns[0]\n",
    "\n",
    "    # Loop over slices:\n",
    "    dfs = []\n",
    "    for i in range(n_slices):\n",
    "\n",
    "        # Get common characteristic of slice of members:\n",
    "        instance = slice_df.iloc[i]\n",
    "        char = instance[dimension]\n",
    "        code = instance['code']\n",
    "\n",
    "        # Scrap data about members:\n",
    "        df = scrap_members(template, code)\n",
    "        # Add common characteristics:\n",
    "        df[dimension] = char\n",
    "        df[dimension + '_code'] = code\n",
    "\n",
    "        dfs.append(df)\n",
    "    \n",
    "    # Join data from all slices:\n",
    "    concat_df = pd.concat(dfs, ignore_index=True)\n",
    "    \n",
    "    return concat_df"
   ]
  },
  {
   "cell_type": "markdown",
   "id": "c0a79af3-b1d3-4bf4-9874-077e65def30b",
   "metadata": {},
   "source": [
    "## Parsing list of countries and business ecosystem"
   ]
  },
  {
   "cell_type": "code",
   "execution_count": 17,
   "id": "4003978f-3844-4752-8249-3077c2d5d2ab",
   "metadata": {},
   "outputs": [],
   "source": [
    "country_df = parse_html('../data/raw/scraped/w3c_current-members_2025-04-15_country-list.html', ('country', 'code'))"
   ]
  },
  {
   "cell_type": "code",
   "execution_count": 18,
   "id": "41b5d100-dd5f-4980-a21e-f0450cd1f1db",
   "metadata": {},
   "outputs": [],
   "source": [
    "# Save to CSV:\n",
    "#country_df.to_csv('../data/cleaned/w3c_current-members_2025-04-15_country-list.csv', index=False)"
   ]
  },
  {
   "cell_type": "code",
   "execution_count": 19,
   "id": "97dcd46c-c172-486d-a26e-dcecefa3fc36",
   "metadata": {},
   "outputs": [],
   "source": [
    "ecosystem_df = parse_html('../data/raw/scraped/w3c_current-members_2025-04-15_business-ecosystem.html', ('ecosystem', 'code'))\n",
    "ecosystem_df = ecosystem_df.loc[ecosystem_df['code'].str.len() > 0]"
   ]
  },
  {
   "cell_type": "code",
   "execution_count": 20,
   "id": "073e516a-4ec2-4096-92e7-6ea8930d4129",
   "metadata": {},
   "outputs": [],
   "source": [
    "# Save to CSV:\n",
    "#ecosystem_df.to_csv('../data/cleaned/w3c_current-members_2025-04-15_business-ecosystem.csv', index=False)"
   ]
  },
  {
   "cell_type": "markdown",
   "id": "d195dcaa-3e04-446f-b0a8-d242d5650524",
   "metadata": {},
   "source": [
    "## Scraping members' characteristics"
   ]
  },
  {
   "cell_type": "code",
   "execution_count": 21,
   "id": "fe070eae-6f8f-43b3-965c-9fa1ca306ef2",
   "metadata": {},
   "outputs": [],
   "source": [
    "# Load selector options:\n",
    "country_df = pd.read_csv('../data/cleaned/w3c_current-members_2025-04-15_country-list.csv')\n",
    "ecosystem_df = pd.read_csv('../data/cleaned/w3c_current-members_2025-04-15_business-ecosystem.csv')\n",
    "\n",
    "# Set URL templates:\n",
    "template_countries = 'https://www.w3.org/membership/list/?countries[]={:}'\n",
    "template_ecosystem = 'https://www.w3.org/membership/list/?ecosystem={:}'"
   ]
  },
  {
   "cell_type": "markdown",
   "id": "806243c6-f61c-4020-80f3-e22c0da63191",
   "metadata": {},
   "source": [
    "### Slicing by country"
   ]
  },
  {
   "cell_type": "code",
   "execution_count": 48,
   "id": "890000b6-ff1e-4a91-8d04-282c1b6fa667",
   "metadata": {},
   "outputs": [],
   "source": [
    "# Scrap data tomographically, slicing by business country:\n",
    "country_tomo_df = scrap_member_slices(country_df, template_countries)"
   ]
  },
  {
   "cell_type": "code",
   "execution_count": 52,
   "id": "3b258dcf-2d94-48d8-a157-f76ab4811336",
   "metadata": {},
   "outputs": [],
   "source": [
    "# Sanity check:\n",
    "assert xd.iskeyQ(country_tomo_df[['website']])\n",
    "assert xd.iskeyQ(country_tomo_df[['name']])"
   ]
  },
  {
   "cell_type": "markdown",
   "id": "bb2b8807-fb92-493f-a381-da12d72f408c",
   "metadata": {},
   "source": [
    "### Slicing by business ecosystem"
   ]
  },
  {
   "cell_type": "code",
   "execution_count": null,
   "id": "fcebd24c-3890-45c7-9c82-6ecf36071253",
   "metadata": {},
   "outputs": [],
   "source": [
    "# Scrap data tomographically, slicing by business ecosystem:\n",
    "ecosystem_tomo_df = scrap_member_slices(ecosystem_df, template_ecosystem)"
   ]
  },
  {
   "cell_type": "markdown",
   "id": "d70580ba-6f1e-47c8-b5f7-bd372e7d0005",
   "metadata": {},
   "source": [
    "**PS:** The members can belong to none or more than one business ecosystem. Let's massage the data to better represent that. We will use one-hot encoding. "
   ]
  },
  {
   "cell_type": "code",
   "execution_count": 71,
   "id": "529380fd-d392-45a6-b401-48b296298c8e",
   "metadata": {},
   "outputs": [],
   "source": [
    "# One-hot encoding the ecosystems a member belongs to:\n",
    "ecosystem_tomo_df['onehot_col'] = ecosystem_tomo_df['ecosystem_code'].str.replace('-', '_', regex=False)\n",
    "ecosystem_pivot_df = ecosystem_tomo_df.pivot_table(values='ecosystem', index='name', columns='onehot_col', aggfunc='count')\n",
    "ecosystem_pivot_df = ecosystem_pivot_df.fillna(0).astype(int)"
   ]
  },
  {
   "cell_type": "markdown",
   "id": "6213c6e4-517a-491f-af0d-6aa545891af0",
   "metadata": {},
   "source": [
    "### Joining data"
   ]
  },
  {
   "cell_type": "code",
   "execution_count": 74,
   "id": "577d127a-1741-47b6-9687-f41f66b424e6",
   "metadata": {},
   "outputs": [],
   "source": [
    "full_df = country_tomo_df.join(ecosystem_pivot_df, on='name', how='outer')"
   ]
  },
  {
   "cell_type": "code",
   "execution_count": 76,
   "id": "2b631be5-2feb-4c36-92f6-017c1127fcec",
   "metadata": {},
   "outputs": [],
   "source": [
    "# Save CSV:\n",
    "#full_df.to_csv('../data/processed/w3c_member-organizations_2025-04-15.csv', index=False)"
   ]
  },
  {
   "cell_type": "markdown",
   "id": "5f82bdd2-46c6-484a-9bca-55c7524a8828",
   "metadata": {},
   "source": [
    "## Explore final data"
   ]
  },
  {
   "cell_type": "code",
   "execution_count": 1,
   "id": "e3788d2b-e442-47a3-9cd5-a1a66ddff2ec",
   "metadata": {},
   "outputs": [],
   "source": [
    "import pandas as pd\n",
    "import matplotlib.pyplot as pl\n",
    "import numpy as np"
   ]
  },
  {
   "cell_type": "code",
   "execution_count": 2,
   "id": "4bea90c3-f38a-4913-a4cf-4d426d0b274c",
   "metadata": {},
   "outputs": [],
   "source": [
    "member_df = pd.read_csv('../data/processed/w3c_member-organizations_2025-04-15.csv')"
   ]
  },
  {
   "cell_type": "markdown",
   "id": "7e0bb47b-f6cb-4345-9b10-347cb2b28225",
   "metadata": {},
   "source": [
    "### Business ecosystems"
   ]
  },
  {
   "cell_type": "markdown",
   "id": "5b9fa8ac-5bfd-4cc1-a452-6755ad993391",
   "metadata": {
    "jp-MarkdownHeadingCollapsed": true
   },
   "source": [
    "#### No ecosystem"
   ]
  },
  {
   "cell_type": "code",
   "execution_count": 81,
   "id": "61491578-954e-486e-8dd2-e742f9d59b68",
   "metadata": {},
   "outputs": [
    {
     "data": {
      "text/html": [
       "<div>\n",
       "<style scoped>\n",
       "    .dataframe tbody tr th:only-of-type {\n",
       "        vertical-align: middle;\n",
       "    }\n",
       "\n",
       "    .dataframe tbody tr th {\n",
       "        vertical-align: top;\n",
       "    }\n",
       "\n",
       "    .dataframe thead th {\n",
       "        text-align: right;\n",
       "    }\n",
       "</style>\n",
       "<table border=\"1\" class=\"dataframe\">\n",
       "  <thead>\n",
       "    <tr style=\"text-align: right;\">\n",
       "      <th></th>\n",
       "      <th>name</th>\n",
       "      <th>website</th>\n",
       "      <th>description</th>\n",
       "      <th>logo</th>\n",
       "      <th>country</th>\n",
       "      <th>country_code</th>\n",
       "      <th>advertising</th>\n",
       "      <th>data</th>\n",
       "      <th>e_commerce</th>\n",
       "      <th>media</th>\n",
       "      <th>network_communications</th>\n",
       "      <th>publishing</th>\n",
       "      <th>smart_cities</th>\n",
       "      <th>web_of_things</th>\n",
       "    </tr>\n",
       "  </thead>\n",
       "  <tbody>\n",
       "    <tr>\n",
       "      <th>0</th>\n",
       "      <td>Centre For Accessibility Australia</td>\n",
       "      <td>https://www.accessibility.org.au</td>\n",
       "      <td>The Centre for Accessibility Australia (CFA Au...</td>\n",
       "      <td>https://www.w3.org/thumbnails/120/logos/organi...</td>\n",
       "      <td>Australia</td>\n",
       "      <td>AU</td>\n",
       "      <td>NaN</td>\n",
       "      <td>NaN</td>\n",
       "      <td>NaN</td>\n",
       "      <td>NaN</td>\n",
       "      <td>NaN</td>\n",
       "      <td>NaN</td>\n",
       "      <td>NaN</td>\n",
       "      <td>NaN</td>\n",
       "    </tr>\n",
       "    <tr>\n",
       "      <th>1</th>\n",
       "      <td>Intopia</td>\n",
       "      <td>http://intopia.digital/</td>\n",
       "      <td>NaN</td>\n",
       "      <td>NaN</td>\n",
       "      <td>Australia</td>\n",
       "      <td>AU</td>\n",
       "      <td>NaN</td>\n",
       "      <td>NaN</td>\n",
       "      <td>NaN</td>\n",
       "      <td>NaN</td>\n",
       "      <td>NaN</td>\n",
       "      <td>NaN</td>\n",
       "      <td>NaN</td>\n",
       "      <td>NaN</td>\n",
       "    </tr>\n",
       "    <tr>\n",
       "      <th>3</th>\n",
       "      <td>Pyx Industries</td>\n",
       "      <td>https://pyx.io</td>\n",
       "      <td>NaN</td>\n",
       "      <td>NaN</td>\n",
       "      <td>Australia</td>\n",
       "      <td>AU</td>\n",
       "      <td>NaN</td>\n",
       "      <td>NaN</td>\n",
       "      <td>NaN</td>\n",
       "      <td>NaN</td>\n",
       "      <td>NaN</td>\n",
       "      <td>NaN</td>\n",
       "      <td>NaN</td>\n",
       "      <td>NaN</td>\n",
       "    </tr>\n",
       "    <tr>\n",
       "      <th>5</th>\n",
       "      <td>Vision Australia</td>\n",
       "      <td>http://www.visionaustralia.org.au</td>\n",
       "      <td>Vision Australia is a leading national provide...</td>\n",
       "      <td>https://www.w3.org/thumbnails/120/logos/organi...</td>\n",
       "      <td>Australia</td>\n",
       "      <td>AU</td>\n",
       "      <td>NaN</td>\n",
       "      <td>NaN</td>\n",
       "      <td>NaN</td>\n",
       "      <td>NaN</td>\n",
       "      <td>NaN</td>\n",
       "      <td>NaN</td>\n",
       "      <td>NaN</td>\n",
       "      <td>NaN</td>\n",
       "    </tr>\n",
       "    <tr>\n",
       "      <th>7</th>\n",
       "      <td>Fabasoft</td>\n",
       "      <td>https://www.fabasoft.com/en</td>\n",
       "      <td>Fabasoft is one of the leading software compan...</td>\n",
       "      <td>https://www.w3.org/thumbnails/120/logos/organi...</td>\n",
       "      <td>Austria</td>\n",
       "      <td>AT</td>\n",
       "      <td>NaN</td>\n",
       "      <td>NaN</td>\n",
       "      <td>NaN</td>\n",
       "      <td>NaN</td>\n",
       "      <td>NaN</td>\n",
       "      <td>NaN</td>\n",
       "      <td>NaN</td>\n",
       "      <td>NaN</td>\n",
       "    </tr>\n",
       "    <tr>\n",
       "      <th>...</th>\n",
       "      <td>...</td>\n",
       "      <td>...</td>\n",
       "      <td>...</td>\n",
       "      <td>...</td>\n",
       "      <td>...</td>\n",
       "      <td>...</td>\n",
       "      <td>...</td>\n",
       "      <td>...</td>\n",
       "      <td>...</td>\n",
       "      <td>...</td>\n",
       "      <td>...</td>\n",
       "      <td>...</td>\n",
       "      <td>...</td>\n",
       "      <td>...</td>\n",
       "    </tr>\n",
       "    <tr>\n",
       "      <th>338</th>\n",
       "      <td>UnitedHealth Group</td>\n",
       "      <td>https://www.unitedhealthgroup.com/</td>\n",
       "      <td>NaN</td>\n",
       "      <td>NaN</td>\n",
       "      <td>United States</td>\n",
       "      <td>US</td>\n",
       "      <td>NaN</td>\n",
       "      <td>NaN</td>\n",
       "      <td>NaN</td>\n",
       "      <td>NaN</td>\n",
       "      <td>NaN</td>\n",
       "      <td>NaN</td>\n",
       "      <td>NaN</td>\n",
       "      <td>NaN</td>\n",
       "    </tr>\n",
       "    <tr>\n",
       "      <th>340</th>\n",
       "      <td>UsableNet</td>\n",
       "      <td>https://usablenet.com/</td>\n",
       "      <td>NaN</td>\n",
       "      <td>https://www.w3.org/thumbnails/120/logos/organi...</td>\n",
       "      <td>United States</td>\n",
       "      <td>US</td>\n",
       "      <td>NaN</td>\n",
       "      <td>NaN</td>\n",
       "      <td>NaN</td>\n",
       "      <td>NaN</td>\n",
       "      <td>NaN</td>\n",
       "      <td>NaN</td>\n",
       "      <td>NaN</td>\n",
       "      <td>NaN</td>\n",
       "    </tr>\n",
       "    <tr>\n",
       "      <th>341</th>\n",
       "      <td>Verisign, Inc.</td>\n",
       "      <td>http://www.verisigninc.com/</td>\n",
       "      <td>NaN</td>\n",
       "      <td>NaN</td>\n",
       "      <td>United States</td>\n",
       "      <td>US</td>\n",
       "      <td>NaN</td>\n",
       "      <td>NaN</td>\n",
       "      <td>NaN</td>\n",
       "      <td>NaN</td>\n",
       "      <td>NaN</td>\n",
       "      <td>NaN</td>\n",
       "      <td>NaN</td>\n",
       "      <td>NaN</td>\n",
       "    </tr>\n",
       "    <tr>\n",
       "      <th>347</th>\n",
       "      <td>XRDNA</td>\n",
       "      <td>https://xrdna.io/</td>\n",
       "      <td>NaN</td>\n",
       "      <td>NaN</td>\n",
       "      <td>United States</td>\n",
       "      <td>US</td>\n",
       "      <td>NaN</td>\n",
       "      <td>NaN</td>\n",
       "      <td>NaN</td>\n",
       "      <td>NaN</td>\n",
       "      <td>NaN</td>\n",
       "      <td>NaN</td>\n",
       "      <td>NaN</td>\n",
       "      <td>NaN</td>\n",
       "    </tr>\n",
       "    <tr>\n",
       "      <th>350</th>\n",
       "      <td>Zoom</td>\n",
       "      <td>https://www.zoom.us</td>\n",
       "      <td>NaN</td>\n",
       "      <td>https://www.w3.org/thumbnails/120/logos/organi...</td>\n",
       "      <td>United States</td>\n",
       "      <td>US</td>\n",
       "      <td>NaN</td>\n",
       "      <td>NaN</td>\n",
       "      <td>NaN</td>\n",
       "      <td>NaN</td>\n",
       "      <td>NaN</td>\n",
       "      <td>NaN</td>\n",
       "      <td>NaN</td>\n",
       "      <td>NaN</td>\n",
       "    </tr>\n",
       "  </tbody>\n",
       "</table>\n",
       "<p>123 rows × 14 columns</p>\n",
       "</div>"
      ],
      "text/plain": [
       "                                   name                             website  \\\n",
       "0    Centre For Accessibility Australia    https://www.accessibility.org.au   \n",
       "1                               Intopia             http://intopia.digital/   \n",
       "3                        Pyx Industries                      https://pyx.io   \n",
       "5                      Vision Australia   http://www.visionaustralia.org.au   \n",
       "7                              Fabasoft         https://www.fabasoft.com/en   \n",
       "..                                  ...                                 ...   \n",
       "338                  UnitedHealth Group  https://www.unitedhealthgroup.com/   \n",
       "340                           UsableNet              https://usablenet.com/   \n",
       "341                      Verisign, Inc.         http://www.verisigninc.com/   \n",
       "347                               XRDNA                   https://xrdna.io/   \n",
       "350                                Zoom                 https://www.zoom.us   \n",
       "\n",
       "                                           description  \\\n",
       "0    The Centre for Accessibility Australia (CFA Au...   \n",
       "1                                                  NaN   \n",
       "3                                                  NaN   \n",
       "5    Vision Australia is a leading national provide...   \n",
       "7    Fabasoft is one of the leading software compan...   \n",
       "..                                                 ...   \n",
       "338                                                NaN   \n",
       "340                                                NaN   \n",
       "341                                                NaN   \n",
       "347                                                NaN   \n",
       "350                                                NaN   \n",
       "\n",
       "                                                  logo        country  \\\n",
       "0    https://www.w3.org/thumbnails/120/logos/organi...      Australia   \n",
       "1                                                  NaN      Australia   \n",
       "3                                                  NaN      Australia   \n",
       "5    https://www.w3.org/thumbnails/120/logos/organi...      Australia   \n",
       "7    https://www.w3.org/thumbnails/120/logos/organi...        Austria   \n",
       "..                                                 ...            ...   \n",
       "338                                                NaN  United States   \n",
       "340  https://www.w3.org/thumbnails/120/logos/organi...  United States   \n",
       "341                                                NaN  United States   \n",
       "347                                                NaN  United States   \n",
       "350  https://www.w3.org/thumbnails/120/logos/organi...  United States   \n",
       "\n",
       "    country_code  advertising  data  e_commerce  media  \\\n",
       "0             AU          NaN   NaN         NaN    NaN   \n",
       "1             AU          NaN   NaN         NaN    NaN   \n",
       "3             AU          NaN   NaN         NaN    NaN   \n",
       "5             AU          NaN   NaN         NaN    NaN   \n",
       "7             AT          NaN   NaN         NaN    NaN   \n",
       "..           ...          ...   ...         ...    ...   \n",
       "338           US          NaN   NaN         NaN    NaN   \n",
       "340           US          NaN   NaN         NaN    NaN   \n",
       "341           US          NaN   NaN         NaN    NaN   \n",
       "347           US          NaN   NaN         NaN    NaN   \n",
       "350           US          NaN   NaN         NaN    NaN   \n",
       "\n",
       "     network_communications  publishing  smart_cities  web_of_things  \n",
       "0                       NaN         NaN           NaN            NaN  \n",
       "1                       NaN         NaN           NaN            NaN  \n",
       "3                       NaN         NaN           NaN            NaN  \n",
       "5                       NaN         NaN           NaN            NaN  \n",
       "7                       NaN         NaN           NaN            NaN  \n",
       "..                      ...         ...           ...            ...  \n",
       "338                     NaN         NaN           NaN            NaN  \n",
       "340                     NaN         NaN           NaN            NaN  \n",
       "341                     NaN         NaN           NaN            NaN  \n",
       "347                     NaN         NaN           NaN            NaN  \n",
       "350                     NaN         NaN           NaN            NaN  \n",
       "\n",
       "[123 rows x 14 columns]"
      ]
     },
     "execution_count": 81,
     "metadata": {},
     "output_type": "execute_result"
    }
   ],
   "source": [
    "# Members with no ecosystem:\n",
    "member_df.loc[member_df[member_df.columns[6:]].isnull().all(axis=1)]"
   ]
  },
  {
   "cell_type": "markdown",
   "id": "3640584f-dab0-4c5e-952b-52101b5b6fbb",
   "metadata": {},
   "source": [
    "We see that some really do not match any ecosystem (e.g. accessibility consultant companies) while others do but are not allocated (e.g. Zoom)."
   ]
  },
  {
   "cell_type": "markdown",
   "id": "cba7edb6-f02a-40ba-aed0-97f145165915",
   "metadata": {
    "jp-MarkdownHeadingCollapsed": true
   },
   "source": [
    "#### Examples in a given ecosystem"
   ]
  },
  {
   "cell_type": "code",
   "execution_count": 86,
   "id": "c6c8f044-b660-4436-a5ab-86adaa6dd187",
   "metadata": {},
   "outputs": [
    {
     "data": {
      "text/html": [
       "<div>\n",
       "<style scoped>\n",
       "    .dataframe tbody tr th:only-of-type {\n",
       "        vertical-align: middle;\n",
       "    }\n",
       "\n",
       "    .dataframe tbody tr th {\n",
       "        vertical-align: top;\n",
       "    }\n",
       "\n",
       "    .dataframe thead th {\n",
       "        text-align: right;\n",
       "    }\n",
       "</style>\n",
       "<table border=\"1\" class=\"dataframe\">\n",
       "  <thead>\n",
       "    <tr style=\"text-align: right;\">\n",
       "      <th></th>\n",
       "      <th>name</th>\n",
       "      <th>website</th>\n",
       "      <th>description</th>\n",
       "      <th>logo</th>\n",
       "      <th>country</th>\n",
       "      <th>country_code</th>\n",
       "      <th>advertising</th>\n",
       "      <th>data</th>\n",
       "      <th>e_commerce</th>\n",
       "      <th>media</th>\n",
       "      <th>network_communications</th>\n",
       "      <th>publishing</th>\n",
       "      <th>smart_cities</th>\n",
       "      <th>web_of_things</th>\n",
       "    </tr>\n",
       "  </thead>\n",
       "  <tbody>\n",
       "    <tr>\n",
       "      <th>8</th>\n",
       "      <td>WU (Wirschaftsuniversität Wien) - Vienna Unive...</td>\n",
       "      <td>https://www.wu.ac.at/</td>\n",
       "      <td>NaN</td>\n",
       "      <td>https://www.w3.org/thumbnails/120/logos/organi...</td>\n",
       "      <td>Austria</td>\n",
       "      <td>AT</td>\n",
       "      <td>0.0</td>\n",
       "      <td>1.0</td>\n",
       "      <td>0.0</td>\n",
       "      <td>0.0</td>\n",
       "      <td>0.0</td>\n",
       "      <td>0.0</td>\n",
       "      <td>0.0</td>\n",
       "      <td>1.0</td>\n",
       "    </tr>\n",
       "    <tr>\n",
       "      <th>12</th>\n",
       "      <td>imec</td>\n",
       "      <td>https://www.imec-int.com/</td>\n",
       "      <td>Flanders' research institute imec is devoted t...</td>\n",
       "      <td>https://www.w3.org/thumbnails/120/logos/organi...</td>\n",
       "      <td>Belgium</td>\n",
       "      <td>BE</td>\n",
       "      <td>0.0</td>\n",
       "      <td>1.0</td>\n",
       "      <td>0.0</td>\n",
       "      <td>1.0</td>\n",
       "      <td>0.0</td>\n",
       "      <td>0.0</td>\n",
       "      <td>0.0</td>\n",
       "      <td>1.0</td>\n",
       "    </tr>\n",
       "    <tr>\n",
       "      <th>27</th>\n",
       "      <td>360</td>\n",
       "      <td>https://www.360.cn/</td>\n",
       "      <td>NaN</td>\n",
       "      <td>NaN</td>\n",
       "      <td>China</td>\n",
       "      <td>CN</td>\n",
       "      <td>0.0</td>\n",
       "      <td>1.0</td>\n",
       "      <td>1.0</td>\n",
       "      <td>0.0</td>\n",
       "      <td>1.0</td>\n",
       "      <td>0.0</td>\n",
       "      <td>0.0</td>\n",
       "      <td>1.0</td>\n",
       "    </tr>\n",
       "    <tr>\n",
       "      <th>28</th>\n",
       "      <td>Alibaba Group</td>\n",
       "      <td>http://www.alibabagroup.com/en/global/home</td>\n",
       "      <td>NaN</td>\n",
       "      <td>NaN</td>\n",
       "      <td>China</td>\n",
       "      <td>CN</td>\n",
       "      <td>1.0</td>\n",
       "      <td>1.0</td>\n",
       "      <td>1.0</td>\n",
       "      <td>1.0</td>\n",
       "      <td>1.0</td>\n",
       "      <td>0.0</td>\n",
       "      <td>0.0</td>\n",
       "      <td>1.0</td>\n",
       "    </tr>\n",
       "    <tr>\n",
       "      <th>33</th>\n",
       "      <td>ByteDance</td>\n",
       "      <td>https://bytedance.com/</td>\n",
       "      <td>NaN</td>\n",
       "      <td>NaN</td>\n",
       "      <td>China</td>\n",
       "      <td>CN</td>\n",
       "      <td>1.0</td>\n",
       "      <td>1.0</td>\n",
       "      <td>0.0</td>\n",
       "      <td>1.0</td>\n",
       "      <td>1.0</td>\n",
       "      <td>0.0</td>\n",
       "      <td>0.0</td>\n",
       "      <td>1.0</td>\n",
       "    </tr>\n",
       "    <tr>\n",
       "      <th>36</th>\n",
       "      <td>China Mobile Communications Corporation</td>\n",
       "      <td>http://www.chinamobileltd.com/en/global/home.php</td>\n",
       "      <td>NaN</td>\n",
       "      <td>NaN</td>\n",
       "      <td>China</td>\n",
       "      <td>CN</td>\n",
       "      <td>0.0</td>\n",
       "      <td>0.0</td>\n",
       "      <td>0.0</td>\n",
       "      <td>1.0</td>\n",
       "      <td>1.0</td>\n",
       "      <td>0.0</td>\n",
       "      <td>1.0</td>\n",
       "      <td>1.0</td>\n",
       "    </tr>\n",
       "    <tr>\n",
       "      <th>42</th>\n",
       "      <td>Huawei</td>\n",
       "      <td>http://www.huawei.com</td>\n",
       "      <td>NaN</td>\n",
       "      <td>https://www.w3.org/thumbnails/120/logos/organi...</td>\n",
       "      <td>China</td>\n",
       "      <td>CN</td>\n",
       "      <td>1.0</td>\n",
       "      <td>0.0</td>\n",
       "      <td>1.0</td>\n",
       "      <td>1.0</td>\n",
       "      <td>1.0</td>\n",
       "      <td>0.0</td>\n",
       "      <td>0.0</td>\n",
       "      <td>1.0</td>\n",
       "    </tr>\n",
       "    <tr>\n",
       "      <th>51</th>\n",
       "      <td>Tencent</td>\n",
       "      <td>http://www.tencent.com</td>\n",
       "      <td>NaN</td>\n",
       "      <td>NaN</td>\n",
       "      <td>China</td>\n",
       "      <td>CN</td>\n",
       "      <td>0.0</td>\n",
       "      <td>0.0</td>\n",
       "      <td>0.0</td>\n",
       "      <td>1.0</td>\n",
       "      <td>1.0</td>\n",
       "      <td>0.0</td>\n",
       "      <td>0.0</td>\n",
       "      <td>1.0</td>\n",
       "    </tr>\n",
       "    <tr>\n",
       "      <th>55</th>\n",
       "      <td>Agency for Digitisation</td>\n",
       "      <td>https://en.digst.dk/</td>\n",
       "      <td>NaN</td>\n",
       "      <td>NaN</td>\n",
       "      <td>Denmark</td>\n",
       "      <td>DK</td>\n",
       "      <td>0.0</td>\n",
       "      <td>0.0</td>\n",
       "      <td>0.0</td>\n",
       "      <td>0.0</td>\n",
       "      <td>0.0</td>\n",
       "      <td>0.0</td>\n",
       "      <td>0.0</td>\n",
       "      <td>1.0</td>\n",
       "    </tr>\n",
       "    <tr>\n",
       "      <th>65</th>\n",
       "      <td>FIME</td>\n",
       "      <td>https://www.fime.com/</td>\n",
       "      <td>NaN</td>\n",
       "      <td>https://www.w3.org/thumbnails/120/logos/organi...</td>\n",
       "      <td>France</td>\n",
       "      <td>FR</td>\n",
       "      <td>0.0</td>\n",
       "      <td>0.0</td>\n",
       "      <td>1.0</td>\n",
       "      <td>0.0</td>\n",
       "      <td>0.0</td>\n",
       "      <td>0.0</td>\n",
       "      <td>0.0</td>\n",
       "      <td>1.0</td>\n",
       "    </tr>\n",
       "    <tr>\n",
       "      <th>66</th>\n",
       "      <td>Institut Mines-Télécom</td>\n",
       "      <td>https://www.imt.fr/</td>\n",
       "      <td>NaN</td>\n",
       "      <td>NaN</td>\n",
       "      <td>France</td>\n",
       "      <td>FR</td>\n",
       "      <td>0.0</td>\n",
       "      <td>1.0</td>\n",
       "      <td>0.0</td>\n",
       "      <td>1.0</td>\n",
       "      <td>0.0</td>\n",
       "      <td>0.0</td>\n",
       "      <td>0.0</td>\n",
       "      <td>1.0</td>\n",
       "    </tr>\n",
       "    <tr>\n",
       "      <th>67</th>\n",
       "      <td>Institut National de Recherche en Informatique...</td>\n",
       "      <td>https://www.inria.fr/</td>\n",
       "      <td>Inria is a founding member of W3C. Inria is th...</td>\n",
       "      <td>https://www.w3.org/thumbnails/120/logos/organi...</td>\n",
       "      <td>France</td>\n",
       "      <td>FR</td>\n",
       "      <td>1.0</td>\n",
       "      <td>1.0</td>\n",
       "      <td>0.0</td>\n",
       "      <td>1.0</td>\n",
       "      <td>1.0</td>\n",
       "      <td>0.0</td>\n",
       "      <td>0.0</td>\n",
       "      <td>1.0</td>\n",
       "    </tr>\n",
       "    <tr>\n",
       "      <th>70</th>\n",
       "      <td>Datagraph GmbH</td>\n",
       "      <td>https://dydra.com/</td>\n",
       "      <td>NaN</td>\n",
       "      <td>NaN</td>\n",
       "      <td>Germany</td>\n",
       "      <td>DE</td>\n",
       "      <td>0.0</td>\n",
       "      <td>1.0</td>\n",
       "      <td>0.0</td>\n",
       "      <td>0.0</td>\n",
       "      <td>0.0</td>\n",
       "      <td>0.0</td>\n",
       "      <td>0.0</td>\n",
       "      <td>1.0</td>\n",
       "    </tr>\n",
       "    <tr>\n",
       "      <th>72</th>\n",
       "      <td>Forschungszentrum Informatik (FZI)</td>\n",
       "      <td>http://www.fzi.de</td>\n",
       "      <td>NaN</td>\n",
       "      <td>NaN</td>\n",
       "      <td>Germany</td>\n",
       "      <td>DE</td>\n",
       "      <td>0.0</td>\n",
       "      <td>1.0</td>\n",
       "      <td>0.0</td>\n",
       "      <td>0.0</td>\n",
       "      <td>0.0</td>\n",
       "      <td>0.0</td>\n",
       "      <td>0.0</td>\n",
       "      <td>1.0</td>\n",
       "    </tr>\n",
       "    <tr>\n",
       "      <th>73</th>\n",
       "      <td>Fraunhofer Gesellschaft</td>\n",
       "      <td>https://www.fraunhofer.de/en.html</td>\n",
       "      <td>Fraunhofer-Gesellschaft is the largest organiz...</td>\n",
       "      <td>https://www.w3.org/thumbnails/120/logos/organi...</td>\n",
       "      <td>Germany</td>\n",
       "      <td>DE</td>\n",
       "      <td>0.0</td>\n",
       "      <td>1.0</td>\n",
       "      <td>0.0</td>\n",
       "      <td>1.0</td>\n",
       "      <td>1.0</td>\n",
       "      <td>0.0</td>\n",
       "      <td>0.0</td>\n",
       "      <td>1.0</td>\n",
       "    </tr>\n",
       "    <tr>\n",
       "      <th>75</th>\n",
       "      <td>HiveMQ</td>\n",
       "      <td>https://www.hivemq.com/</td>\n",
       "      <td>NaN</td>\n",
       "      <td>NaN</td>\n",
       "      <td>Germany</td>\n",
       "      <td>DE</td>\n",
       "      <td>0.0</td>\n",
       "      <td>0.0</td>\n",
       "      <td>0.0</td>\n",
       "      <td>0.0</td>\n",
       "      <td>0.0</td>\n",
       "      <td>0.0</td>\n",
       "      <td>0.0</td>\n",
       "      <td>1.0</td>\n",
       "    </tr>\n",
       "    <tr>\n",
       "      <th>79</th>\n",
       "      <td>Siemens AG</td>\n",
       "      <td>https://www.siemens.com</td>\n",
       "      <td>NaN</td>\n",
       "      <td>NaN</td>\n",
       "      <td>Germany</td>\n",
       "      <td>DE</td>\n",
       "      <td>0.0</td>\n",
       "      <td>1.0</td>\n",
       "      <td>0.0</td>\n",
       "      <td>0.0</td>\n",
       "      <td>0.0</td>\n",
       "      <td>0.0</td>\n",
       "      <td>1.0</td>\n",
       "      <td>1.0</td>\n",
       "    </tr>\n",
       "    <tr>\n",
       "      <th>84</th>\n",
       "      <td>|pipe|</td>\n",
       "      <td>https://pi.pe</td>\n",
       "      <td>NaN</td>\n",
       "      <td>NaN</td>\n",
       "      <td>Germany</td>\n",
       "      <td>DE</td>\n",
       "      <td>0.0</td>\n",
       "      <td>0.0</td>\n",
       "      <td>0.0</td>\n",
       "      <td>1.0</td>\n",
       "      <td>1.0</td>\n",
       "      <td>0.0</td>\n",
       "      <td>0.0</td>\n",
       "      <td>1.0</td>\n",
       "    </tr>\n",
       "    <tr>\n",
       "      <th>92</th>\n",
       "      <td>INSIGHT - The Centre for Data Analytics</td>\n",
       "      <td>http://www.insight-centre.org</td>\n",
       "      <td>NaN</td>\n",
       "      <td>NaN</td>\n",
       "      <td>Ireland</td>\n",
       "      <td>IE</td>\n",
       "      <td>1.0</td>\n",
       "      <td>1.0</td>\n",
       "      <td>0.0</td>\n",
       "      <td>0.0</td>\n",
       "      <td>0.0</td>\n",
       "      <td>0.0</td>\n",
       "      <td>0.0</td>\n",
       "      <td>1.0</td>\n",
       "    </tr>\n",
       "    <tr>\n",
       "      <th>101</th>\n",
       "      <td>ACCESS CO., LTD.</td>\n",
       "      <td>http://www.access-company.com/</td>\n",
       "      <td>NaN</td>\n",
       "      <td>NaN</td>\n",
       "      <td>Japan</td>\n",
       "      <td>JP</td>\n",
       "      <td>0.0</td>\n",
       "      <td>0.0</td>\n",
       "      <td>0.0</td>\n",
       "      <td>1.0</td>\n",
       "      <td>0.0</td>\n",
       "      <td>1.0</td>\n",
       "      <td>0.0</td>\n",
       "      <td>1.0</td>\n",
       "    </tr>\n",
       "    <tr>\n",
       "      <th>106</th>\n",
       "      <td>Fujitsu Limited</td>\n",
       "      <td>http://www.fujitsu.com</td>\n",
       "      <td>Fujitsu is a leading provider of IT-based busi...</td>\n",
       "      <td>NaN</td>\n",
       "      <td>Japan</td>\n",
       "      <td>JP</td>\n",
       "      <td>0.0</td>\n",
       "      <td>0.0</td>\n",
       "      <td>0.0</td>\n",
       "      <td>0.0</td>\n",
       "      <td>1.0</td>\n",
       "      <td>0.0</td>\n",
       "      <td>0.0</td>\n",
       "      <td>1.0</td>\n",
       "    </tr>\n",
       "    <tr>\n",
       "      <th>108</th>\n",
       "      <td>Hitachi, Ltd.</td>\n",
       "      <td>https://www.hitachi.com/</td>\n",
       "      <td>Hitachi has long experience in both OT(operati...</td>\n",
       "      <td>https://www.w3.org/thumbnails/120/logos/organi...</td>\n",
       "      <td>Japan</td>\n",
       "      <td>JP</td>\n",
       "      <td>0.0</td>\n",
       "      <td>0.0</td>\n",
       "      <td>0.0</td>\n",
       "      <td>0.0</td>\n",
       "      <td>0.0</td>\n",
       "      <td>0.0</td>\n",
       "      <td>1.0</td>\n",
       "      <td>1.0</td>\n",
       "    </tr>\n",
       "    <tr>\n",
       "      <th>109</th>\n",
       "      <td>Internet Academy</td>\n",
       "      <td>https://www.internetacademy.jp</td>\n",
       "      <td>Internet Academy has provided practical and in...</td>\n",
       "      <td>NaN</td>\n",
       "      <td>Japan</td>\n",
       "      <td>JP</td>\n",
       "      <td>0.0</td>\n",
       "      <td>0.0</td>\n",
       "      <td>0.0</td>\n",
       "      <td>0.0</td>\n",
       "      <td>1.0</td>\n",
       "      <td>0.0</td>\n",
       "      <td>0.0</td>\n",
       "      <td>1.0</td>\n",
       "    </tr>\n",
       "    <tr>\n",
       "      <th>110</th>\n",
       "      <td>Internet Research Institute, Inc.</td>\n",
       "      <td>http://www.iri.co.jp/</td>\n",
       "      <td>NaN</td>\n",
       "      <td>NaN</td>\n",
       "      <td>Japan</td>\n",
       "      <td>JP</td>\n",
       "      <td>0.0</td>\n",
       "      <td>0.0</td>\n",
       "      <td>0.0</td>\n",
       "      <td>0.0</td>\n",
       "      <td>0.0</td>\n",
       "      <td>0.0</td>\n",
       "      <td>1.0</td>\n",
       "      <td>1.0</td>\n",
       "    </tr>\n",
       "    <tr>\n",
       "      <th>113</th>\n",
       "      <td>Kadokawa Corporation</td>\n",
       "      <td>https://www.kadokawa.co.jp/</td>\n",
       "      <td>KADOKAWA group has expanded its business, reva...</td>\n",
       "      <td>https://www.w3.org/thumbnails/120/logos/organi...</td>\n",
       "      <td>Japan</td>\n",
       "      <td>JP</td>\n",
       "      <td>0.0</td>\n",
       "      <td>0.0</td>\n",
       "      <td>0.0</td>\n",
       "      <td>1.0</td>\n",
       "      <td>0.0</td>\n",
       "      <td>1.0</td>\n",
       "      <td>1.0</td>\n",
       "      <td>1.0</td>\n",
       "    </tr>\n",
       "    <tr>\n",
       "      <th>114</th>\n",
       "      <td>KDDI CORPORATION</td>\n",
       "      <td>http://www.kddi.com/</td>\n",
       "      <td>NaN</td>\n",
       "      <td>NaN</td>\n",
       "      <td>Japan</td>\n",
       "      <td>JP</td>\n",
       "      <td>0.0</td>\n",
       "      <td>0.0</td>\n",
       "      <td>1.0</td>\n",
       "      <td>1.0</td>\n",
       "      <td>1.0</td>\n",
       "      <td>0.0</td>\n",
       "      <td>0.0</td>\n",
       "      <td>1.0</td>\n",
       "    </tr>\n",
       "    <tr>\n",
       "      <th>115</th>\n",
       "      <td>Keio University</td>\n",
       "      <td>https://www.keio.ac.jp/</td>\n",
       "      <td>NaN</td>\n",
       "      <td>NaN</td>\n",
       "      <td>Japan</td>\n",
       "      <td>JP</td>\n",
       "      <td>1.0</td>\n",
       "      <td>1.0</td>\n",
       "      <td>1.0</td>\n",
       "      <td>0.0</td>\n",
       "      <td>1.0</td>\n",
       "      <td>0.0</td>\n",
       "      <td>0.0</td>\n",
       "      <td>1.0</td>\n",
       "    </tr>\n",
       "    <tr>\n",
       "      <th>116</th>\n",
       "      <td>Kodansha, Publishers, Ltd.</td>\n",
       "      <td>https://www.kodansha.co.jp/</td>\n",
       "      <td>We, Kodansha, are one of the biggest publishin...</td>\n",
       "      <td>https://www.w3.org/thumbnails/120/logos/organi...</td>\n",
       "      <td>Japan</td>\n",
       "      <td>JP</td>\n",
       "      <td>1.0</td>\n",
       "      <td>1.0</td>\n",
       "      <td>0.0</td>\n",
       "      <td>1.0</td>\n",
       "      <td>1.0</td>\n",
       "      <td>1.0</td>\n",
       "      <td>0.0</td>\n",
       "      <td>1.0</td>\n",
       "    </tr>\n",
       "    <tr>\n",
       "      <th>117</th>\n",
       "      <td>LY Corporation</td>\n",
       "      <td>https://www.lycorp.co.jp/</td>\n",
       "      <td>NaN</td>\n",
       "      <td>NaN</td>\n",
       "      <td>Japan</td>\n",
       "      <td>JP</td>\n",
       "      <td>1.0</td>\n",
       "      <td>0.0</td>\n",
       "      <td>1.0</td>\n",
       "      <td>0.0</td>\n",
       "      <td>0.0</td>\n",
       "      <td>0.0</td>\n",
       "      <td>0.0</td>\n",
       "      <td>1.0</td>\n",
       "    </tr>\n",
       "    <tr>\n",
       "      <th>118</th>\n",
       "      <td>MEDIA DO Co., Ltd.</td>\n",
       "      <td>https://www.mediado.jp/english/</td>\n",
       "      <td>NaN</td>\n",
       "      <td>NaN</td>\n",
       "      <td>Japan</td>\n",
       "      <td>JP</td>\n",
       "      <td>0.0</td>\n",
       "      <td>0.0</td>\n",
       "      <td>0.0</td>\n",
       "      <td>1.0</td>\n",
       "      <td>0.0</td>\n",
       "      <td>1.0</td>\n",
       "      <td>1.0</td>\n",
       "      <td>1.0</td>\n",
       "    </tr>\n",
       "    <tr>\n",
       "      <th>119</th>\n",
       "      <td>Mitsubishi Electric Corporation</td>\n",
       "      <td>http://www.mitsubishielectric.com/</td>\n",
       "      <td>NaN</td>\n",
       "      <td>NaN</td>\n",
       "      <td>Japan</td>\n",
       "      <td>JP</td>\n",
       "      <td>0.0</td>\n",
       "      <td>0.0</td>\n",
       "      <td>0.0</td>\n",
       "      <td>0.0</td>\n",
       "      <td>0.0</td>\n",
       "      <td>0.0</td>\n",
       "      <td>1.0</td>\n",
       "      <td>1.0</td>\n",
       "    </tr>\n",
       "    <tr>\n",
       "      <th>122</th>\n",
       "      <td>Newphoria Corporation</td>\n",
       "      <td>http://www.newphoria.co.jp/</td>\n",
       "      <td>NaN</td>\n",
       "      <td>https://www.w3.org/thumbnails/120/logos/organi...</td>\n",
       "      <td>Japan</td>\n",
       "      <td>JP</td>\n",
       "      <td>0.0</td>\n",
       "      <td>0.0</td>\n",
       "      <td>0.0</td>\n",
       "      <td>0.0</td>\n",
       "      <td>0.0</td>\n",
       "      <td>0.0</td>\n",
       "      <td>0.0</td>\n",
       "      <td>1.0</td>\n",
       "    </tr>\n",
       "    <tr>\n",
       "      <th>123</th>\n",
       "      <td>NHK (Japan Broadcasting Corporation)</td>\n",
       "      <td>https://www.nhk.or.jp/strl/english/</td>\n",
       "      <td>NHK, Nippon Hoso Kyokai (Japan Broadcasting Co...</td>\n",
       "      <td>https://www.w3.org/thumbnails/120/logos/organi...</td>\n",
       "      <td>Japan</td>\n",
       "      <td>JP</td>\n",
       "      <td>0.0</td>\n",
       "      <td>0.0</td>\n",
       "      <td>0.0</td>\n",
       "      <td>1.0</td>\n",
       "      <td>0.0</td>\n",
       "      <td>0.0</td>\n",
       "      <td>1.0</td>\n",
       "      <td>1.0</td>\n",
       "    </tr>\n",
       "    <tr>\n",
       "      <th>124</th>\n",
       "      <td>Nippon Telegraph &amp; Telephone Corp. (NTT)</td>\n",
       "      <td>https://group.ntt/en/</td>\n",
       "      <td>NaN</td>\n",
       "      <td>NaN</td>\n",
       "      <td>Japan</td>\n",
       "      <td>JP</td>\n",
       "      <td>0.0</td>\n",
       "      <td>0.0</td>\n",
       "      <td>1.0</td>\n",
       "      <td>1.0</td>\n",
       "      <td>0.0</td>\n",
       "      <td>0.0</td>\n",
       "      <td>0.0</td>\n",
       "      <td>1.0</td>\n",
       "    </tr>\n",
       "    <tr>\n",
       "      <th>130</th>\n",
       "      <td>SoftBank Corp.</td>\n",
       "      <td>http://www.softbank.jp/en/</td>\n",
       "      <td>NaN</td>\n",
       "      <td>https://www.w3.org/thumbnails/120/logos/organi...</td>\n",
       "      <td>Japan</td>\n",
       "      <td>JP</td>\n",
       "      <td>0.0</td>\n",
       "      <td>0.0</td>\n",
       "      <td>0.0</td>\n",
       "      <td>0.0</td>\n",
       "      <td>0.0</td>\n",
       "      <td>0.0</td>\n",
       "      <td>0.0</td>\n",
       "      <td>1.0</td>\n",
       "    </tr>\n",
       "    <tr>\n",
       "      <th>135</th>\n",
       "      <td>WebDINO Japan</td>\n",
       "      <td>https://www.webdino.org/</td>\n",
       "      <td>NaN</td>\n",
       "      <td>NaN</td>\n",
       "      <td>Japan</td>\n",
       "      <td>JP</td>\n",
       "      <td>0.0</td>\n",
       "      <td>0.0</td>\n",
       "      <td>1.0</td>\n",
       "      <td>0.0</td>\n",
       "      <td>0.0</td>\n",
       "      <td>0.0</td>\n",
       "      <td>0.0</td>\n",
       "      <td>1.0</td>\n",
       "    </tr>\n",
       "    <tr>\n",
       "      <th>138</th>\n",
       "      <td>Ecole Mohammadia d'Ingenieurs Rabat (EMI)</td>\n",
       "      <td>http://www.emi.ac.ma</td>\n",
       "      <td>Located in Rabat Morocco, Ecole Mohammadia d'I...</td>\n",
       "      <td>https://www.w3.org/thumbnails/120/logos/organi...</td>\n",
       "      <td>Morocco</td>\n",
       "      <td>MA</td>\n",
       "      <td>0.0</td>\n",
       "      <td>1.0</td>\n",
       "      <td>0.0</td>\n",
       "      <td>0.0</td>\n",
       "      <td>1.0</td>\n",
       "      <td>0.0</td>\n",
       "      <td>0.0</td>\n",
       "      <td>1.0</td>\n",
       "    </tr>\n",
       "    <tr>\n",
       "      <th>161</th>\n",
       "      <td>Electronics and Telecommunications Research In...</td>\n",
       "      <td>http://www.etri.re.kr</td>\n",
       "      <td>Established in 1976, ETRI is a non-profit gove...</td>\n",
       "      <td>https://www.w3.org/thumbnails/120/logos/organi...</td>\n",
       "      <td>South Korea</td>\n",
       "      <td>KR</td>\n",
       "      <td>0.0</td>\n",
       "      <td>1.0</td>\n",
       "      <td>0.0</td>\n",
       "      <td>1.0</td>\n",
       "      <td>1.0</td>\n",
       "      <td>0.0</td>\n",
       "      <td>0.0</td>\n",
       "      <td>1.0</td>\n",
       "    </tr>\n",
       "    <tr>\n",
       "      <th>162</th>\n",
       "      <td>Gooroomee Inc.</td>\n",
       "      <td>http://www.gooroomee.com</td>\n",
       "      <td>NaN</td>\n",
       "      <td>NaN</td>\n",
       "      <td>South Korea</td>\n",
       "      <td>KR</td>\n",
       "      <td>0.0</td>\n",
       "      <td>1.0</td>\n",
       "      <td>0.0</td>\n",
       "      <td>1.0</td>\n",
       "      <td>1.0</td>\n",
       "      <td>0.0</td>\n",
       "      <td>0.0</td>\n",
       "      <td>1.0</td>\n",
       "    </tr>\n",
       "    <tr>\n",
       "      <th>163</th>\n",
       "      <td>Inswave Systems Co., Ltd.</td>\n",
       "      <td>http://www.inswave.com</td>\n",
       "      <td>Inswave Systems Co., Ltd. is a software compan...</td>\n",
       "      <td>https://www.w3.org/thumbnails/120/logos/organi...</td>\n",
       "      <td>South Korea</td>\n",
       "      <td>KR</td>\n",
       "      <td>0.0</td>\n",
       "      <td>0.0</td>\n",
       "      <td>0.0</td>\n",
       "      <td>0.0</td>\n",
       "      <td>0.0</td>\n",
       "      <td>0.0</td>\n",
       "      <td>0.0</td>\n",
       "      <td>1.0</td>\n",
       "    </tr>\n",
       "    <tr>\n",
       "      <th>164</th>\n",
       "      <td>Korea Electronics Technology Institute (KETI)</td>\n",
       "      <td>https://www.keti.re.kr/eng/main/main.php</td>\n",
       "      <td>KETI is a leading R&amp;D institute specializing i...</td>\n",
       "      <td>https://www.w3.org/thumbnails/120/logos/organi...</td>\n",
       "      <td>South Korea</td>\n",
       "      <td>KR</td>\n",
       "      <td>0.0</td>\n",
       "      <td>0.0</td>\n",
       "      <td>0.0</td>\n",
       "      <td>0.0</td>\n",
       "      <td>0.0</td>\n",
       "      <td>0.0</td>\n",
       "      <td>0.0</td>\n",
       "      <td>1.0</td>\n",
       "    </tr>\n",
       "    <tr>\n",
       "      <th>169</th>\n",
       "      <td>Fundacion CTIC</td>\n",
       "      <td>http://www.fundacionctic.org</td>\n",
       "      <td>CTIC is a private non-profit Research and Tech...</td>\n",
       "      <td>https://www.w3.org/thumbnails/120/logos/organi...</td>\n",
       "      <td>Spain</td>\n",
       "      <td>ES</td>\n",
       "      <td>0.0</td>\n",
       "      <td>1.0</td>\n",
       "      <td>0.0</td>\n",
       "      <td>1.0</td>\n",
       "      <td>1.0</td>\n",
       "      <td>0.0</td>\n",
       "      <td>0.0</td>\n",
       "      <td>1.0</td>\n",
       "    </tr>\n",
       "    <tr>\n",
       "      <th>172</th>\n",
       "      <td>Universidad Politécnica de Madrid</td>\n",
       "      <td>https://www.upm.es</td>\n",
       "      <td>The Universidad Politécnica de Madrid is the l...</td>\n",
       "      <td>https://www.w3.org/thumbnails/120/logos/organi...</td>\n",
       "      <td>Spain</td>\n",
       "      <td>ES</td>\n",
       "      <td>0.0</td>\n",
       "      <td>1.0</td>\n",
       "      <td>0.0</td>\n",
       "      <td>1.0</td>\n",
       "      <td>1.0</td>\n",
       "      <td>0.0</td>\n",
       "      <td>1.0</td>\n",
       "      <td>1.0</td>\n",
       "    </tr>\n",
       "    <tr>\n",
       "      <th>174</th>\n",
       "      <td>ERICSSON</td>\n",
       "      <td>https://www.ericsson.com</td>\n",
       "      <td>Founded in 1876, Ericsson is the largest suppl...</td>\n",
       "      <td>NaN</td>\n",
       "      <td>Sweden</td>\n",
       "      <td>SE</td>\n",
       "      <td>0.0</td>\n",
       "      <td>0.0</td>\n",
       "      <td>0.0</td>\n",
       "      <td>1.0</td>\n",
       "      <td>0.0</td>\n",
       "      <td>0.0</td>\n",
       "      <td>0.0</td>\n",
       "      <td>1.0</td>\n",
       "    </tr>\n",
       "    <tr>\n",
       "      <th>176</th>\n",
       "      <td>Stiftelsen for internetinfrastruktur (IIS)</td>\n",
       "      <td>https://iis.se</td>\n",
       "      <td>NaN</td>\n",
       "      <td>NaN</td>\n",
       "      <td>Sweden</td>\n",
       "      <td>SE</td>\n",
       "      <td>0.0</td>\n",
       "      <td>0.0</td>\n",
       "      <td>0.0</td>\n",
       "      <td>0.0</td>\n",
       "      <td>0.0</td>\n",
       "      <td>0.0</td>\n",
       "      <td>0.0</td>\n",
       "      <td>1.0</td>\n",
       "    </tr>\n",
       "    <tr>\n",
       "      <th>207</th>\n",
       "      <td>The Open University</td>\n",
       "      <td>http://www.open.ac.uk</td>\n",
       "      <td>NaN</td>\n",
       "      <td>NaN</td>\n",
       "      <td>United Kingdom</td>\n",
       "      <td>GB</td>\n",
       "      <td>0.0</td>\n",
       "      <td>0.0</td>\n",
       "      <td>0.0</td>\n",
       "      <td>0.0</td>\n",
       "      <td>0.0</td>\n",
       "      <td>0.0</td>\n",
       "      <td>0.0</td>\n",
       "      <td>1.0</td>\n",
       "    </tr>\n",
       "    <tr>\n",
       "      <th>244</th>\n",
       "      <td>Conexxus</td>\n",
       "      <td>http://www.conexxus.org</td>\n",
       "      <td>NaN</td>\n",
       "      <td>NaN</td>\n",
       "      <td>United States</td>\n",
       "      <td>US</td>\n",
       "      <td>0.0</td>\n",
       "      <td>1.0</td>\n",
       "      <td>1.0</td>\n",
       "      <td>0.0</td>\n",
       "      <td>1.0</td>\n",
       "      <td>0.0</td>\n",
       "      <td>0.0</td>\n",
       "      <td>1.0</td>\n",
       "    </tr>\n",
       "    <tr>\n",
       "      <th>264</th>\n",
       "      <td>Google LLC</td>\n",
       "      <td>https://www.google.com/</td>\n",
       "      <td>Google's mission is to organize the world’s in...</td>\n",
       "      <td>https://www.w3.org/thumbnails/120/logos/organi...</td>\n",
       "      <td>United States</td>\n",
       "      <td>US</td>\n",
       "      <td>1.0</td>\n",
       "      <td>1.0</td>\n",
       "      <td>1.0</td>\n",
       "      <td>1.0</td>\n",
       "      <td>1.0</td>\n",
       "      <td>1.0</td>\n",
       "      <td>0.0</td>\n",
       "      <td>1.0</td>\n",
       "    </tr>\n",
       "    <tr>\n",
       "      <th>268</th>\n",
       "      <td>Hypothes.is Project</td>\n",
       "      <td>https://hypothes.is</td>\n",
       "      <td>NaN</td>\n",
       "      <td>NaN</td>\n",
       "      <td>United States</td>\n",
       "      <td>US</td>\n",
       "      <td>0.0</td>\n",
       "      <td>0.0</td>\n",
       "      <td>0.0</td>\n",
       "      <td>0.0</td>\n",
       "      <td>0.0</td>\n",
       "      <td>1.0</td>\n",
       "      <td>0.0</td>\n",
       "      <td>1.0</td>\n",
       "    </tr>\n",
       "    <tr>\n",
       "      <th>270</th>\n",
       "      <td>IBM Corporation</td>\n",
       "      <td>http://www.ibm.com/</td>\n",
       "      <td>IBM is a leading open hybrid cloud platform an...</td>\n",
       "      <td>NaN</td>\n",
       "      <td>United States</td>\n",
       "      <td>US</td>\n",
       "      <td>1.0</td>\n",
       "      <td>0.0</td>\n",
       "      <td>1.0</td>\n",
       "      <td>1.0</td>\n",
       "      <td>0.0</td>\n",
       "      <td>0.0</td>\n",
       "      <td>0.0</td>\n",
       "      <td>1.0</td>\n",
       "    </tr>\n",
       "    <tr>\n",
       "      <th>272</th>\n",
       "      <td>Ignite Retail Technology</td>\n",
       "      <td>http://ignite-retail.com</td>\n",
       "      <td>NaN</td>\n",
       "      <td>https://www.w3.org/thumbnails/120/logos/organi...</td>\n",
       "      <td>United States</td>\n",
       "      <td>US</td>\n",
       "      <td>0.0</td>\n",
       "      <td>1.0</td>\n",
       "      <td>1.0</td>\n",
       "      <td>0.0</td>\n",
       "      <td>0.0</td>\n",
       "      <td>0.0</td>\n",
       "      <td>0.0</td>\n",
       "      <td>1.0</td>\n",
       "    </tr>\n",
       "    <tr>\n",
       "      <th>275</th>\n",
       "      <td>Intel Corporation</td>\n",
       "      <td>http://www.intel.com/</td>\n",
       "      <td>NaN</td>\n",
       "      <td>NaN</td>\n",
       "      <td>United States</td>\n",
       "      <td>US</td>\n",
       "      <td>0.0</td>\n",
       "      <td>1.0</td>\n",
       "      <td>0.0</td>\n",
       "      <td>1.0</td>\n",
       "      <td>1.0</td>\n",
       "      <td>0.0</td>\n",
       "      <td>1.0</td>\n",
       "      <td>1.0</td>\n",
       "    </tr>\n",
       "    <tr>\n",
       "      <th>281</th>\n",
       "      <td>Knowbility</td>\n",
       "      <td>https://knowbility.org</td>\n",
       "      <td>NaN</td>\n",
       "      <td>NaN</td>\n",
       "      <td>United States</td>\n",
       "      <td>US</td>\n",
       "      <td>0.0</td>\n",
       "      <td>0.0</td>\n",
       "      <td>1.0</td>\n",
       "      <td>0.0</td>\n",
       "      <td>0.0</td>\n",
       "      <td>0.0</td>\n",
       "      <td>0.0</td>\n",
       "      <td>1.0</td>\n",
       "    </tr>\n",
       "    <tr>\n",
       "      <th>293</th>\n",
       "      <td>Microsoft Corporation</td>\n",
       "      <td>https://www.microsoft.com/</td>\n",
       "      <td>NaN</td>\n",
       "      <td>NaN</td>\n",
       "      <td>United States</td>\n",
       "      <td>US</td>\n",
       "      <td>1.0</td>\n",
       "      <td>1.0</td>\n",
       "      <td>1.0</td>\n",
       "      <td>1.0</td>\n",
       "      <td>1.0</td>\n",
       "      <td>0.0</td>\n",
       "      <td>0.0</td>\n",
       "      <td>1.0</td>\n",
       "    </tr>\n",
       "    <tr>\n",
       "      <th>309</th>\n",
       "      <td>OpenLink Software Inc.</td>\n",
       "      <td>http://www.openlinksw.com</td>\n",
       "      <td>NaN</td>\n",
       "      <td>NaN</td>\n",
       "      <td>United States</td>\n",
       "      <td>US</td>\n",
       "      <td>1.0</td>\n",
       "      <td>1.0</td>\n",
       "      <td>0.0</td>\n",
       "      <td>0.0</td>\n",
       "      <td>0.0</td>\n",
       "      <td>0.0</td>\n",
       "      <td>0.0</td>\n",
       "      <td>1.0</td>\n",
       "    </tr>\n",
       "    <tr>\n",
       "      <th>311</th>\n",
       "      <td>Oracle Corporation</td>\n",
       "      <td>http://www.oracle.com/</td>\n",
       "      <td>Oracle is committed to preserving the open sta...</td>\n",
       "      <td>NaN</td>\n",
       "      <td>United States</td>\n",
       "      <td>US</td>\n",
       "      <td>1.0</td>\n",
       "      <td>1.0</td>\n",
       "      <td>1.0</td>\n",
       "      <td>0.0</td>\n",
       "      <td>0.0</td>\n",
       "      <td>0.0</td>\n",
       "      <td>0.0</td>\n",
       "      <td>1.0</td>\n",
       "    </tr>\n",
       "    <tr>\n",
       "      <th>346</th>\n",
       "      <td>Wikimedia Foundation</td>\n",
       "      <td>https://wikimediafoundation.org/</td>\n",
       "      <td>NaN</td>\n",
       "      <td>NaN</td>\n",
       "      <td>United States</td>\n",
       "      <td>US</td>\n",
       "      <td>0.0</td>\n",
       "      <td>0.0</td>\n",
       "      <td>0.0</td>\n",
       "      <td>0.0</td>\n",
       "      <td>1.0</td>\n",
       "      <td>0.0</td>\n",
       "      <td>0.0</td>\n",
       "      <td>1.0</td>\n",
       "    </tr>\n",
       "  </tbody>\n",
       "</table>\n",
       "</div>"
      ],
      "text/plain": [
       "                                                  name  \\\n",
       "8    WU (Wirschaftsuniversität Wien) - Vienna Unive...   \n",
       "12                                                imec   \n",
       "27                                                 360   \n",
       "28                                       Alibaba Group   \n",
       "33                                           ByteDance   \n",
       "36             China Mobile Communications Corporation   \n",
       "42                                              Huawei   \n",
       "51                                             Tencent   \n",
       "55                             Agency for Digitisation   \n",
       "65                                                FIME   \n",
       "66                              Institut Mines-Télécom   \n",
       "67   Institut National de Recherche en Informatique...   \n",
       "70                                      Datagraph GmbH   \n",
       "72                  Forschungszentrum Informatik (FZI)   \n",
       "73                             Fraunhofer Gesellschaft   \n",
       "75                                              HiveMQ   \n",
       "79                                          Siemens AG   \n",
       "84                                              |pipe|   \n",
       "92             INSIGHT - The Centre for Data Analytics   \n",
       "101                                   ACCESS CO., LTD.   \n",
       "106                                    Fujitsu Limited   \n",
       "108                                      Hitachi, Ltd.   \n",
       "109                                   Internet Academy   \n",
       "110                  Internet Research Institute, Inc.   \n",
       "113                               Kadokawa Corporation   \n",
       "114                                   KDDI CORPORATION   \n",
       "115                                    Keio University   \n",
       "116                         Kodansha, Publishers, Ltd.   \n",
       "117                                     LY Corporation   \n",
       "118                                 MEDIA DO Co., Ltd.   \n",
       "119                    Mitsubishi Electric Corporation   \n",
       "122                              Newphoria Corporation   \n",
       "123               NHK (Japan Broadcasting Corporation)   \n",
       "124           Nippon Telegraph & Telephone Corp. (NTT)   \n",
       "130                                     SoftBank Corp.   \n",
       "135                                      WebDINO Japan   \n",
       "138          Ecole Mohammadia d'Ingenieurs Rabat (EMI)   \n",
       "161  Electronics and Telecommunications Research In...   \n",
       "162                                     Gooroomee Inc.   \n",
       "163                          Inswave Systems Co., Ltd.   \n",
       "164      Korea Electronics Technology Institute (KETI)   \n",
       "169                                     Fundacion CTIC   \n",
       "172                  Universidad Politécnica de Madrid   \n",
       "174                                           ERICSSON   \n",
       "176         Stiftelsen for internetinfrastruktur (IIS)   \n",
       "207                                The Open University   \n",
       "244                                           Conexxus   \n",
       "264                                         Google LLC   \n",
       "268                                Hypothes.is Project   \n",
       "270                                    IBM Corporation   \n",
       "272                           Ignite Retail Technology   \n",
       "275                                  Intel Corporation   \n",
       "281                                         Knowbility   \n",
       "293                              Microsoft Corporation   \n",
       "309                             OpenLink Software Inc.   \n",
       "311                                 Oracle Corporation   \n",
       "346                               Wikimedia Foundation   \n",
       "\n",
       "                                              website  \\\n",
       "8                               https://www.wu.ac.at/   \n",
       "12                          https://www.imec-int.com/   \n",
       "27                                https://www.360.cn/   \n",
       "28         http://www.alibabagroup.com/en/global/home   \n",
       "33                             https://bytedance.com/   \n",
       "36   http://www.chinamobileltd.com/en/global/home.php   \n",
       "42                              http://www.huawei.com   \n",
       "51                             http://www.tencent.com   \n",
       "55                               https://en.digst.dk/   \n",
       "65                              https://www.fime.com/   \n",
       "66                                https://www.imt.fr/   \n",
       "67                              https://www.inria.fr/   \n",
       "70                                 https://dydra.com/   \n",
       "72                                  http://www.fzi.de   \n",
       "73                  https://www.fraunhofer.de/en.html   \n",
       "75                            https://www.hivemq.com/   \n",
       "79                            https://www.siemens.com   \n",
       "84                                      https://pi.pe   \n",
       "92                      http://www.insight-centre.org   \n",
       "101                    http://www.access-company.com/   \n",
       "106                            http://www.fujitsu.com   \n",
       "108                          https://www.hitachi.com/   \n",
       "109                    https://www.internetacademy.jp   \n",
       "110                             http://www.iri.co.jp/   \n",
       "113                       https://www.kadokawa.co.jp/   \n",
       "114                              http://www.kddi.com/   \n",
       "115                           https://www.keio.ac.jp/   \n",
       "116                       https://www.kodansha.co.jp/   \n",
       "117                         https://www.lycorp.co.jp/   \n",
       "118                   https://www.mediado.jp/english/   \n",
       "119                http://www.mitsubishielectric.com/   \n",
       "122                       http://www.newphoria.co.jp/   \n",
       "123               https://www.nhk.or.jp/strl/english/   \n",
       "124                             https://group.ntt/en/   \n",
       "130                        http://www.softbank.jp/en/   \n",
       "135                          https://www.webdino.org/   \n",
       "138                              http://www.emi.ac.ma   \n",
       "161                             http://www.etri.re.kr   \n",
       "162                          http://www.gooroomee.com   \n",
       "163                            http://www.inswave.com   \n",
       "164          https://www.keti.re.kr/eng/main/main.php   \n",
       "169                      http://www.fundacionctic.org   \n",
       "172                                https://www.upm.es   \n",
       "174                          https://www.ericsson.com   \n",
       "176                                    https://iis.se   \n",
       "207                             http://www.open.ac.uk   \n",
       "244                           http://www.conexxus.org   \n",
       "264                           https://www.google.com/   \n",
       "268                               https://hypothes.is   \n",
       "270                               http://www.ibm.com/   \n",
       "272                          http://ignite-retail.com   \n",
       "275                             http://www.intel.com/   \n",
       "281                            https://knowbility.org   \n",
       "293                        https://www.microsoft.com/   \n",
       "309                         http://www.openlinksw.com   \n",
       "311                            http://www.oracle.com/   \n",
       "346                  https://wikimediafoundation.org/   \n",
       "\n",
       "                                           description  \\\n",
       "8                                                  NaN   \n",
       "12   Flanders' research institute imec is devoted t...   \n",
       "27                                                 NaN   \n",
       "28                                                 NaN   \n",
       "33                                                 NaN   \n",
       "36                                                 NaN   \n",
       "42                                                 NaN   \n",
       "51                                                 NaN   \n",
       "55                                                 NaN   \n",
       "65                                                 NaN   \n",
       "66                                                 NaN   \n",
       "67   Inria is a founding member of W3C. Inria is th...   \n",
       "70                                                 NaN   \n",
       "72                                                 NaN   \n",
       "73   Fraunhofer-Gesellschaft is the largest organiz...   \n",
       "75                                                 NaN   \n",
       "79                                                 NaN   \n",
       "84                                                 NaN   \n",
       "92                                                 NaN   \n",
       "101                                                NaN   \n",
       "106  Fujitsu is a leading provider of IT-based busi...   \n",
       "108  Hitachi has long experience in both OT(operati...   \n",
       "109  Internet Academy has provided practical and in...   \n",
       "110                                                NaN   \n",
       "113  KADOKAWA group has expanded its business, reva...   \n",
       "114                                                NaN   \n",
       "115                                                NaN   \n",
       "116  We, Kodansha, are one of the biggest publishin...   \n",
       "117                                                NaN   \n",
       "118                                                NaN   \n",
       "119                                                NaN   \n",
       "122                                                NaN   \n",
       "123  NHK, Nippon Hoso Kyokai (Japan Broadcasting Co...   \n",
       "124                                                NaN   \n",
       "130                                                NaN   \n",
       "135                                                NaN   \n",
       "138  Located in Rabat Morocco, Ecole Mohammadia d'I...   \n",
       "161  Established in 1976, ETRI is a non-profit gove...   \n",
       "162                                                NaN   \n",
       "163  Inswave Systems Co., Ltd. is a software compan...   \n",
       "164  KETI is a leading R&D institute specializing i...   \n",
       "169  CTIC is a private non-profit Research and Tech...   \n",
       "172  The Universidad Politécnica de Madrid is the l...   \n",
       "174  Founded in 1876, Ericsson is the largest suppl...   \n",
       "176                                                NaN   \n",
       "207                                                NaN   \n",
       "244                                                NaN   \n",
       "264  Google's mission is to organize the world’s in...   \n",
       "268                                                NaN   \n",
       "270  IBM is a leading open hybrid cloud platform an...   \n",
       "272                                                NaN   \n",
       "275                                                NaN   \n",
       "281                                                NaN   \n",
       "293                                                NaN   \n",
       "309                                                NaN   \n",
       "311  Oracle is committed to preserving the open sta...   \n",
       "346                                                NaN   \n",
       "\n",
       "                                                  logo         country  \\\n",
       "8    https://www.w3.org/thumbnails/120/logos/organi...         Austria   \n",
       "12   https://www.w3.org/thumbnails/120/logos/organi...         Belgium   \n",
       "27                                                 NaN           China   \n",
       "28                                                 NaN           China   \n",
       "33                                                 NaN           China   \n",
       "36                                                 NaN           China   \n",
       "42   https://www.w3.org/thumbnails/120/logos/organi...           China   \n",
       "51                                                 NaN           China   \n",
       "55                                                 NaN         Denmark   \n",
       "65   https://www.w3.org/thumbnails/120/logos/organi...          France   \n",
       "66                                                 NaN          France   \n",
       "67   https://www.w3.org/thumbnails/120/logos/organi...          France   \n",
       "70                                                 NaN         Germany   \n",
       "72                                                 NaN         Germany   \n",
       "73   https://www.w3.org/thumbnails/120/logos/organi...         Germany   \n",
       "75                                                 NaN         Germany   \n",
       "79                                                 NaN         Germany   \n",
       "84                                                 NaN         Germany   \n",
       "92                                                 NaN         Ireland   \n",
       "101                                                NaN           Japan   \n",
       "106                                                NaN           Japan   \n",
       "108  https://www.w3.org/thumbnails/120/logos/organi...           Japan   \n",
       "109                                                NaN           Japan   \n",
       "110                                                NaN           Japan   \n",
       "113  https://www.w3.org/thumbnails/120/logos/organi...           Japan   \n",
       "114                                                NaN           Japan   \n",
       "115                                                NaN           Japan   \n",
       "116  https://www.w3.org/thumbnails/120/logos/organi...           Japan   \n",
       "117                                                NaN           Japan   \n",
       "118                                                NaN           Japan   \n",
       "119                                                NaN           Japan   \n",
       "122  https://www.w3.org/thumbnails/120/logos/organi...           Japan   \n",
       "123  https://www.w3.org/thumbnails/120/logos/organi...           Japan   \n",
       "124                                                NaN           Japan   \n",
       "130  https://www.w3.org/thumbnails/120/logos/organi...           Japan   \n",
       "135                                                NaN           Japan   \n",
       "138  https://www.w3.org/thumbnails/120/logos/organi...         Morocco   \n",
       "161  https://www.w3.org/thumbnails/120/logos/organi...     South Korea   \n",
       "162                                                NaN     South Korea   \n",
       "163  https://www.w3.org/thumbnails/120/logos/organi...     South Korea   \n",
       "164  https://www.w3.org/thumbnails/120/logos/organi...     South Korea   \n",
       "169  https://www.w3.org/thumbnails/120/logos/organi...           Spain   \n",
       "172  https://www.w3.org/thumbnails/120/logos/organi...           Spain   \n",
       "174                                                NaN          Sweden   \n",
       "176                                                NaN          Sweden   \n",
       "207                                                NaN  United Kingdom   \n",
       "244                                                NaN   United States   \n",
       "264  https://www.w3.org/thumbnails/120/logos/organi...   United States   \n",
       "268                                                NaN   United States   \n",
       "270                                                NaN   United States   \n",
       "272  https://www.w3.org/thumbnails/120/logos/organi...   United States   \n",
       "275                                                NaN   United States   \n",
       "281                                                NaN   United States   \n",
       "293                                                NaN   United States   \n",
       "309                                                NaN   United States   \n",
       "311                                                NaN   United States   \n",
       "346                                                NaN   United States   \n",
       "\n",
       "    country_code  advertising  data  e_commerce  media  \\\n",
       "8             AT          0.0   1.0         0.0    0.0   \n",
       "12            BE          0.0   1.0         0.0    1.0   \n",
       "27            CN          0.0   1.0         1.0    0.0   \n",
       "28            CN          1.0   1.0         1.0    1.0   \n",
       "33            CN          1.0   1.0         0.0    1.0   \n",
       "36            CN          0.0   0.0         0.0    1.0   \n",
       "42            CN          1.0   0.0         1.0    1.0   \n",
       "51            CN          0.0   0.0         0.0    1.0   \n",
       "55            DK          0.0   0.0         0.0    0.0   \n",
       "65            FR          0.0   0.0         1.0    0.0   \n",
       "66            FR          0.0   1.0         0.0    1.0   \n",
       "67            FR          1.0   1.0         0.0    1.0   \n",
       "70            DE          0.0   1.0         0.0    0.0   \n",
       "72            DE          0.0   1.0         0.0    0.0   \n",
       "73            DE          0.0   1.0         0.0    1.0   \n",
       "75            DE          0.0   0.0         0.0    0.0   \n",
       "79            DE          0.0   1.0         0.0    0.0   \n",
       "84            DE          0.0   0.0         0.0    1.0   \n",
       "92            IE          1.0   1.0         0.0    0.0   \n",
       "101           JP          0.0   0.0         0.0    1.0   \n",
       "106           JP          0.0   0.0         0.0    0.0   \n",
       "108           JP          0.0   0.0         0.0    0.0   \n",
       "109           JP          0.0   0.0         0.0    0.0   \n",
       "110           JP          0.0   0.0         0.0    0.0   \n",
       "113           JP          0.0   0.0         0.0    1.0   \n",
       "114           JP          0.0   0.0         1.0    1.0   \n",
       "115           JP          1.0   1.0         1.0    0.0   \n",
       "116           JP          1.0   1.0         0.0    1.0   \n",
       "117           JP          1.0   0.0         1.0    0.0   \n",
       "118           JP          0.0   0.0         0.0    1.0   \n",
       "119           JP          0.0   0.0         0.0    0.0   \n",
       "122           JP          0.0   0.0         0.0    0.0   \n",
       "123           JP          0.0   0.0         0.0    1.0   \n",
       "124           JP          0.0   0.0         1.0    1.0   \n",
       "130           JP          0.0   0.0         0.0    0.0   \n",
       "135           JP          0.0   0.0         1.0    0.0   \n",
       "138           MA          0.0   1.0         0.0    0.0   \n",
       "161           KR          0.0   1.0         0.0    1.0   \n",
       "162           KR          0.0   1.0         0.0    1.0   \n",
       "163           KR          0.0   0.0         0.0    0.0   \n",
       "164           KR          0.0   0.0         0.0    0.0   \n",
       "169           ES          0.0   1.0         0.0    1.0   \n",
       "172           ES          0.0   1.0         0.0    1.0   \n",
       "174           SE          0.0   0.0         0.0    1.0   \n",
       "176           SE          0.0   0.0         0.0    0.0   \n",
       "207           GB          0.0   0.0         0.0    0.0   \n",
       "244           US          0.0   1.0         1.0    0.0   \n",
       "264           US          1.0   1.0         1.0    1.0   \n",
       "268           US          0.0   0.0         0.0    0.0   \n",
       "270           US          1.0   0.0         1.0    1.0   \n",
       "272           US          0.0   1.0         1.0    0.0   \n",
       "275           US          0.0   1.0         0.0    1.0   \n",
       "281           US          0.0   0.0         1.0    0.0   \n",
       "293           US          1.0   1.0         1.0    1.0   \n",
       "309           US          1.0   1.0         0.0    0.0   \n",
       "311           US          1.0   1.0         1.0    0.0   \n",
       "346           US          0.0   0.0         0.0    0.0   \n",
       "\n",
       "     network_communications  publishing  smart_cities  web_of_things  \n",
       "8                       0.0         0.0           0.0            1.0  \n",
       "12                      0.0         0.0           0.0            1.0  \n",
       "27                      1.0         0.0           0.0            1.0  \n",
       "28                      1.0         0.0           0.0            1.0  \n",
       "33                      1.0         0.0           0.0            1.0  \n",
       "36                      1.0         0.0           1.0            1.0  \n",
       "42                      1.0         0.0           0.0            1.0  \n",
       "51                      1.0         0.0           0.0            1.0  \n",
       "55                      0.0         0.0           0.0            1.0  \n",
       "65                      0.0         0.0           0.0            1.0  \n",
       "66                      0.0         0.0           0.0            1.0  \n",
       "67                      1.0         0.0           0.0            1.0  \n",
       "70                      0.0         0.0           0.0            1.0  \n",
       "72                      0.0         0.0           0.0            1.0  \n",
       "73                      1.0         0.0           0.0            1.0  \n",
       "75                      0.0         0.0           0.0            1.0  \n",
       "79                      0.0         0.0           1.0            1.0  \n",
       "84                      1.0         0.0           0.0            1.0  \n",
       "92                      0.0         0.0           0.0            1.0  \n",
       "101                     0.0         1.0           0.0            1.0  \n",
       "106                     1.0         0.0           0.0            1.0  \n",
       "108                     0.0         0.0           1.0            1.0  \n",
       "109                     1.0         0.0           0.0            1.0  \n",
       "110                     0.0         0.0           1.0            1.0  \n",
       "113                     0.0         1.0           1.0            1.0  \n",
       "114                     1.0         0.0           0.0            1.0  \n",
       "115                     1.0         0.0           0.0            1.0  \n",
       "116                     1.0         1.0           0.0            1.0  \n",
       "117                     0.0         0.0           0.0            1.0  \n",
       "118                     0.0         1.0           1.0            1.0  \n",
       "119                     0.0         0.0           1.0            1.0  \n",
       "122                     0.0         0.0           0.0            1.0  \n",
       "123                     0.0         0.0           1.0            1.0  \n",
       "124                     0.0         0.0           0.0            1.0  \n",
       "130                     0.0         0.0           0.0            1.0  \n",
       "135                     0.0         0.0           0.0            1.0  \n",
       "138                     1.0         0.0           0.0            1.0  \n",
       "161                     1.0         0.0           0.0            1.0  \n",
       "162                     1.0         0.0           0.0            1.0  \n",
       "163                     0.0         0.0           0.0            1.0  \n",
       "164                     0.0         0.0           0.0            1.0  \n",
       "169                     1.0         0.0           0.0            1.0  \n",
       "172                     1.0         0.0           1.0            1.0  \n",
       "174                     0.0         0.0           0.0            1.0  \n",
       "176                     0.0         0.0           0.0            1.0  \n",
       "207                     0.0         0.0           0.0            1.0  \n",
       "244                     1.0         0.0           0.0            1.0  \n",
       "264                     1.0         1.0           0.0            1.0  \n",
       "268                     0.0         1.0           0.0            1.0  \n",
       "270                     0.0         0.0           0.0            1.0  \n",
       "272                     0.0         0.0           0.0            1.0  \n",
       "275                     1.0         0.0           1.0            1.0  \n",
       "281                     0.0         0.0           0.0            1.0  \n",
       "293                     1.0         0.0           0.0            1.0  \n",
       "309                     0.0         0.0           0.0            1.0  \n",
       "311                     0.0         0.0           0.0            1.0  \n",
       "346                     1.0         0.0           0.0            1.0  "
      ]
     },
     "execution_count": 86,
     "metadata": {},
     "output_type": "execute_result"
    }
   ],
   "source": [
    "# One specific ecosystem:\n",
    "eco = 'web_of_things'\n",
    "member_df.loc[member_df[eco] == 1]"
   ]
  },
  {
   "cell_type": "code",
   "execution_count": 87,
   "id": "e1fef190-19b7-4bb7-9f05-ef9fa5ffc3cb",
   "metadata": {},
   "outputs": [
    {
     "data": {
      "text/html": [
       "<div>\n",
       "<style scoped>\n",
       "    .dataframe tbody tr th:only-of-type {\n",
       "        vertical-align: middle;\n",
       "    }\n",
       "\n",
       "    .dataframe tbody tr th {\n",
       "        vertical-align: top;\n",
       "    }\n",
       "\n",
       "    .dataframe thead th {\n",
       "        text-align: right;\n",
       "    }\n",
       "</style>\n",
       "<table border=\"1\" class=\"dataframe\">\n",
       "  <thead>\n",
       "    <tr style=\"text-align: right;\">\n",
       "      <th></th>\n",
       "      <th>name</th>\n",
       "      <th>website</th>\n",
       "      <th>description</th>\n",
       "      <th>logo</th>\n",
       "      <th>country</th>\n",
       "      <th>country_code</th>\n",
       "      <th>advertising</th>\n",
       "      <th>data</th>\n",
       "      <th>e_commerce</th>\n",
       "      <th>media</th>\n",
       "      <th>network_communications</th>\n",
       "      <th>publishing</th>\n",
       "      <th>smart_cities</th>\n",
       "      <th>web_of_things</th>\n",
       "    </tr>\n",
       "  </thead>\n",
       "  <tbody>\n",
       "    <tr>\n",
       "      <th>264</th>\n",
       "      <td>Google LLC</td>\n",
       "      <td>https://www.google.com/</td>\n",
       "      <td>Google's mission is to organize the world’s in...</td>\n",
       "      <td>https://www.w3.org/thumbnails/120/logos/organi...</td>\n",
       "      <td>United States</td>\n",
       "      <td>US</td>\n",
       "      <td>1.0</td>\n",
       "      <td>1.0</td>\n",
       "      <td>1.0</td>\n",
       "      <td>1.0</td>\n",
       "      <td>1.0</td>\n",
       "      <td>1.0</td>\n",
       "      <td>0.0</td>\n",
       "      <td>1.0</td>\n",
       "    </tr>\n",
       "  </tbody>\n",
       "</table>\n",
       "</div>"
      ],
      "text/plain": [
       "           name                  website  \\\n",
       "264  Google LLC  https://www.google.com/   \n",
       "\n",
       "                                           description  \\\n",
       "264  Google's mission is to organize the world’s in...   \n",
       "\n",
       "                                                  logo        country  \\\n",
       "264  https://www.w3.org/thumbnails/120/logos/organi...  United States   \n",
       "\n",
       "    country_code  advertising  data  e_commerce  media  \\\n",
       "264           US          1.0   1.0         1.0    1.0   \n",
       "\n",
       "     network_communications  publishing  smart_cities  web_of_things  \n",
       "264                     1.0         1.0           0.0            1.0  "
      ]
     },
     "execution_count": 87,
     "metadata": {},
     "output_type": "execute_result"
    }
   ],
   "source": [
    "# Google:\n",
    "member_df.loc[member_df['name'].str.contains('google', case=False)]"
   ]
  },
  {
   "cell_type": "code",
   "execution_count": null,
   "id": "c2e6c29f-b1c9-443d-b250-9fedda0cf971",
   "metadata": {},
   "outputs": [],
   "source": [
    "# Meta:\n",
    "member_df.loc[member_df['name'].str.contains('meta', case=False)]"
   ]
  },
  {
   "cell_type": "markdown",
   "id": "b19a2ca9-ef01-451d-9e8e-72520f6cc9c9",
   "metadata": {},
   "source": [
    "**Conclusions:** it seems that large companies are involved in almost all ecosystems."
   ]
  },
  {
   "cell_type": "markdown",
   "id": "02170209-524f-4897-9d80-fb2553e00277",
   "metadata": {},
   "source": [
    "#### Relation between ecosystems"
   ]
  },
  {
   "cell_type": "code",
   "execution_count": 3,
   "id": "ee1c0c2e-7444-4e90-b2a3-e251576bd333",
   "metadata": {},
   "outputs": [
    {
     "name": "stderr",
     "output_type": "stream",
     "text": [
      "WARNING (pytensor.tensor.blas): Using NumPy C-API based implementation for BLAS functions.\n"
     ]
    }
   ],
   "source": [
    "import brass as br"
   ]
  },
  {
   "cell_type": "code",
   "execution_count": 4,
   "id": "9651b318-e734-4887-bd2d-7d95e362a8bd",
   "metadata": {},
   "outputs": [],
   "source": [
    "marked_ecosystem_df = member_df.set_index('name').iloc[:, 5:].dropna(how='all').astype(int)"
   ]
  },
  {
   "cell_type": "code",
   "execution_count": 15,
   "id": "69d00ce2-1f42-428a-8561-7b9f9b87277a",
   "metadata": {},
   "outputs": [
    {
     "name": "stdout",
     "output_type": "stream",
     "text": [
      "advertising x data\n"
     ]
    },
    {
     "name": "stderr",
     "output_type": "stream",
     "text": [
      "Auto-assigning NUTS sampler...\n",
      "Initializing NUTS using jitter+adapt_diag...\n",
      "Multiprocess sampling (4 chains in 4 jobs)\n",
      "NUTS: [pair_probs]\n"
     ]
    },
    {
     "data": {
      "text/html": [
       "\n",
       "<style>\n",
       "    /* Turns off some styling */\n",
       "    progress {\n",
       "        /* gets rid of default border in Firefox and Opera. */\n",
       "        border: none;\n",
       "        /* Needs to be in here for Safari polyfill so background images work as expected. */\n",
       "        background-size: auto;\n",
       "    }\n",
       "    progress:not([value]), progress:not([value])::-webkit-progress-bar {\n",
       "        background: repeating-linear-gradient(45deg, #7e7e7e, #7e7e7e 10px, #5c5c5c 10px, #5c5c5c 20px);\n",
       "    }\n",
       "    .progress-bar-interrupted, .progress-bar-interrupted::-webkit-progress-bar {\n",
       "        background: #F44336;\n",
       "    }\n",
       "</style>\n"
      ],
      "text/plain": [
       "<IPython.core.display.HTML object>"
      ]
     },
     "metadata": {},
     "output_type": "display_data"
    },
    {
     "data": {
      "text/html": [
       "\n",
       "    <div>\n",
       "      <progress value='14000' class='' max='14000' style='width:300px; height:20px; vertical-align: middle;'></progress>\n",
       "      100.00% [14000/14000 00:02&lt;00:00 Sampling 4 chains, 0 divergences]\n",
       "    </div>\n",
       "    "
      ],
      "text/plain": [
       "<IPython.core.display.HTML object>"
      ]
     },
     "metadata": {},
     "output_type": "display_data"
    },
    {
     "name": "stderr",
     "output_type": "stream",
     "text": [
      "Sampling 4 chains for 1_000 tune and 2_500 draw iterations (4_000 + 10_000 draws total) took 3 seconds.\n"
     ]
    },
    {
     "name": "stdout",
     "output_type": "stream",
     "text": [
      "advertising x e_commerce\n"
     ]
    },
    {
     "name": "stderr",
     "output_type": "stream",
     "text": [
      "Auto-assigning NUTS sampler...\n",
      "Initializing NUTS using jitter+adapt_diag...\n",
      "Multiprocess sampling (4 chains in 4 jobs)\n",
      "NUTS: [pair_probs]\n"
     ]
    },
    {
     "data": {
      "text/html": [
       "\n",
       "<style>\n",
       "    /* Turns off some styling */\n",
       "    progress {\n",
       "        /* gets rid of default border in Firefox and Opera. */\n",
       "        border: none;\n",
       "        /* Needs to be in here for Safari polyfill so background images work as expected. */\n",
       "        background-size: auto;\n",
       "    }\n",
       "    progress:not([value]), progress:not([value])::-webkit-progress-bar {\n",
       "        background: repeating-linear-gradient(45deg, #7e7e7e, #7e7e7e 10px, #5c5c5c 10px, #5c5c5c 20px);\n",
       "    }\n",
       "    .progress-bar-interrupted, .progress-bar-interrupted::-webkit-progress-bar {\n",
       "        background: #F44336;\n",
       "    }\n",
       "</style>\n"
      ],
      "text/plain": [
       "<IPython.core.display.HTML object>"
      ]
     },
     "metadata": {},
     "output_type": "display_data"
    },
    {
     "data": {
      "text/html": [
       "\n",
       "    <div>\n",
       "      <progress value='14000' class='' max='14000' style='width:300px; height:20px; vertical-align: middle;'></progress>\n",
       "      100.00% [14000/14000 00:02&lt;00:00 Sampling 4 chains, 0 divergences]\n",
       "    </div>\n",
       "    "
      ],
      "text/plain": [
       "<IPython.core.display.HTML object>"
      ]
     },
     "metadata": {},
     "output_type": "display_data"
    },
    {
     "name": "stderr",
     "output_type": "stream",
     "text": [
      "Sampling 4 chains for 1_000 tune and 2_500 draw iterations (4_000 + 10_000 draws total) took 3 seconds.\n"
     ]
    },
    {
     "name": "stdout",
     "output_type": "stream",
     "text": [
      "advertising x media\n"
     ]
    },
    {
     "name": "stderr",
     "output_type": "stream",
     "text": [
      "Auto-assigning NUTS sampler...\n",
      "Initializing NUTS using jitter+adapt_diag...\n",
      "Multiprocess sampling (4 chains in 4 jobs)\n",
      "NUTS: [pair_probs]\n"
     ]
    },
    {
     "data": {
      "text/html": [
       "\n",
       "<style>\n",
       "    /* Turns off some styling */\n",
       "    progress {\n",
       "        /* gets rid of default border in Firefox and Opera. */\n",
       "        border: none;\n",
       "        /* Needs to be in here for Safari polyfill so background images work as expected. */\n",
       "        background-size: auto;\n",
       "    }\n",
       "    progress:not([value]), progress:not([value])::-webkit-progress-bar {\n",
       "        background: repeating-linear-gradient(45deg, #7e7e7e, #7e7e7e 10px, #5c5c5c 10px, #5c5c5c 20px);\n",
       "    }\n",
       "    .progress-bar-interrupted, .progress-bar-interrupted::-webkit-progress-bar {\n",
       "        background: #F44336;\n",
       "    }\n",
       "</style>\n"
      ],
      "text/plain": [
       "<IPython.core.display.HTML object>"
      ]
     },
     "metadata": {},
     "output_type": "display_data"
    },
    {
     "data": {
      "text/html": [
       "\n",
       "    <div>\n",
       "      <progress value='14000' class='' max='14000' style='width:300px; height:20px; vertical-align: middle;'></progress>\n",
       "      100.00% [14000/14000 00:02&lt;00:00 Sampling 4 chains, 0 divergences]\n",
       "    </div>\n",
       "    "
      ],
      "text/plain": [
       "<IPython.core.display.HTML object>"
      ]
     },
     "metadata": {},
     "output_type": "display_data"
    },
    {
     "name": "stderr",
     "output_type": "stream",
     "text": [
      "Sampling 4 chains for 1_000 tune and 2_500 draw iterations (4_000 + 10_000 draws total) took 3 seconds.\n"
     ]
    },
    {
     "name": "stdout",
     "output_type": "stream",
     "text": [
      "advertising x network_communications\n"
     ]
    },
    {
     "name": "stderr",
     "output_type": "stream",
     "text": [
      "Auto-assigning NUTS sampler...\n",
      "Initializing NUTS using jitter+adapt_diag...\n",
      "Multiprocess sampling (4 chains in 4 jobs)\n",
      "NUTS: [pair_probs]\n"
     ]
    },
    {
     "data": {
      "text/html": [
       "\n",
       "<style>\n",
       "    /* Turns off some styling */\n",
       "    progress {\n",
       "        /* gets rid of default border in Firefox and Opera. */\n",
       "        border: none;\n",
       "        /* Needs to be in here for Safari polyfill so background images work as expected. */\n",
       "        background-size: auto;\n",
       "    }\n",
       "    progress:not([value]), progress:not([value])::-webkit-progress-bar {\n",
       "        background: repeating-linear-gradient(45deg, #7e7e7e, #7e7e7e 10px, #5c5c5c 10px, #5c5c5c 20px);\n",
       "    }\n",
       "    .progress-bar-interrupted, .progress-bar-interrupted::-webkit-progress-bar {\n",
       "        background: #F44336;\n",
       "    }\n",
       "</style>\n"
      ],
      "text/plain": [
       "<IPython.core.display.HTML object>"
      ]
     },
     "metadata": {},
     "output_type": "display_data"
    },
    {
     "data": {
      "text/html": [
       "\n",
       "    <div>\n",
       "      <progress value='14000' class='' max='14000' style='width:300px; height:20px; vertical-align: middle;'></progress>\n",
       "      100.00% [14000/14000 00:02&lt;00:00 Sampling 4 chains, 0 divergences]\n",
       "    </div>\n",
       "    "
      ],
      "text/plain": [
       "<IPython.core.display.HTML object>"
      ]
     },
     "metadata": {},
     "output_type": "display_data"
    },
    {
     "name": "stderr",
     "output_type": "stream",
     "text": [
      "Sampling 4 chains for 1_000 tune and 2_500 draw iterations (4_000 + 10_000 draws total) took 3 seconds.\n"
     ]
    },
    {
     "name": "stdout",
     "output_type": "stream",
     "text": [
      "advertising x publishing\n"
     ]
    },
    {
     "name": "stderr",
     "output_type": "stream",
     "text": [
      "Auto-assigning NUTS sampler...\n",
      "Initializing NUTS using jitter+adapt_diag...\n",
      "Multiprocess sampling (4 chains in 4 jobs)\n",
      "NUTS: [pair_probs]\n"
     ]
    },
    {
     "data": {
      "text/html": [
       "\n",
       "<style>\n",
       "    /* Turns off some styling */\n",
       "    progress {\n",
       "        /* gets rid of default border in Firefox and Opera. */\n",
       "        border: none;\n",
       "        /* Needs to be in here for Safari polyfill so background images work as expected. */\n",
       "        background-size: auto;\n",
       "    }\n",
       "    progress:not([value]), progress:not([value])::-webkit-progress-bar {\n",
       "        background: repeating-linear-gradient(45deg, #7e7e7e, #7e7e7e 10px, #5c5c5c 10px, #5c5c5c 20px);\n",
       "    }\n",
       "    .progress-bar-interrupted, .progress-bar-interrupted::-webkit-progress-bar {\n",
       "        background: #F44336;\n",
       "    }\n",
       "</style>\n"
      ],
      "text/plain": [
       "<IPython.core.display.HTML object>"
      ]
     },
     "metadata": {},
     "output_type": "display_data"
    },
    {
     "data": {
      "text/html": [
       "\n",
       "    <div>\n",
       "      <progress value='14000' class='' max='14000' style='width:300px; height:20px; vertical-align: middle;'></progress>\n",
       "      100.00% [14000/14000 00:02&lt;00:00 Sampling 4 chains, 0 divergences]\n",
       "    </div>\n",
       "    "
      ],
      "text/plain": [
       "<IPython.core.display.HTML object>"
      ]
     },
     "metadata": {},
     "output_type": "display_data"
    },
    {
     "name": "stderr",
     "output_type": "stream",
     "text": [
      "Sampling 4 chains for 1_000 tune and 2_500 draw iterations (4_000 + 10_000 draws total) took 2 seconds.\n"
     ]
    },
    {
     "name": "stdout",
     "output_type": "stream",
     "text": [
      "advertising x smart_cities\n"
     ]
    },
    {
     "name": "stderr",
     "output_type": "stream",
     "text": [
      "Auto-assigning NUTS sampler...\n",
      "Initializing NUTS using jitter+adapt_diag...\n",
      "Multiprocess sampling (4 chains in 4 jobs)\n",
      "NUTS: [pair_probs]\n"
     ]
    },
    {
     "data": {
      "text/html": [
       "\n",
       "<style>\n",
       "    /* Turns off some styling */\n",
       "    progress {\n",
       "        /* gets rid of default border in Firefox and Opera. */\n",
       "        border: none;\n",
       "        /* Needs to be in here for Safari polyfill so background images work as expected. */\n",
       "        background-size: auto;\n",
       "    }\n",
       "    progress:not([value]), progress:not([value])::-webkit-progress-bar {\n",
       "        background: repeating-linear-gradient(45deg, #7e7e7e, #7e7e7e 10px, #5c5c5c 10px, #5c5c5c 20px);\n",
       "    }\n",
       "    .progress-bar-interrupted, .progress-bar-interrupted::-webkit-progress-bar {\n",
       "        background: #F44336;\n",
       "    }\n",
       "</style>\n"
      ],
      "text/plain": [
       "<IPython.core.display.HTML object>"
      ]
     },
     "metadata": {},
     "output_type": "display_data"
    },
    {
     "data": {
      "text/html": [
       "\n",
       "    <div>\n",
       "      <progress value='14000' class='' max='14000' style='width:300px; height:20px; vertical-align: middle;'></progress>\n",
       "      100.00% [14000/14000 00:03&lt;00:00 Sampling 4 chains, 0 divergences]\n",
       "    </div>\n",
       "    "
      ],
      "text/plain": [
       "<IPython.core.display.HTML object>"
      ]
     },
     "metadata": {},
     "output_type": "display_data"
    },
    {
     "name": "stderr",
     "output_type": "stream",
     "text": [
      "Sampling 4 chains for 1_000 tune and 2_500 draw iterations (4_000 + 10_000 draws total) took 3 seconds.\n"
     ]
    },
    {
     "name": "stdout",
     "output_type": "stream",
     "text": [
      "advertising x web_of_things\n"
     ]
    },
    {
     "name": "stderr",
     "output_type": "stream",
     "text": [
      "Auto-assigning NUTS sampler...\n",
      "Initializing NUTS using jitter+adapt_diag...\n",
      "Multiprocess sampling (4 chains in 4 jobs)\n",
      "NUTS: [pair_probs]\n"
     ]
    },
    {
     "data": {
      "text/html": [
       "\n",
       "<style>\n",
       "    /* Turns off some styling */\n",
       "    progress {\n",
       "        /* gets rid of default border in Firefox and Opera. */\n",
       "        border: none;\n",
       "        /* Needs to be in here for Safari polyfill so background images work as expected. */\n",
       "        background-size: auto;\n",
       "    }\n",
       "    progress:not([value]), progress:not([value])::-webkit-progress-bar {\n",
       "        background: repeating-linear-gradient(45deg, #7e7e7e, #7e7e7e 10px, #5c5c5c 10px, #5c5c5c 20px);\n",
       "    }\n",
       "    .progress-bar-interrupted, .progress-bar-interrupted::-webkit-progress-bar {\n",
       "        background: #F44336;\n",
       "    }\n",
       "</style>\n"
      ],
      "text/plain": [
       "<IPython.core.display.HTML object>"
      ]
     },
     "metadata": {},
     "output_type": "display_data"
    },
    {
     "data": {
      "text/html": [
       "\n",
       "    <div>\n",
       "      <progress value='14000' class='' max='14000' style='width:300px; height:20px; vertical-align: middle;'></progress>\n",
       "      100.00% [14000/14000 00:02&lt;00:00 Sampling 4 chains, 0 divergences]\n",
       "    </div>\n",
       "    "
      ],
      "text/plain": [
       "<IPython.core.display.HTML object>"
      ]
     },
     "metadata": {},
     "output_type": "display_data"
    },
    {
     "name": "stderr",
     "output_type": "stream",
     "text": [
      "Sampling 4 chains for 1_000 tune and 2_500 draw iterations (4_000 + 10_000 draws total) took 2 seconds.\n"
     ]
    },
    {
     "name": "stdout",
     "output_type": "stream",
     "text": [
      "data x e_commerce\n"
     ]
    },
    {
     "name": "stderr",
     "output_type": "stream",
     "text": [
      "Auto-assigning NUTS sampler...\n",
      "Initializing NUTS using jitter+adapt_diag...\n",
      "Multiprocess sampling (4 chains in 4 jobs)\n",
      "NUTS: [pair_probs]\n"
     ]
    },
    {
     "data": {
      "text/html": [
       "\n",
       "<style>\n",
       "    /* Turns off some styling */\n",
       "    progress {\n",
       "        /* gets rid of default border in Firefox and Opera. */\n",
       "        border: none;\n",
       "        /* Needs to be in here for Safari polyfill so background images work as expected. */\n",
       "        background-size: auto;\n",
       "    }\n",
       "    progress:not([value]), progress:not([value])::-webkit-progress-bar {\n",
       "        background: repeating-linear-gradient(45deg, #7e7e7e, #7e7e7e 10px, #5c5c5c 10px, #5c5c5c 20px);\n",
       "    }\n",
       "    .progress-bar-interrupted, .progress-bar-interrupted::-webkit-progress-bar {\n",
       "        background: #F44336;\n",
       "    }\n",
       "</style>\n"
      ],
      "text/plain": [
       "<IPython.core.display.HTML object>"
      ]
     },
     "metadata": {},
     "output_type": "display_data"
    },
    {
     "data": {
      "text/html": [
       "\n",
       "    <div>\n",
       "      <progress value='14000' class='' max='14000' style='width:300px; height:20px; vertical-align: middle;'></progress>\n",
       "      100.00% [14000/14000 00:02&lt;00:00 Sampling 4 chains, 0 divergences]\n",
       "    </div>\n",
       "    "
      ],
      "text/plain": [
       "<IPython.core.display.HTML object>"
      ]
     },
     "metadata": {},
     "output_type": "display_data"
    },
    {
     "name": "stderr",
     "output_type": "stream",
     "text": [
      "Sampling 4 chains for 1_000 tune and 2_500 draw iterations (4_000 + 10_000 draws total) took 3 seconds.\n"
     ]
    },
    {
     "name": "stdout",
     "output_type": "stream",
     "text": [
      "data x media\n"
     ]
    },
    {
     "name": "stderr",
     "output_type": "stream",
     "text": [
      "Auto-assigning NUTS sampler...\n",
      "Initializing NUTS using jitter+adapt_diag...\n",
      "Multiprocess sampling (4 chains in 4 jobs)\n",
      "NUTS: [pair_probs]\n"
     ]
    },
    {
     "data": {
      "text/html": [
       "\n",
       "<style>\n",
       "    /* Turns off some styling */\n",
       "    progress {\n",
       "        /* gets rid of default border in Firefox and Opera. */\n",
       "        border: none;\n",
       "        /* Needs to be in here for Safari polyfill so background images work as expected. */\n",
       "        background-size: auto;\n",
       "    }\n",
       "    progress:not([value]), progress:not([value])::-webkit-progress-bar {\n",
       "        background: repeating-linear-gradient(45deg, #7e7e7e, #7e7e7e 10px, #5c5c5c 10px, #5c5c5c 20px);\n",
       "    }\n",
       "    .progress-bar-interrupted, .progress-bar-interrupted::-webkit-progress-bar {\n",
       "        background: #F44336;\n",
       "    }\n",
       "</style>\n"
      ],
      "text/plain": [
       "<IPython.core.display.HTML object>"
      ]
     },
     "metadata": {},
     "output_type": "display_data"
    },
    {
     "data": {
      "text/html": [
       "\n",
       "    <div>\n",
       "      <progress value='14000' class='' max='14000' style='width:300px; height:20px; vertical-align: middle;'></progress>\n",
       "      100.00% [14000/14000 00:02&lt;00:00 Sampling 4 chains, 0 divergences]\n",
       "    </div>\n",
       "    "
      ],
      "text/plain": [
       "<IPython.core.display.HTML object>"
      ]
     },
     "metadata": {},
     "output_type": "display_data"
    },
    {
     "name": "stderr",
     "output_type": "stream",
     "text": [
      "Sampling 4 chains for 1_000 tune and 2_500 draw iterations (4_000 + 10_000 draws total) took 3 seconds.\n"
     ]
    },
    {
     "name": "stdout",
     "output_type": "stream",
     "text": [
      "data x network_communications\n"
     ]
    },
    {
     "name": "stderr",
     "output_type": "stream",
     "text": [
      "Auto-assigning NUTS sampler...\n",
      "Initializing NUTS using jitter+adapt_diag...\n",
      "Multiprocess sampling (4 chains in 4 jobs)\n",
      "NUTS: [pair_probs]\n"
     ]
    },
    {
     "data": {
      "text/html": [
       "\n",
       "<style>\n",
       "    /* Turns off some styling */\n",
       "    progress {\n",
       "        /* gets rid of default border in Firefox and Opera. */\n",
       "        border: none;\n",
       "        /* Needs to be in here for Safari polyfill so background images work as expected. */\n",
       "        background-size: auto;\n",
       "    }\n",
       "    progress:not([value]), progress:not([value])::-webkit-progress-bar {\n",
       "        background: repeating-linear-gradient(45deg, #7e7e7e, #7e7e7e 10px, #5c5c5c 10px, #5c5c5c 20px);\n",
       "    }\n",
       "    .progress-bar-interrupted, .progress-bar-interrupted::-webkit-progress-bar {\n",
       "        background: #F44336;\n",
       "    }\n",
       "</style>\n"
      ],
      "text/plain": [
       "<IPython.core.display.HTML object>"
      ]
     },
     "metadata": {},
     "output_type": "display_data"
    },
    {
     "data": {
      "text/html": [
       "\n",
       "    <div>\n",
       "      <progress value='14000' class='' max='14000' style='width:300px; height:20px; vertical-align: middle;'></progress>\n",
       "      100.00% [14000/14000 00:02&lt;00:00 Sampling 4 chains, 0 divergences]\n",
       "    </div>\n",
       "    "
      ],
      "text/plain": [
       "<IPython.core.display.HTML object>"
      ]
     },
     "metadata": {},
     "output_type": "display_data"
    },
    {
     "name": "stderr",
     "output_type": "stream",
     "text": [
      "Sampling 4 chains for 1_000 tune and 2_500 draw iterations (4_000 + 10_000 draws total) took 3 seconds.\n"
     ]
    },
    {
     "name": "stdout",
     "output_type": "stream",
     "text": [
      "data x publishing\n"
     ]
    },
    {
     "name": "stderr",
     "output_type": "stream",
     "text": [
      "Auto-assigning NUTS sampler...\n",
      "Initializing NUTS using jitter+adapt_diag...\n",
      "Multiprocess sampling (4 chains in 4 jobs)\n",
      "NUTS: [pair_probs]\n"
     ]
    },
    {
     "data": {
      "text/html": [
       "\n",
       "<style>\n",
       "    /* Turns off some styling */\n",
       "    progress {\n",
       "        /* gets rid of default border in Firefox and Opera. */\n",
       "        border: none;\n",
       "        /* Needs to be in here for Safari polyfill so background images work as expected. */\n",
       "        background-size: auto;\n",
       "    }\n",
       "    progress:not([value]), progress:not([value])::-webkit-progress-bar {\n",
       "        background: repeating-linear-gradient(45deg, #7e7e7e, #7e7e7e 10px, #5c5c5c 10px, #5c5c5c 20px);\n",
       "    }\n",
       "    .progress-bar-interrupted, .progress-bar-interrupted::-webkit-progress-bar {\n",
       "        background: #F44336;\n",
       "    }\n",
       "</style>\n"
      ],
      "text/plain": [
       "<IPython.core.display.HTML object>"
      ]
     },
     "metadata": {},
     "output_type": "display_data"
    },
    {
     "data": {
      "text/html": [
       "\n",
       "    <div>\n",
       "      <progress value='14000' class='' max='14000' style='width:300px; height:20px; vertical-align: middle;'></progress>\n",
       "      100.00% [14000/14000 00:02&lt;00:00 Sampling 4 chains, 0 divergences]\n",
       "    </div>\n",
       "    "
      ],
      "text/plain": [
       "<IPython.core.display.HTML object>"
      ]
     },
     "metadata": {},
     "output_type": "display_data"
    },
    {
     "name": "stderr",
     "output_type": "stream",
     "text": [
      "Sampling 4 chains for 1_000 tune and 2_500 draw iterations (4_000 + 10_000 draws total) took 3 seconds.\n"
     ]
    },
    {
     "name": "stdout",
     "output_type": "stream",
     "text": [
      "data x smart_cities\n"
     ]
    },
    {
     "name": "stderr",
     "output_type": "stream",
     "text": [
      "Auto-assigning NUTS sampler...\n",
      "Initializing NUTS using jitter+adapt_diag...\n",
      "Multiprocess sampling (4 chains in 4 jobs)\n",
      "NUTS: [pair_probs]\n"
     ]
    },
    {
     "data": {
      "text/html": [
       "\n",
       "<style>\n",
       "    /* Turns off some styling */\n",
       "    progress {\n",
       "        /* gets rid of default border in Firefox and Opera. */\n",
       "        border: none;\n",
       "        /* Needs to be in here for Safari polyfill so background images work as expected. */\n",
       "        background-size: auto;\n",
       "    }\n",
       "    progress:not([value]), progress:not([value])::-webkit-progress-bar {\n",
       "        background: repeating-linear-gradient(45deg, #7e7e7e, #7e7e7e 10px, #5c5c5c 10px, #5c5c5c 20px);\n",
       "    }\n",
       "    .progress-bar-interrupted, .progress-bar-interrupted::-webkit-progress-bar {\n",
       "        background: #F44336;\n",
       "    }\n",
       "</style>\n"
      ],
      "text/plain": [
       "<IPython.core.display.HTML object>"
      ]
     },
     "metadata": {},
     "output_type": "display_data"
    },
    {
     "data": {
      "text/html": [
       "\n",
       "    <div>\n",
       "      <progress value='14000' class='' max='14000' style='width:300px; height:20px; vertical-align: middle;'></progress>\n",
       "      100.00% [14000/14000 00:02&lt;00:00 Sampling 4 chains, 0 divergences]\n",
       "    </div>\n",
       "    "
      ],
      "text/plain": [
       "<IPython.core.display.HTML object>"
      ]
     },
     "metadata": {},
     "output_type": "display_data"
    },
    {
     "name": "stderr",
     "output_type": "stream",
     "text": [
      "Sampling 4 chains for 1_000 tune and 2_500 draw iterations (4_000 + 10_000 draws total) took 3 seconds.\n"
     ]
    },
    {
     "name": "stdout",
     "output_type": "stream",
     "text": [
      "data x web_of_things\n"
     ]
    },
    {
     "name": "stderr",
     "output_type": "stream",
     "text": [
      "Auto-assigning NUTS sampler...\n",
      "Initializing NUTS using jitter+adapt_diag...\n",
      "Multiprocess sampling (4 chains in 4 jobs)\n",
      "NUTS: [pair_probs]\n"
     ]
    },
    {
     "data": {
      "text/html": [
       "\n",
       "<style>\n",
       "    /* Turns off some styling */\n",
       "    progress {\n",
       "        /* gets rid of default border in Firefox and Opera. */\n",
       "        border: none;\n",
       "        /* Needs to be in here for Safari polyfill so background images work as expected. */\n",
       "        background-size: auto;\n",
       "    }\n",
       "    progress:not([value]), progress:not([value])::-webkit-progress-bar {\n",
       "        background: repeating-linear-gradient(45deg, #7e7e7e, #7e7e7e 10px, #5c5c5c 10px, #5c5c5c 20px);\n",
       "    }\n",
       "    .progress-bar-interrupted, .progress-bar-interrupted::-webkit-progress-bar {\n",
       "        background: #F44336;\n",
       "    }\n",
       "</style>\n"
      ],
      "text/plain": [
       "<IPython.core.display.HTML object>"
      ]
     },
     "metadata": {},
     "output_type": "display_data"
    },
    {
     "data": {
      "text/html": [
       "\n",
       "    <div>\n",
       "      <progress value='14000' class='' max='14000' style='width:300px; height:20px; vertical-align: middle;'></progress>\n",
       "      100.00% [14000/14000 00:02&lt;00:00 Sampling 4 chains, 0 divergences]\n",
       "    </div>\n",
       "    "
      ],
      "text/plain": [
       "<IPython.core.display.HTML object>"
      ]
     },
     "metadata": {},
     "output_type": "display_data"
    },
    {
     "name": "stderr",
     "output_type": "stream",
     "text": [
      "Sampling 4 chains for 1_000 tune and 2_500 draw iterations (4_000 + 10_000 draws total) took 3 seconds.\n"
     ]
    },
    {
     "name": "stdout",
     "output_type": "stream",
     "text": [
      "e_commerce x media\n"
     ]
    },
    {
     "name": "stderr",
     "output_type": "stream",
     "text": [
      "Auto-assigning NUTS sampler...\n",
      "Initializing NUTS using jitter+adapt_diag...\n",
      "Multiprocess sampling (4 chains in 4 jobs)\n",
      "NUTS: [pair_probs]\n"
     ]
    },
    {
     "data": {
      "text/html": [
       "\n",
       "<style>\n",
       "    /* Turns off some styling */\n",
       "    progress {\n",
       "        /* gets rid of default border in Firefox and Opera. */\n",
       "        border: none;\n",
       "        /* Needs to be in here for Safari polyfill so background images work as expected. */\n",
       "        background-size: auto;\n",
       "    }\n",
       "    progress:not([value]), progress:not([value])::-webkit-progress-bar {\n",
       "        background: repeating-linear-gradient(45deg, #7e7e7e, #7e7e7e 10px, #5c5c5c 10px, #5c5c5c 20px);\n",
       "    }\n",
       "    .progress-bar-interrupted, .progress-bar-interrupted::-webkit-progress-bar {\n",
       "        background: #F44336;\n",
       "    }\n",
       "</style>\n"
      ],
      "text/plain": [
       "<IPython.core.display.HTML object>"
      ]
     },
     "metadata": {},
     "output_type": "display_data"
    },
    {
     "data": {
      "text/html": [
       "\n",
       "    <div>\n",
       "      <progress value='14000' class='' max='14000' style='width:300px; height:20px; vertical-align: middle;'></progress>\n",
       "      100.00% [14000/14000 00:02&lt;00:00 Sampling 4 chains, 0 divergences]\n",
       "    </div>\n",
       "    "
      ],
      "text/plain": [
       "<IPython.core.display.HTML object>"
      ]
     },
     "metadata": {},
     "output_type": "display_data"
    },
    {
     "name": "stderr",
     "output_type": "stream",
     "text": [
      "Sampling 4 chains for 1_000 tune and 2_500 draw iterations (4_000 + 10_000 draws total) took 2 seconds.\n"
     ]
    },
    {
     "name": "stdout",
     "output_type": "stream",
     "text": [
      "e_commerce x network_communications\n"
     ]
    },
    {
     "name": "stderr",
     "output_type": "stream",
     "text": [
      "Auto-assigning NUTS sampler...\n",
      "Initializing NUTS using jitter+adapt_diag...\n",
      "Multiprocess sampling (4 chains in 4 jobs)\n",
      "NUTS: [pair_probs]\n"
     ]
    },
    {
     "data": {
      "text/html": [
       "\n",
       "<style>\n",
       "    /* Turns off some styling */\n",
       "    progress {\n",
       "        /* gets rid of default border in Firefox and Opera. */\n",
       "        border: none;\n",
       "        /* Needs to be in here for Safari polyfill so background images work as expected. */\n",
       "        background-size: auto;\n",
       "    }\n",
       "    progress:not([value]), progress:not([value])::-webkit-progress-bar {\n",
       "        background: repeating-linear-gradient(45deg, #7e7e7e, #7e7e7e 10px, #5c5c5c 10px, #5c5c5c 20px);\n",
       "    }\n",
       "    .progress-bar-interrupted, .progress-bar-interrupted::-webkit-progress-bar {\n",
       "        background: #F44336;\n",
       "    }\n",
       "</style>\n"
      ],
      "text/plain": [
       "<IPython.core.display.HTML object>"
      ]
     },
     "metadata": {},
     "output_type": "display_data"
    },
    {
     "data": {
      "text/html": [
       "\n",
       "    <div>\n",
       "      <progress value='14000' class='' max='14000' style='width:300px; height:20px; vertical-align: middle;'></progress>\n",
       "      100.00% [14000/14000 00:02&lt;00:00 Sampling 4 chains, 0 divergences]\n",
       "    </div>\n",
       "    "
      ],
      "text/plain": [
       "<IPython.core.display.HTML object>"
      ]
     },
     "metadata": {},
     "output_type": "display_data"
    },
    {
     "name": "stderr",
     "output_type": "stream",
     "text": [
      "Sampling 4 chains for 1_000 tune and 2_500 draw iterations (4_000 + 10_000 draws total) took 3 seconds.\n"
     ]
    },
    {
     "name": "stdout",
     "output_type": "stream",
     "text": [
      "e_commerce x publishing\n"
     ]
    },
    {
     "name": "stderr",
     "output_type": "stream",
     "text": [
      "Auto-assigning NUTS sampler...\n",
      "Initializing NUTS using jitter+adapt_diag...\n",
      "Multiprocess sampling (4 chains in 4 jobs)\n",
      "NUTS: [pair_probs]\n"
     ]
    },
    {
     "data": {
      "text/html": [
       "\n",
       "<style>\n",
       "    /* Turns off some styling */\n",
       "    progress {\n",
       "        /* gets rid of default border in Firefox and Opera. */\n",
       "        border: none;\n",
       "        /* Needs to be in here for Safari polyfill so background images work as expected. */\n",
       "        background-size: auto;\n",
       "    }\n",
       "    progress:not([value]), progress:not([value])::-webkit-progress-bar {\n",
       "        background: repeating-linear-gradient(45deg, #7e7e7e, #7e7e7e 10px, #5c5c5c 10px, #5c5c5c 20px);\n",
       "    }\n",
       "    .progress-bar-interrupted, .progress-bar-interrupted::-webkit-progress-bar {\n",
       "        background: #F44336;\n",
       "    }\n",
       "</style>\n"
      ],
      "text/plain": [
       "<IPython.core.display.HTML object>"
      ]
     },
     "metadata": {},
     "output_type": "display_data"
    },
    {
     "data": {
      "text/html": [
       "\n",
       "    <div>\n",
       "      <progress value='14000' class='' max='14000' style='width:300px; height:20px; vertical-align: middle;'></progress>\n",
       "      100.00% [14000/14000 00:02&lt;00:00 Sampling 4 chains, 0 divergences]\n",
       "    </div>\n",
       "    "
      ],
      "text/plain": [
       "<IPython.core.display.HTML object>"
      ]
     },
     "metadata": {},
     "output_type": "display_data"
    },
    {
     "name": "stderr",
     "output_type": "stream",
     "text": [
      "Sampling 4 chains for 1_000 tune and 2_500 draw iterations (4_000 + 10_000 draws total) took 3 seconds.\n"
     ]
    },
    {
     "name": "stdout",
     "output_type": "stream",
     "text": [
      "e_commerce x smart_cities\n"
     ]
    },
    {
     "name": "stderr",
     "output_type": "stream",
     "text": [
      "Auto-assigning NUTS sampler...\n",
      "Initializing NUTS using jitter+adapt_diag...\n",
      "Multiprocess sampling (4 chains in 4 jobs)\n",
      "NUTS: [pair_probs]\n"
     ]
    },
    {
     "data": {
      "text/html": [
       "\n",
       "<style>\n",
       "    /* Turns off some styling */\n",
       "    progress {\n",
       "        /* gets rid of default border in Firefox and Opera. */\n",
       "        border: none;\n",
       "        /* Needs to be in here for Safari polyfill so background images work as expected. */\n",
       "        background-size: auto;\n",
       "    }\n",
       "    progress:not([value]), progress:not([value])::-webkit-progress-bar {\n",
       "        background: repeating-linear-gradient(45deg, #7e7e7e, #7e7e7e 10px, #5c5c5c 10px, #5c5c5c 20px);\n",
       "    }\n",
       "    .progress-bar-interrupted, .progress-bar-interrupted::-webkit-progress-bar {\n",
       "        background: #F44336;\n",
       "    }\n",
       "</style>\n"
      ],
      "text/plain": [
       "<IPython.core.display.HTML object>"
      ]
     },
     "metadata": {},
     "output_type": "display_data"
    },
    {
     "data": {
      "text/html": [
       "\n",
       "    <div>\n",
       "      <progress value='14000' class='' max='14000' style='width:300px; height:20px; vertical-align: middle;'></progress>\n",
       "      100.00% [14000/14000 00:02&lt;00:00 Sampling 4 chains, 0 divergences]\n",
       "    </div>\n",
       "    "
      ],
      "text/plain": [
       "<IPython.core.display.HTML object>"
      ]
     },
     "metadata": {},
     "output_type": "display_data"
    },
    {
     "name": "stderr",
     "output_type": "stream",
     "text": [
      "Sampling 4 chains for 1_000 tune and 2_500 draw iterations (4_000 + 10_000 draws total) took 3 seconds.\n"
     ]
    },
    {
     "name": "stdout",
     "output_type": "stream",
     "text": [
      "e_commerce x web_of_things\n"
     ]
    },
    {
     "name": "stderr",
     "output_type": "stream",
     "text": [
      "Auto-assigning NUTS sampler...\n",
      "Initializing NUTS using jitter+adapt_diag...\n",
      "Multiprocess sampling (4 chains in 4 jobs)\n",
      "NUTS: [pair_probs]\n"
     ]
    },
    {
     "data": {
      "text/html": [
       "\n",
       "<style>\n",
       "    /* Turns off some styling */\n",
       "    progress {\n",
       "        /* gets rid of default border in Firefox and Opera. */\n",
       "        border: none;\n",
       "        /* Needs to be in here for Safari polyfill so background images work as expected. */\n",
       "        background-size: auto;\n",
       "    }\n",
       "    progress:not([value]), progress:not([value])::-webkit-progress-bar {\n",
       "        background: repeating-linear-gradient(45deg, #7e7e7e, #7e7e7e 10px, #5c5c5c 10px, #5c5c5c 20px);\n",
       "    }\n",
       "    .progress-bar-interrupted, .progress-bar-interrupted::-webkit-progress-bar {\n",
       "        background: #F44336;\n",
       "    }\n",
       "</style>\n"
      ],
      "text/plain": [
       "<IPython.core.display.HTML object>"
      ]
     },
     "metadata": {},
     "output_type": "display_data"
    },
    {
     "data": {
      "text/html": [
       "\n",
       "    <div>\n",
       "      <progress value='14000' class='' max='14000' style='width:300px; height:20px; vertical-align: middle;'></progress>\n",
       "      100.00% [14000/14000 00:02&lt;00:00 Sampling 4 chains, 0 divergences]\n",
       "    </div>\n",
       "    "
      ],
      "text/plain": [
       "<IPython.core.display.HTML object>"
      ]
     },
     "metadata": {},
     "output_type": "display_data"
    },
    {
     "name": "stderr",
     "output_type": "stream",
     "text": [
      "Sampling 4 chains for 1_000 tune and 2_500 draw iterations (4_000 + 10_000 draws total) took 2 seconds.\n"
     ]
    },
    {
     "name": "stdout",
     "output_type": "stream",
     "text": [
      "media x network_communications\n"
     ]
    },
    {
     "name": "stderr",
     "output_type": "stream",
     "text": [
      "Auto-assigning NUTS sampler...\n",
      "Initializing NUTS using jitter+adapt_diag...\n",
      "Multiprocess sampling (4 chains in 4 jobs)\n",
      "NUTS: [pair_probs]\n"
     ]
    },
    {
     "data": {
      "text/html": [
       "\n",
       "<style>\n",
       "    /* Turns off some styling */\n",
       "    progress {\n",
       "        /* gets rid of default border in Firefox and Opera. */\n",
       "        border: none;\n",
       "        /* Needs to be in here for Safari polyfill so background images work as expected. */\n",
       "        background-size: auto;\n",
       "    }\n",
       "    progress:not([value]), progress:not([value])::-webkit-progress-bar {\n",
       "        background: repeating-linear-gradient(45deg, #7e7e7e, #7e7e7e 10px, #5c5c5c 10px, #5c5c5c 20px);\n",
       "    }\n",
       "    .progress-bar-interrupted, .progress-bar-interrupted::-webkit-progress-bar {\n",
       "        background: #F44336;\n",
       "    }\n",
       "</style>\n"
      ],
      "text/plain": [
       "<IPython.core.display.HTML object>"
      ]
     },
     "metadata": {},
     "output_type": "display_data"
    },
    {
     "data": {
      "text/html": [
       "\n",
       "    <div>\n",
       "      <progress value='14000' class='' max='14000' style='width:300px; height:20px; vertical-align: middle;'></progress>\n",
       "      100.00% [14000/14000 00:03&lt;00:00 Sampling 4 chains, 0 divergences]\n",
       "    </div>\n",
       "    "
      ],
      "text/plain": [
       "<IPython.core.display.HTML object>"
      ]
     },
     "metadata": {},
     "output_type": "display_data"
    },
    {
     "name": "stderr",
     "output_type": "stream",
     "text": [
      "Sampling 4 chains for 1_000 tune and 2_500 draw iterations (4_000 + 10_000 draws total) took 3 seconds.\n"
     ]
    },
    {
     "name": "stdout",
     "output_type": "stream",
     "text": [
      "media x publishing\n"
     ]
    },
    {
     "name": "stderr",
     "output_type": "stream",
     "text": [
      "Auto-assigning NUTS sampler...\n",
      "Initializing NUTS using jitter+adapt_diag...\n",
      "Multiprocess sampling (4 chains in 4 jobs)\n",
      "NUTS: [pair_probs]\n"
     ]
    },
    {
     "data": {
      "text/html": [
       "\n",
       "<style>\n",
       "    /* Turns off some styling */\n",
       "    progress {\n",
       "        /* gets rid of default border in Firefox and Opera. */\n",
       "        border: none;\n",
       "        /* Needs to be in here for Safari polyfill so background images work as expected. */\n",
       "        background-size: auto;\n",
       "    }\n",
       "    progress:not([value]), progress:not([value])::-webkit-progress-bar {\n",
       "        background: repeating-linear-gradient(45deg, #7e7e7e, #7e7e7e 10px, #5c5c5c 10px, #5c5c5c 20px);\n",
       "    }\n",
       "    .progress-bar-interrupted, .progress-bar-interrupted::-webkit-progress-bar {\n",
       "        background: #F44336;\n",
       "    }\n",
       "</style>\n"
      ],
      "text/plain": [
       "<IPython.core.display.HTML object>"
      ]
     },
     "metadata": {},
     "output_type": "display_data"
    },
    {
     "data": {
      "text/html": [
       "\n",
       "    <div>\n",
       "      <progress value='14000' class='' max='14000' style='width:300px; height:20px; vertical-align: middle;'></progress>\n",
       "      100.00% [14000/14000 00:02&lt;00:00 Sampling 4 chains, 0 divergences]\n",
       "    </div>\n",
       "    "
      ],
      "text/plain": [
       "<IPython.core.display.HTML object>"
      ]
     },
     "metadata": {},
     "output_type": "display_data"
    },
    {
     "name": "stderr",
     "output_type": "stream",
     "text": [
      "Sampling 4 chains for 1_000 tune and 2_500 draw iterations (4_000 + 10_000 draws total) took 3 seconds.\n"
     ]
    },
    {
     "name": "stdout",
     "output_type": "stream",
     "text": [
      "media x smart_cities\n"
     ]
    },
    {
     "name": "stderr",
     "output_type": "stream",
     "text": [
      "Auto-assigning NUTS sampler...\n",
      "Initializing NUTS using jitter+adapt_diag...\n",
      "Multiprocess sampling (4 chains in 4 jobs)\n",
      "NUTS: [pair_probs]\n"
     ]
    },
    {
     "data": {
      "text/html": [
       "\n",
       "<style>\n",
       "    /* Turns off some styling */\n",
       "    progress {\n",
       "        /* gets rid of default border in Firefox and Opera. */\n",
       "        border: none;\n",
       "        /* Needs to be in here for Safari polyfill so background images work as expected. */\n",
       "        background-size: auto;\n",
       "    }\n",
       "    progress:not([value]), progress:not([value])::-webkit-progress-bar {\n",
       "        background: repeating-linear-gradient(45deg, #7e7e7e, #7e7e7e 10px, #5c5c5c 10px, #5c5c5c 20px);\n",
       "    }\n",
       "    .progress-bar-interrupted, .progress-bar-interrupted::-webkit-progress-bar {\n",
       "        background: #F44336;\n",
       "    }\n",
       "</style>\n"
      ],
      "text/plain": [
       "<IPython.core.display.HTML object>"
      ]
     },
     "metadata": {},
     "output_type": "display_data"
    },
    {
     "data": {
      "text/html": [
       "\n",
       "    <div>\n",
       "      <progress value='14000' class='' max='14000' style='width:300px; height:20px; vertical-align: middle;'></progress>\n",
       "      100.00% [14000/14000 00:02&lt;00:00 Sampling 4 chains, 0 divergences]\n",
       "    </div>\n",
       "    "
      ],
      "text/plain": [
       "<IPython.core.display.HTML object>"
      ]
     },
     "metadata": {},
     "output_type": "display_data"
    },
    {
     "name": "stderr",
     "output_type": "stream",
     "text": [
      "Sampling 4 chains for 1_000 tune and 2_500 draw iterations (4_000 + 10_000 draws total) took 3 seconds.\n"
     ]
    },
    {
     "name": "stdout",
     "output_type": "stream",
     "text": [
      "media x web_of_things\n"
     ]
    },
    {
     "name": "stderr",
     "output_type": "stream",
     "text": [
      "Auto-assigning NUTS sampler...\n",
      "Initializing NUTS using jitter+adapt_diag...\n",
      "Multiprocess sampling (4 chains in 4 jobs)\n",
      "NUTS: [pair_probs]\n"
     ]
    },
    {
     "data": {
      "text/html": [
       "\n",
       "<style>\n",
       "    /* Turns off some styling */\n",
       "    progress {\n",
       "        /* gets rid of default border in Firefox and Opera. */\n",
       "        border: none;\n",
       "        /* Needs to be in here for Safari polyfill so background images work as expected. */\n",
       "        background-size: auto;\n",
       "    }\n",
       "    progress:not([value]), progress:not([value])::-webkit-progress-bar {\n",
       "        background: repeating-linear-gradient(45deg, #7e7e7e, #7e7e7e 10px, #5c5c5c 10px, #5c5c5c 20px);\n",
       "    }\n",
       "    .progress-bar-interrupted, .progress-bar-interrupted::-webkit-progress-bar {\n",
       "        background: #F44336;\n",
       "    }\n",
       "</style>\n"
      ],
      "text/plain": [
       "<IPython.core.display.HTML object>"
      ]
     },
     "metadata": {},
     "output_type": "display_data"
    },
    {
     "data": {
      "text/html": [
       "\n",
       "    <div>\n",
       "      <progress value='14000' class='' max='14000' style='width:300px; height:20px; vertical-align: middle;'></progress>\n",
       "      100.00% [14000/14000 00:02&lt;00:00 Sampling 4 chains, 0 divergences]\n",
       "    </div>\n",
       "    "
      ],
      "text/plain": [
       "<IPython.core.display.HTML object>"
      ]
     },
     "metadata": {},
     "output_type": "display_data"
    },
    {
     "name": "stderr",
     "output_type": "stream",
     "text": [
      "Sampling 4 chains for 1_000 tune and 2_500 draw iterations (4_000 + 10_000 draws total) took 3 seconds.\n"
     ]
    },
    {
     "name": "stdout",
     "output_type": "stream",
     "text": [
      "network_communications x publishing\n"
     ]
    },
    {
     "name": "stderr",
     "output_type": "stream",
     "text": [
      "Auto-assigning NUTS sampler...\n",
      "Initializing NUTS using jitter+adapt_diag...\n",
      "Multiprocess sampling (4 chains in 4 jobs)\n",
      "NUTS: [pair_probs]\n"
     ]
    },
    {
     "data": {
      "text/html": [
       "\n",
       "<style>\n",
       "    /* Turns off some styling */\n",
       "    progress {\n",
       "        /* gets rid of default border in Firefox and Opera. */\n",
       "        border: none;\n",
       "        /* Needs to be in here for Safari polyfill so background images work as expected. */\n",
       "        background-size: auto;\n",
       "    }\n",
       "    progress:not([value]), progress:not([value])::-webkit-progress-bar {\n",
       "        background: repeating-linear-gradient(45deg, #7e7e7e, #7e7e7e 10px, #5c5c5c 10px, #5c5c5c 20px);\n",
       "    }\n",
       "    .progress-bar-interrupted, .progress-bar-interrupted::-webkit-progress-bar {\n",
       "        background: #F44336;\n",
       "    }\n",
       "</style>\n"
      ],
      "text/plain": [
       "<IPython.core.display.HTML object>"
      ]
     },
     "metadata": {},
     "output_type": "display_data"
    },
    {
     "data": {
      "text/html": [
       "\n",
       "    <div>\n",
       "      <progress value='14000' class='' max='14000' style='width:300px; height:20px; vertical-align: middle;'></progress>\n",
       "      100.00% [14000/14000 00:02&lt;00:00 Sampling 4 chains, 0 divergences]\n",
       "    </div>\n",
       "    "
      ],
      "text/plain": [
       "<IPython.core.display.HTML object>"
      ]
     },
     "metadata": {},
     "output_type": "display_data"
    },
    {
     "name": "stderr",
     "output_type": "stream",
     "text": [
      "Sampling 4 chains for 1_000 tune and 2_500 draw iterations (4_000 + 10_000 draws total) took 2 seconds.\n"
     ]
    },
    {
     "name": "stdout",
     "output_type": "stream",
     "text": [
      "network_communications x smart_cities\n"
     ]
    },
    {
     "name": "stderr",
     "output_type": "stream",
     "text": [
      "Auto-assigning NUTS sampler...\n",
      "Initializing NUTS using jitter+adapt_diag...\n",
      "Multiprocess sampling (4 chains in 4 jobs)\n",
      "NUTS: [pair_probs]\n"
     ]
    },
    {
     "data": {
      "text/html": [
       "\n",
       "<style>\n",
       "    /* Turns off some styling */\n",
       "    progress {\n",
       "        /* gets rid of default border in Firefox and Opera. */\n",
       "        border: none;\n",
       "        /* Needs to be in here for Safari polyfill so background images work as expected. */\n",
       "        background-size: auto;\n",
       "    }\n",
       "    progress:not([value]), progress:not([value])::-webkit-progress-bar {\n",
       "        background: repeating-linear-gradient(45deg, #7e7e7e, #7e7e7e 10px, #5c5c5c 10px, #5c5c5c 20px);\n",
       "    }\n",
       "    .progress-bar-interrupted, .progress-bar-interrupted::-webkit-progress-bar {\n",
       "        background: #F44336;\n",
       "    }\n",
       "</style>\n"
      ],
      "text/plain": [
       "<IPython.core.display.HTML object>"
      ]
     },
     "metadata": {},
     "output_type": "display_data"
    },
    {
     "data": {
      "text/html": [
       "\n",
       "    <div>\n",
       "      <progress value='14000' class='' max='14000' style='width:300px; height:20px; vertical-align: middle;'></progress>\n",
       "      100.00% [14000/14000 00:02&lt;00:00 Sampling 4 chains, 0 divergences]\n",
       "    </div>\n",
       "    "
      ],
      "text/plain": [
       "<IPython.core.display.HTML object>"
      ]
     },
     "metadata": {},
     "output_type": "display_data"
    },
    {
     "name": "stderr",
     "output_type": "stream",
     "text": [
      "Sampling 4 chains for 1_000 tune and 2_500 draw iterations (4_000 + 10_000 draws total) took 3 seconds.\n"
     ]
    },
    {
     "name": "stdout",
     "output_type": "stream",
     "text": [
      "network_communications x web_of_things\n"
     ]
    },
    {
     "name": "stderr",
     "output_type": "stream",
     "text": [
      "Auto-assigning NUTS sampler...\n",
      "Initializing NUTS using jitter+adapt_diag...\n",
      "Multiprocess sampling (4 chains in 4 jobs)\n",
      "NUTS: [pair_probs]\n"
     ]
    },
    {
     "data": {
      "text/html": [
       "\n",
       "<style>\n",
       "    /* Turns off some styling */\n",
       "    progress {\n",
       "        /* gets rid of default border in Firefox and Opera. */\n",
       "        border: none;\n",
       "        /* Needs to be in here for Safari polyfill so background images work as expected. */\n",
       "        background-size: auto;\n",
       "    }\n",
       "    progress:not([value]), progress:not([value])::-webkit-progress-bar {\n",
       "        background: repeating-linear-gradient(45deg, #7e7e7e, #7e7e7e 10px, #5c5c5c 10px, #5c5c5c 20px);\n",
       "    }\n",
       "    .progress-bar-interrupted, .progress-bar-interrupted::-webkit-progress-bar {\n",
       "        background: #F44336;\n",
       "    }\n",
       "</style>\n"
      ],
      "text/plain": [
       "<IPython.core.display.HTML object>"
      ]
     },
     "metadata": {},
     "output_type": "display_data"
    },
    {
     "data": {
      "text/html": [
       "\n",
       "    <div>\n",
       "      <progress value='14000' class='' max='14000' style='width:300px; height:20px; vertical-align: middle;'></progress>\n",
       "      100.00% [14000/14000 00:02&lt;00:00 Sampling 4 chains, 0 divergences]\n",
       "    </div>\n",
       "    "
      ],
      "text/plain": [
       "<IPython.core.display.HTML object>"
      ]
     },
     "metadata": {},
     "output_type": "display_data"
    },
    {
     "name": "stderr",
     "output_type": "stream",
     "text": [
      "Sampling 4 chains for 1_000 tune and 2_500 draw iterations (4_000 + 10_000 draws total) took 3 seconds.\n"
     ]
    },
    {
     "name": "stdout",
     "output_type": "stream",
     "text": [
      "publishing x smart_cities\n"
     ]
    },
    {
     "name": "stderr",
     "output_type": "stream",
     "text": [
      "Auto-assigning NUTS sampler...\n",
      "Initializing NUTS using jitter+adapt_diag...\n",
      "Multiprocess sampling (4 chains in 4 jobs)\n",
      "NUTS: [pair_probs]\n"
     ]
    },
    {
     "data": {
      "text/html": [
       "\n",
       "<style>\n",
       "    /* Turns off some styling */\n",
       "    progress {\n",
       "        /* gets rid of default border in Firefox and Opera. */\n",
       "        border: none;\n",
       "        /* Needs to be in here for Safari polyfill so background images work as expected. */\n",
       "        background-size: auto;\n",
       "    }\n",
       "    progress:not([value]), progress:not([value])::-webkit-progress-bar {\n",
       "        background: repeating-linear-gradient(45deg, #7e7e7e, #7e7e7e 10px, #5c5c5c 10px, #5c5c5c 20px);\n",
       "    }\n",
       "    .progress-bar-interrupted, .progress-bar-interrupted::-webkit-progress-bar {\n",
       "        background: #F44336;\n",
       "    }\n",
       "</style>\n"
      ],
      "text/plain": [
       "<IPython.core.display.HTML object>"
      ]
     },
     "metadata": {},
     "output_type": "display_data"
    },
    {
     "data": {
      "text/html": [
       "\n",
       "    <div>\n",
       "      <progress value='14000' class='' max='14000' style='width:300px; height:20px; vertical-align: middle;'></progress>\n",
       "      100.00% [14000/14000 00:02&lt;00:00 Sampling 4 chains, 0 divergences]\n",
       "    </div>\n",
       "    "
      ],
      "text/plain": [
       "<IPython.core.display.HTML object>"
      ]
     },
     "metadata": {},
     "output_type": "display_data"
    },
    {
     "name": "stderr",
     "output_type": "stream",
     "text": [
      "Sampling 4 chains for 1_000 tune and 2_500 draw iterations (4_000 + 10_000 draws total) took 3 seconds.\n"
     ]
    },
    {
     "name": "stdout",
     "output_type": "stream",
     "text": [
      "publishing x web_of_things\n"
     ]
    },
    {
     "name": "stderr",
     "output_type": "stream",
     "text": [
      "Auto-assigning NUTS sampler...\n",
      "Initializing NUTS using jitter+adapt_diag...\n",
      "Multiprocess sampling (4 chains in 4 jobs)\n",
      "NUTS: [pair_probs]\n"
     ]
    },
    {
     "data": {
      "text/html": [
       "\n",
       "<style>\n",
       "    /* Turns off some styling */\n",
       "    progress {\n",
       "        /* gets rid of default border in Firefox and Opera. */\n",
       "        border: none;\n",
       "        /* Needs to be in here for Safari polyfill so background images work as expected. */\n",
       "        background-size: auto;\n",
       "    }\n",
       "    progress:not([value]), progress:not([value])::-webkit-progress-bar {\n",
       "        background: repeating-linear-gradient(45deg, #7e7e7e, #7e7e7e 10px, #5c5c5c 10px, #5c5c5c 20px);\n",
       "    }\n",
       "    .progress-bar-interrupted, .progress-bar-interrupted::-webkit-progress-bar {\n",
       "        background: #F44336;\n",
       "    }\n",
       "</style>\n"
      ],
      "text/plain": [
       "<IPython.core.display.HTML object>"
      ]
     },
     "metadata": {},
     "output_type": "display_data"
    },
    {
     "data": {
      "text/html": [
       "\n",
       "    <div>\n",
       "      <progress value='14000' class='' max='14000' style='width:300px; height:20px; vertical-align: middle;'></progress>\n",
       "      100.00% [14000/14000 00:02&lt;00:00 Sampling 4 chains, 0 divergences]\n",
       "    </div>\n",
       "    "
      ],
      "text/plain": [
       "<IPython.core.display.HTML object>"
      ]
     },
     "metadata": {},
     "output_type": "display_data"
    },
    {
     "name": "stderr",
     "output_type": "stream",
     "text": [
      "Sampling 4 chains for 1_000 tune and 2_500 draw iterations (4_000 + 10_000 draws total) took 3 seconds.\n"
     ]
    },
    {
     "name": "stdout",
     "output_type": "stream",
     "text": [
      "smart_cities x web_of_things\n"
     ]
    },
    {
     "name": "stderr",
     "output_type": "stream",
     "text": [
      "Auto-assigning NUTS sampler...\n",
      "Initializing NUTS using jitter+adapt_diag...\n",
      "Multiprocess sampling (4 chains in 4 jobs)\n",
      "NUTS: [pair_probs]\n"
     ]
    },
    {
     "data": {
      "text/html": [
       "\n",
       "<style>\n",
       "    /* Turns off some styling */\n",
       "    progress {\n",
       "        /* gets rid of default border in Firefox and Opera. */\n",
       "        border: none;\n",
       "        /* Needs to be in here for Safari polyfill so background images work as expected. */\n",
       "        background-size: auto;\n",
       "    }\n",
       "    progress:not([value]), progress:not([value])::-webkit-progress-bar {\n",
       "        background: repeating-linear-gradient(45deg, #7e7e7e, #7e7e7e 10px, #5c5c5c 10px, #5c5c5c 20px);\n",
       "    }\n",
       "    .progress-bar-interrupted, .progress-bar-interrupted::-webkit-progress-bar {\n",
       "        background: #F44336;\n",
       "    }\n",
       "</style>\n"
      ],
      "text/plain": [
       "<IPython.core.display.HTML object>"
      ]
     },
     "metadata": {},
     "output_type": "display_data"
    },
    {
     "data": {
      "text/html": [
       "\n",
       "    <div>\n",
       "      <progress value='14000' class='' max='14000' style='width:300px; height:20px; vertical-align: middle;'></progress>\n",
       "      100.00% [14000/14000 00:02&lt;00:00 Sampling 4 chains, 0 divergences]\n",
       "    </div>\n",
       "    "
      ],
      "text/plain": [
       "<IPython.core.display.HTML object>"
      ]
     },
     "metadata": {},
     "output_type": "display_data"
    },
    {
     "name": "stderr",
     "output_type": "stream",
     "text": [
      "Sampling 4 chains for 1_000 tune and 2_500 draw iterations (4_000 + 10_000 draws total) took 3 seconds.\n"
     ]
    }
   ],
   "source": [
    "features = marked_ecosystem_df.columns\n",
    "n_features = len(features)\n",
    "\n",
    "dfs = []\n",
    "for i in range(0, n_features):\n",
    "    for j in range(i + 1, n_features):\n",
    "        a = features[i]\n",
    "        b = features[j]\n",
    "        print('{:} x {:}'.format(a, b))\n",
    "        association = br.AssocEstimator(onehot_trials=marked_ecosystem_df[[a, b]])\n",
    "        chain_df = association.sample_model()\n",
    "        sum_df = association.summarize_stats(chain_df, a, b)\n",
    "        dfs.append(sum_df)\n",
    "sumstats_df = pd.concat(dfs, ignore_index=True)     "
   ]
  },
  {
   "cell_type": "code",
   "execution_count": 23,
   "id": "ab843244-9247-4bd7-93ec-c9f6c2a4bae6",
   "metadata": {},
   "outputs": [
    {
     "data": {
      "text/plain": [
       "0.0017857142857142859"
      ]
     },
     "execution_count": 23,
     "metadata": {},
     "output_type": "execute_result"
    }
   ],
   "source": [
    "bonferroni_p = 0.05 / (n_features * (n_features - 1) / 2)\n",
    "bonferroni_p"
   ]
  },
  {
   "cell_type": "code",
   "execution_count": 29,
   "id": "9f0e096d-2096-4199-8875-229b56ff9adf",
   "metadata": {},
   "outputs": [
    {
     "data": {
      "text/plain": [
       "<Axes: >"
      ]
     },
     "execution_count": 29,
     "metadata": {},
     "output_type": "execute_result"
    },
    {
     "data": {
      "image/png": "[encoded data removed]",
      "text/plain": [
       "<Figure size 640x480 with 1 Axes>"
      ]
     },
     "metadata": {},
     "output_type": "display_data"
    }
   ],
   "source": [
    "# Most common ecosystems:\n",
    "marked_ecosystem_df.mean().sort_values(ascending=True).plot(kind='barh')"
   ]
  },
  {
   "cell_type": "code",
   "execution_count": 31,
   "id": "bec2d57e-56b5-48ad-8e0c-5d46b7504ca0",
   "metadata": {},
   "outputs": [
    {
     "data": {
      "text/html": [
       "<div>\n",
       "<style scoped>\n",
       "    .dataframe tbody tr th:only-of-type {\n",
       "        vertical-align: middle;\n",
       "    }\n",
       "\n",
       "    .dataframe tbody tr th {\n",
       "        vertical-align: top;\n",
       "    }\n",
       "\n",
       "    .dataframe thead th {\n",
       "        text-align: right;\n",
       "    }\n",
       "</style>\n",
       "<table border=\"1\" class=\"dataframe\">\n",
       "  <thead>\n",
       "    <tr style=\"text-align: right;\">\n",
       "      <th></th>\n",
       "      <th>Direction</th>\n",
       "      <th>A</th>\n",
       "      <th>B</th>\n",
       "      <th>P(A)</th>\n",
       "      <th>dev P(A)</th>\n",
       "      <th>P(A|B)</th>\n",
       "      <th>dev P(A|B)</th>\n",
       "      <th>deltaP(A,B)</th>\n",
       "      <th>dev deltaP(A,B)</th>\n",
       "      <th>abs delta nsigma</th>\n",
       "      <th>delta p-value</th>\n",
       "    </tr>\n",
       "  </thead>\n",
       "  <tbody>\n",
       "    <tr>\n",
       "      <th>36</th>\n",
       "      <td>F</td>\n",
       "      <td>media</td>\n",
       "      <td>network_communications</td>\n",
       "      <td>0.335677</td>\n",
       "      <td>0.030698</td>\n",
       "      <td>0.788727</td>\n",
       "      <td>0.050264</td>\n",
       "      <td>0.453050</td>\n",
       "      <td>0.045552</td>\n",
       "      <td>9.945789</td>\n",
       "      <td>0.0000</td>\n",
       "    </tr>\n",
       "    <tr>\n",
       "      <th>37</th>\n",
       "      <td>B</td>\n",
       "      <td>network_communications</td>\n",
       "      <td>media</td>\n",
       "      <td>0.283888</td>\n",
       "      <td>0.029618</td>\n",
       "      <td>0.666937</td>\n",
       "      <td>0.052671</td>\n",
       "      <td>0.383049</td>\n",
       "      <td>0.042066</td>\n",
       "      <td>9.105988</td>\n",
       "      <td>0.0000</td>\n",
       "    </tr>\n",
       "    <tr>\n",
       "      <th>3</th>\n",
       "      <td>B</td>\n",
       "      <td>e_commerce</td>\n",
       "      <td>advertising</td>\n",
       "      <td>0.331914</td>\n",
       "      <td>0.030740</td>\n",
       "      <td>0.545114</td>\n",
       "      <td>0.061047</td>\n",
       "      <td>0.213200</td>\n",
       "      <td>0.050348</td>\n",
       "      <td>4.234552</td>\n",
       "      <td>0.0000</td>\n",
       "    </tr>\n",
       "    <tr>\n",
       "      <th>2</th>\n",
       "      <td>F</td>\n",
       "      <td>advertising</td>\n",
       "      <td>e_commerce</td>\n",
       "      <td>0.284845</td>\n",
       "      <td>0.029142</td>\n",
       "      <td>0.467816</td>\n",
       "      <td>0.056127</td>\n",
       "      <td>0.182971</td>\n",
       "      <td>0.043866</td>\n",
       "      <td>4.171170</td>\n",
       "      <td>0.0000</td>\n",
       "    </tr>\n",
       "    <tr>\n",
       "      <th>55</th>\n",
       "      <td>B</td>\n",
       "      <td>web_of_things</td>\n",
       "      <td>smart_cities</td>\n",
       "      <td>0.254171</td>\n",
       "      <td>0.027761</td>\n",
       "      <td>0.550061</td>\n",
       "      <td>0.108246</td>\n",
       "      <td>0.295890</td>\n",
       "      <td>0.103106</td>\n",
       "      <td>2.869752</td>\n",
       "      <td>0.0016</td>\n",
       "    </tr>\n",
       "    <tr>\n",
       "      <th>54</th>\n",
       "      <td>F</td>\n",
       "      <td>smart_cities</td>\n",
       "      <td>web_of_things</td>\n",
       "      <td>0.086144</td>\n",
       "      <td>0.018144</td>\n",
       "      <td>0.186528</td>\n",
       "      <td>0.050588</td>\n",
       "      <td>0.100385</td>\n",
       "      <td>0.040219</td>\n",
       "      <td>2.495959</td>\n",
       "      <td>0.0016</td>\n",
       "    </tr>\n",
       "    <tr>\n",
       "      <th>6</th>\n",
       "      <td>F</td>\n",
       "      <td>advertising</td>\n",
       "      <td>network_communications</td>\n",
       "      <td>0.284678</td>\n",
       "      <td>0.029182</td>\n",
       "      <td>0.409348</td>\n",
       "      <td>0.060645</td>\n",
       "      <td>0.124670</td>\n",
       "      <td>0.049683</td>\n",
       "      <td>2.509303</td>\n",
       "      <td>0.0035</td>\n",
       "    </tr>\n",
       "    <tr>\n",
       "      <th>7</th>\n",
       "      <td>B</td>\n",
       "      <td>network_communications</td>\n",
       "      <td>advertising</td>\n",
       "      <td>0.284578</td>\n",
       "      <td>0.029347</td>\n",
       "      <td>0.409211</td>\n",
       "      <td>0.060880</td>\n",
       "      <td>0.124633</td>\n",
       "      <td>0.049699</td>\n",
       "      <td>2.507746</td>\n",
       "      <td>0.0035</td>\n",
       "    </tr>\n",
       "    <tr>\n",
       "      <th>48</th>\n",
       "      <td>F</td>\n",
       "      <td>network_communications</td>\n",
       "      <td>web_of_things</td>\n",
       "      <td>0.284480</td>\n",
       "      <td>0.029286</td>\n",
       "      <td>0.423762</td>\n",
       "      <td>0.063769</td>\n",
       "      <td>0.139282</td>\n",
       "      <td>0.053675</td>\n",
       "      <td>2.594932</td>\n",
       "      <td>0.0037</td>\n",
       "    </tr>\n",
       "    <tr>\n",
       "      <th>49</th>\n",
       "      <td>B</td>\n",
       "      <td>web_of_things</td>\n",
       "      <td>network_communications</td>\n",
       "      <td>0.254071</td>\n",
       "      <td>0.029064</td>\n",
       "      <td>0.378398</td>\n",
       "      <td>0.059660</td>\n",
       "      <td>0.124327</td>\n",
       "      <td>0.048272</td>\n",
       "      <td>2.575555</td>\n",
       "      <td>0.0037</td>\n",
       "    </tr>\n",
       "    <tr>\n",
       "      <th>11</th>\n",
       "      <td>B</td>\n",
       "      <td>smart_cities</td>\n",
       "      <td>advertising</td>\n",
       "      <td>0.085859</td>\n",
       "      <td>0.018524</td>\n",
       "      <td>0.030700</td>\n",
       "      <td>0.021118</td>\n",
       "      <td>-0.055160</td>\n",
       "      <td>0.023291</td>\n",
       "      <td>2.368298</td>\n",
       "      <td>0.0145</td>\n",
       "    </tr>\n",
       "    <tr>\n",
       "      <th>10</th>\n",
       "      <td>F</td>\n",
       "      <td>advertising</td>\n",
       "      <td>smart_cities</td>\n",
       "      <td>0.284439</td>\n",
       "      <td>0.030034</td>\n",
       "      <td>0.101922</td>\n",
       "      <td>0.066847</td>\n",
       "      <td>-0.182517</td>\n",
       "      <td>0.067818</td>\n",
       "      <td>2.691301</td>\n",
       "      <td>0.0145</td>\n",
       "    </tr>\n",
       "    <tr>\n",
       "      <th>42</th>\n",
       "      <td>F</td>\n",
       "      <td>media</td>\n",
       "      <td>web_of_things</td>\n",
       "      <td>0.335702</td>\n",
       "      <td>0.030739</td>\n",
       "      <td>0.457141</td>\n",
       "      <td>0.064636</td>\n",
       "      <td>0.121439</td>\n",
       "      <td>0.054987</td>\n",
       "      <td>2.208515</td>\n",
       "      <td>0.0145</td>\n",
       "    </tr>\n",
       "    <tr>\n",
       "      <th>43</th>\n",
       "      <td>B</td>\n",
       "      <td>web_of_things</td>\n",
       "      <td>media</td>\n",
       "      <td>0.254243</td>\n",
       "      <td>0.028635</td>\n",
       "      <td>0.346174</td>\n",
       "      <td>0.053859</td>\n",
       "      <td>0.091931</td>\n",
       "      <td>0.042140</td>\n",
       "      <td>2.181583</td>\n",
       "      <td>0.0145</td>\n",
       "    </tr>\n",
       "    <tr>\n",
       "      <th>33</th>\n",
       "      <td>B</td>\n",
       "      <td>smart_cities</td>\n",
       "      <td>e_commerce</td>\n",
       "      <td>0.086268</td>\n",
       "      <td>0.018408</td>\n",
       "      <td>0.039078</td>\n",
       "      <td>0.021863</td>\n",
       "      <td>-0.047190</td>\n",
       "      <td>0.022275</td>\n",
       "      <td>2.118497</td>\n",
       "      <td>0.0205</td>\n",
       "    </tr>\n",
       "    <tr>\n",
       "      <th>32</th>\n",
       "      <td>F</td>\n",
       "      <td>e_commerce</td>\n",
       "      <td>smart_cities</td>\n",
       "      <td>0.332525</td>\n",
       "      <td>0.030768</td>\n",
       "      <td>0.150720</td>\n",
       "      <td>0.078355</td>\n",
       "      <td>-0.181805</td>\n",
       "      <td>0.077334</td>\n",
       "      <td>2.350900</td>\n",
       "      <td>0.0205</td>\n",
       "    </tr>\n",
       "    <tr>\n",
       "      <th>5</th>\n",
       "      <td>B</td>\n",
       "      <td>media</td>\n",
       "      <td>advertising</td>\n",
       "      <td>0.335960</td>\n",
       "      <td>0.031214</td>\n",
       "      <td>0.424375</td>\n",
       "      <td>0.059927</td>\n",
       "      <td>0.088415</td>\n",
       "      <td>0.050057</td>\n",
       "      <td>1.766290</td>\n",
       "      <td>0.0398</td>\n",
       "    </tr>\n",
       "    <tr>\n",
       "      <th>4</th>\n",
       "      <td>F</td>\n",
       "      <td>advertising</td>\n",
       "      <td>media</td>\n",
       "      <td>0.284495</td>\n",
       "      <td>0.029125</td>\n",
       "      <td>0.359427</td>\n",
       "      <td>0.053464</td>\n",
       "      <td>0.074931</td>\n",
       "      <td>0.042765</td>\n",
       "      <td>1.752166</td>\n",
       "      <td>0.0398</td>\n",
       "    </tr>\n",
       "    <tr>\n",
       "      <th>50</th>\n",
       "      <td>F</td>\n",
       "      <td>publishing</td>\n",
       "      <td>smart_cities</td>\n",
       "      <td>0.116486</td>\n",
       "      <td>0.020978</td>\n",
       "      <td>0.249725</td>\n",
       "      <td>0.093882</td>\n",
       "      <td>0.133238</td>\n",
       "      <td>0.087996</td>\n",
       "      <td>1.514129</td>\n",
       "      <td>0.0477</td>\n",
       "    </tr>\n",
       "    <tr>\n",
       "      <th>51</th>\n",
       "      <td>B</td>\n",
       "      <td>smart_cities</td>\n",
       "      <td>publishing</td>\n",
       "      <td>0.086089</td>\n",
       "      <td>0.018525</td>\n",
       "      <td>0.184798</td>\n",
       "      <td>0.073548</td>\n",
       "      <td>0.098709</td>\n",
       "      <td>0.066735</td>\n",
       "      <td>1.479115</td>\n",
       "      <td>0.0477</td>\n",
       "    </tr>\n",
       "    <tr>\n",
       "      <th>40</th>\n",
       "      <td>F</td>\n",
       "      <td>media</td>\n",
       "      <td>smart_cities</td>\n",
       "      <td>0.336238</td>\n",
       "      <td>0.031076</td>\n",
       "      <td>0.500236</td>\n",
       "      <td>0.109668</td>\n",
       "      <td>0.163999</td>\n",
       "      <td>0.104193</td>\n",
       "      <td>1.573981</td>\n",
       "      <td>0.0595</td>\n",
       "    </tr>\n",
       "    <tr>\n",
       "      <th>41</th>\n",
       "      <td>B</td>\n",
       "      <td>smart_cities</td>\n",
       "      <td>media</td>\n",
       "      <td>0.086079</td>\n",
       "      <td>0.018541</td>\n",
       "      <td>0.128049</td>\n",
       "      <td>0.037912</td>\n",
       "      <td>0.041970</td>\n",
       "      <td>0.028392</td>\n",
       "      <td>1.478205</td>\n",
       "      <td>0.0595</td>\n",
       "    </tr>\n",
       "    <tr>\n",
       "      <th>21</th>\n",
       "      <td>B</td>\n",
       "      <td>publishing</td>\n",
       "      <td>data</td>\n",
       "      <td>0.116165</td>\n",
       "      <td>0.021108</td>\n",
       "      <td>0.090616</td>\n",
       "      <td>0.025762</td>\n",
       "      <td>-0.025549</td>\n",
       "      <td>0.020202</td>\n",
       "      <td>1.264663</td>\n",
       "      <td>0.0979</td>\n",
       "    </tr>\n",
       "    <tr>\n",
       "      <th>20</th>\n",
       "      <td>F</td>\n",
       "      <td>data</td>\n",
       "      <td>publishing</td>\n",
       "      <td>0.522189</td>\n",
       "      <td>0.032899</td>\n",
       "      <td>0.407504</td>\n",
       "      <td>0.092366</td>\n",
       "      <td>-0.114685</td>\n",
       "      <td>0.087379</td>\n",
       "      <td>1.312499</td>\n",
       "      <td>0.0979</td>\n",
       "    </tr>\n",
       "    <tr>\n",
       "      <th>0</th>\n",
       "      <td>F</td>\n",
       "      <td>advertising</td>\n",
       "      <td>data</td>\n",
       "      <td>0.284749</td>\n",
       "      <td>0.029374</td>\n",
       "      <td>0.248426</td>\n",
       "      <td>0.038844</td>\n",
       "      <td>-0.036323</td>\n",
       "      <td>0.028067</td>\n",
       "      <td>1.294176</td>\n",
       "      <td>0.0996</td>\n",
       "    </tr>\n",
       "    <tr>\n",
       "      <th>1</th>\n",
       "      <td>B</td>\n",
       "      <td>data</td>\n",
       "      <td>advertising</td>\n",
       "      <td>0.521637</td>\n",
       "      <td>0.032191</td>\n",
       "      <td>0.455082</td>\n",
       "      <td>0.060071</td>\n",
       "      <td>-0.066555</td>\n",
       "      <td>0.050993</td>\n",
       "      <td>1.305163</td>\n",
       "      <td>0.0996</td>\n",
       "    </tr>\n",
       "    <tr>\n",
       "      <th>38</th>\n",
       "      <td>F</td>\n",
       "      <td>media</td>\n",
       "      <td>publishing</td>\n",
       "      <td>0.336198</td>\n",
       "      <td>0.031576</td>\n",
       "      <td>0.444870</td>\n",
       "      <td>0.093960</td>\n",
       "      <td>0.108672</td>\n",
       "      <td>0.088230</td>\n",
       "      <td>1.231699</td>\n",
       "      <td>0.1081</td>\n",
       "    </tr>\n",
       "    <tr>\n",
       "      <th>39</th>\n",
       "      <td>B</td>\n",
       "      <td>publishing</td>\n",
       "      <td>media</td>\n",
       "      <td>0.116271</td>\n",
       "      <td>0.021083</td>\n",
       "      <td>0.153735</td>\n",
       "      <td>0.040131</td>\n",
       "      <td>0.037465</td>\n",
       "      <td>0.031248</td>\n",
       "      <td>1.198944</td>\n",
       "      <td>0.1081</td>\n",
       "    </tr>\n",
       "    <tr>\n",
       "      <th>28</th>\n",
       "      <td>F</td>\n",
       "      <td>e_commerce</td>\n",
       "      <td>network_communications</td>\n",
       "      <td>0.331656</td>\n",
       "      <td>0.030835</td>\n",
       "      <td>0.392943</td>\n",
       "      <td>0.059480</td>\n",
       "      <td>0.061286</td>\n",
       "      <td>0.050054</td>\n",
       "      <td>1.224397</td>\n",
       "      <td>0.1098</td>\n",
       "    </tr>\n",
       "    <tr>\n",
       "      <th>29</th>\n",
       "      <td>B</td>\n",
       "      <td>network_communications</td>\n",
       "      <td>e_commerce</td>\n",
       "      <td>0.284633</td>\n",
       "      <td>0.029960</td>\n",
       "      <td>0.337240</td>\n",
       "      <td>0.053722</td>\n",
       "      <td>0.052606</td>\n",
       "      <td>0.042946</td>\n",
       "      <td>1.224939</td>\n",
       "      <td>0.1098</td>\n",
       "    </tr>\n",
       "    <tr>\n",
       "      <th>15</th>\n",
       "      <td>B</td>\n",
       "      <td>e_commerce</td>\n",
       "      <td>data</td>\n",
       "      <td>0.332263</td>\n",
       "      <td>0.031279</td>\n",
       "      <td>0.297896</td>\n",
       "      <td>0.041230</td>\n",
       "      <td>-0.034367</td>\n",
       "      <td>0.029920</td>\n",
       "      <td>1.148641</td>\n",
       "      <td>0.1254</td>\n",
       "    </tr>\n",
       "    <tr>\n",
       "      <th>14</th>\n",
       "      <td>F</td>\n",
       "      <td>data</td>\n",
       "      <td>e_commerce</td>\n",
       "      <td>0.521870</td>\n",
       "      <td>0.032740</td>\n",
       "      <td>0.467992</td>\n",
       "      <td>0.056514</td>\n",
       "      <td>-0.053878</td>\n",
       "      <td>0.046537</td>\n",
       "      <td>1.157753</td>\n",
       "      <td>0.1254</td>\n",
       "    </tr>\n",
       "    <tr>\n",
       "      <th>25</th>\n",
       "      <td>B</td>\n",
       "      <td>web_of_things</td>\n",
       "      <td>data</td>\n",
       "      <td>0.254115</td>\n",
       "      <td>0.028267</td>\n",
       "      <td>0.222831</td>\n",
       "      <td>0.037683</td>\n",
       "      <td>-0.031284</td>\n",
       "      <td>0.027520</td>\n",
       "      <td>1.136758</td>\n",
       "      <td>0.1305</td>\n",
       "    </tr>\n",
       "    <tr>\n",
       "      <th>24</th>\n",
       "      <td>F</td>\n",
       "      <td>data</td>\n",
       "      <td>web_of_things</td>\n",
       "      <td>0.521674</td>\n",
       "      <td>0.032618</td>\n",
       "      <td>0.457414</td>\n",
       "      <td>0.064598</td>\n",
       "      <td>-0.064260</td>\n",
       "      <td>0.056222</td>\n",
       "      <td>1.142978</td>\n",
       "      <td>0.1305</td>\n",
       "    </tr>\n",
       "    <tr>\n",
       "      <th>17</th>\n",
       "      <td>B</td>\n",
       "      <td>media</td>\n",
       "      <td>data</td>\n",
       "      <td>0.335923</td>\n",
       "      <td>0.031046</td>\n",
       "      <td>0.305513</td>\n",
       "      <td>0.041482</td>\n",
       "      <td>-0.030410</td>\n",
       "      <td>0.029649</td>\n",
       "      <td>1.025698</td>\n",
       "      <td>0.1453</td>\n",
       "    </tr>\n",
       "    <tr>\n",
       "      <th>16</th>\n",
       "      <td>F</td>\n",
       "      <td>data</td>\n",
       "      <td>media</td>\n",
       "      <td>0.521266</td>\n",
       "      <td>0.032815</td>\n",
       "      <td>0.474084</td>\n",
       "      <td>0.055792</td>\n",
       "      <td>-0.047182</td>\n",
       "      <td>0.045721</td>\n",
       "      <td>1.031959</td>\n",
       "      <td>0.1453</td>\n",
       "    </tr>\n",
       "    <tr>\n",
       "      <th>18</th>\n",
       "      <td>F</td>\n",
       "      <td>data</td>\n",
       "      <td>network_communications</td>\n",
       "      <td>0.521108</td>\n",
       "      <td>0.032598</td>\n",
       "      <td>0.575143</td>\n",
       "      <td>0.060513</td>\n",
       "      <td>0.054035</td>\n",
       "      <td>0.051399</td>\n",
       "      <td>1.051287</td>\n",
       "      <td>0.1489</td>\n",
       "    </tr>\n",
       "    <tr>\n",
       "      <th>19</th>\n",
       "      <td>B</td>\n",
       "      <td>network_communications</td>\n",
       "      <td>data</td>\n",
       "      <td>0.284696</td>\n",
       "      <td>0.029599</td>\n",
       "      <td>0.314134</td>\n",
       "      <td>0.041504</td>\n",
       "      <td>0.029437</td>\n",
       "      <td>0.028168</td>\n",
       "      <td>1.045083</td>\n",
       "      <td>0.1489</td>\n",
       "    </tr>\n",
       "    <tr>\n",
       "      <th>13</th>\n",
       "      <td>B</td>\n",
       "      <td>web_of_things</td>\n",
       "      <td>advertising</td>\n",
       "      <td>0.254357</td>\n",
       "      <td>0.028270</td>\n",
       "      <td>0.212290</td>\n",
       "      <td>0.050246</td>\n",
       "      <td>-0.042067</td>\n",
       "      <td>0.043735</td>\n",
       "      <td>0.961859</td>\n",
       "      <td>0.1641</td>\n",
       "    </tr>\n",
       "    <tr>\n",
       "      <th>12</th>\n",
       "      <td>F</td>\n",
       "      <td>advertising</td>\n",
       "      <td>web_of_things</td>\n",
       "      <td>0.284160</td>\n",
       "      <td>0.029242</td>\n",
       "      <td>0.237018</td>\n",
       "      <td>0.054561</td>\n",
       "      <td>-0.047142</td>\n",
       "      <td>0.048799</td>\n",
       "      <td>0.966049</td>\n",
       "      <td>0.1641</td>\n",
       "    </tr>\n",
       "    <tr>\n",
       "      <th>35</th>\n",
       "      <td>B</td>\n",
       "      <td>web_of_things</td>\n",
       "      <td>e_commerce</td>\n",
       "      <td>0.254038</td>\n",
       "      <td>0.028391</td>\n",
       "      <td>0.220566</td>\n",
       "      <td>0.046577</td>\n",
       "      <td>-0.033471</td>\n",
       "      <td>0.038882</td>\n",
       "      <td>0.860838</td>\n",
       "      <td>0.1911</td>\n",
       "    </tr>\n",
       "    <tr>\n",
       "      <th>34</th>\n",
       "      <td>F</td>\n",
       "      <td>e_commerce</td>\n",
       "      <td>web_of_things</td>\n",
       "      <td>0.332285</td>\n",
       "      <td>0.030382</td>\n",
       "      <td>0.288421</td>\n",
       "      <td>0.057566</td>\n",
       "      <td>-0.043864</td>\n",
       "      <td>0.050663</td>\n",
       "      <td>0.865797</td>\n",
       "      <td>0.1911</td>\n",
       "    </tr>\n",
       "    <tr>\n",
       "      <th>23</th>\n",
       "      <td>B</td>\n",
       "      <td>smart_cities</td>\n",
       "      <td>data</td>\n",
       "      <td>0.086318</td>\n",
       "      <td>0.018395</td>\n",
       "      <td>0.074416</td>\n",
       "      <td>0.023766</td>\n",
       "      <td>-0.011902</td>\n",
       "      <td>0.017746</td>\n",
       "      <td>0.670701</td>\n",
       "      <td>0.2507</td>\n",
       "    </tr>\n",
       "    <tr>\n",
       "      <th>22</th>\n",
       "      <td>F</td>\n",
       "      <td>data</td>\n",
       "      <td>smart_cities</td>\n",
       "      <td>0.521421</td>\n",
       "      <td>0.033136</td>\n",
       "      <td>0.449583</td>\n",
       "      <td>0.109018</td>\n",
       "      <td>-0.071838</td>\n",
       "      <td>0.104227</td>\n",
       "      <td>0.689241</td>\n",
       "      <td>0.2507</td>\n",
       "    </tr>\n",
       "    <tr>\n",
       "      <th>46</th>\n",
       "      <td>F</td>\n",
       "      <td>network_communications</td>\n",
       "      <td>smart_cities</td>\n",
       "      <td>0.284041</td>\n",
       "      <td>0.028986</td>\n",
       "      <td>0.349562</td>\n",
       "      <td>0.102822</td>\n",
       "      <td>0.065521</td>\n",
       "      <td>0.098326</td>\n",
       "      <td>0.666365</td>\n",
       "      <td>0.2631</td>\n",
       "    </tr>\n",
       "    <tr>\n",
       "      <th>47</th>\n",
       "      <td>B</td>\n",
       "      <td>smart_cities</td>\n",
       "      <td>network_communications</td>\n",
       "      <td>0.085773</td>\n",
       "      <td>0.018101</td>\n",
       "      <td>0.105603</td>\n",
       "      <td>0.037487</td>\n",
       "      <td>0.019831</td>\n",
       "      <td>0.030738</td>\n",
       "      <td>0.645147</td>\n",
       "      <td>0.2631</td>\n",
       "    </tr>\n",
       "    <tr>\n",
       "      <th>8</th>\n",
       "      <td>F</td>\n",
       "      <td>advertising</td>\n",
       "      <td>publishing</td>\n",
       "      <td>0.284389</td>\n",
       "      <td>0.030053</td>\n",
       "      <td>0.334465</td>\n",
       "      <td>0.089006</td>\n",
       "      <td>0.050076</td>\n",
       "      <td>0.083328</td>\n",
       "      <td>0.600947</td>\n",
       "      <td>0.2849</td>\n",
       "    </tr>\n",
       "    <tr>\n",
       "      <th>9</th>\n",
       "      <td>B</td>\n",
       "      <td>publishing</td>\n",
       "      <td>advertising</td>\n",
       "      <td>0.116231</td>\n",
       "      <td>0.021466</td>\n",
       "      <td>0.136512</td>\n",
       "      <td>0.041562</td>\n",
       "      <td>0.020281</td>\n",
       "      <td>0.034557</td>\n",
       "      <td>0.586886</td>\n",
       "      <td>0.2849</td>\n",
       "    </tr>\n",
       "    <tr>\n",
       "      <th>44</th>\n",
       "      <td>F</td>\n",
       "      <td>network_communications</td>\n",
       "      <td>publishing</td>\n",
       "      <td>0.284155</td>\n",
       "      <td>0.029080</td>\n",
       "      <td>0.332574</td>\n",
       "      <td>0.089846</td>\n",
       "      <td>0.048419</td>\n",
       "      <td>0.084733</td>\n",
       "      <td>0.571426</td>\n",
       "      <td>0.2966</td>\n",
       "    </tr>\n",
       "    <tr>\n",
       "      <th>45</th>\n",
       "      <td>B</td>\n",
       "      <td>publishing</td>\n",
       "      <td>network_communications</td>\n",
       "      <td>0.116209</td>\n",
       "      <td>0.021150</td>\n",
       "      <td>0.136048</td>\n",
       "      <td>0.042476</td>\n",
       "      <td>0.019838</td>\n",
       "      <td>0.035145</td>\n",
       "      <td>0.564465</td>\n",
       "      <td>0.2966</td>\n",
       "    </tr>\n",
       "    <tr>\n",
       "      <th>31</th>\n",
       "      <td>B</td>\n",
       "      <td>publishing</td>\n",
       "      <td>e_commerce</td>\n",
       "      <td>0.116737</td>\n",
       "      <td>0.021124</td>\n",
       "      <td>0.103942</td>\n",
       "      <td>0.035010</td>\n",
       "      <td>-0.012795</td>\n",
       "      <td>0.029362</td>\n",
       "      <td>0.435755</td>\n",
       "      <td>0.3205</td>\n",
       "    </tr>\n",
       "    <tr>\n",
       "      <th>30</th>\n",
       "      <td>F</td>\n",
       "      <td>e_commerce</td>\n",
       "      <td>publishing</td>\n",
       "      <td>0.331436</td>\n",
       "      <td>0.031298</td>\n",
       "      <td>0.295201</td>\n",
       "      <td>0.087343</td>\n",
       "      <td>-0.036235</td>\n",
       "      <td>0.081915</td>\n",
       "      <td>0.442352</td>\n",
       "      <td>0.3205</td>\n",
       "    </tr>\n",
       "    <tr>\n",
       "      <th>27</th>\n",
       "      <td>B</td>\n",
       "      <td>media</td>\n",
       "      <td>e_commerce</td>\n",
       "      <td>0.336545</td>\n",
       "      <td>0.031305</td>\n",
       "      <td>0.338839</td>\n",
       "      <td>0.054309</td>\n",
       "      <td>0.002294</td>\n",
       "      <td>0.044067</td>\n",
       "      <td>0.052064</td>\n",
       "      <td>0.4846</td>\n",
       "    </tr>\n",
       "    <tr>\n",
       "      <th>26</th>\n",
       "      <td>F</td>\n",
       "      <td>e_commerce</td>\n",
       "      <td>media</td>\n",
       "      <td>0.331752</td>\n",
       "      <td>0.031075</td>\n",
       "      <td>0.333929</td>\n",
       "      <td>0.053189</td>\n",
       "      <td>0.002177</td>\n",
       "      <td>0.043522</td>\n",
       "      <td>0.050023</td>\n",
       "      <td>0.4846</td>\n",
       "    </tr>\n",
       "    <tr>\n",
       "      <th>53</th>\n",
       "      <td>B</td>\n",
       "      <td>web_of_things</td>\n",
       "      <td>publishing</td>\n",
       "      <td>0.254284</td>\n",
       "      <td>0.028632</td>\n",
       "      <td>0.258525</td>\n",
       "      <td>0.081905</td>\n",
       "      <td>0.004241</td>\n",
       "      <td>0.077285</td>\n",
       "      <td>0.054874</td>\n",
       "      <td>0.4968</td>\n",
       "    </tr>\n",
       "    <tr>\n",
       "      <th>52</th>\n",
       "      <td>F</td>\n",
       "      <td>publishing</td>\n",
       "      <td>web_of_things</td>\n",
       "      <td>0.116422</td>\n",
       "      <td>0.021197</td>\n",
       "      <td>0.118395</td>\n",
       "      <td>0.041571</td>\n",
       "      <td>0.001973</td>\n",
       "      <td>0.035763</td>\n",
       "      <td>0.055182</td>\n",
       "      <td>0.4968</td>\n",
       "    </tr>\n",
       "  </tbody>\n",
       "</table>\n",
       "</div>"
      ],
      "text/plain": [
       "   Direction                       A                       B      P(A)   \n",
       "36         F                   media  network_communications  0.335677  \\\n",
       "37         B  network_communications                   media  0.283888   \n",
       "3          B              e_commerce             advertising  0.331914   \n",
       "2          F             advertising              e_commerce  0.284845   \n",
       "55         B           web_of_things            smart_cities  0.254171   \n",
       "54         F            smart_cities           web_of_things  0.086144   \n",
       "6          F             advertising  network_communications  0.284678   \n",
       "7          B  network_communications             advertising  0.284578   \n",
       "48         F  network_communications           web_of_things  0.284480   \n",
       "49         B           web_of_things  network_communications  0.254071   \n",
       "11         B            smart_cities             advertising  0.085859   \n",
       "10         F             advertising            smart_cities  0.284439   \n",
       "42         F                   media           web_of_things  0.335702   \n",
       "43         B           web_of_things                   media  0.254243   \n",
       "33         B            smart_cities              e_commerce  0.086268   \n",
       "32         F              e_commerce            smart_cities  0.332525   \n",
       "5          B                   media             advertising  0.335960   \n",
       "4          F             advertising                   media  0.284495   \n",
       "50         F              publishing            smart_cities  0.116486   \n",
       "51         B            smart_cities              publishing  0.086089   \n",
       "40         F                   media            smart_cities  0.336238   \n",
       "41         B            smart_cities                   media  0.086079   \n",
       "21         B              publishing                    data  0.116165   \n",
       "20         F                    data              publishing  0.522189   \n",
       "0          F             advertising                    data  0.284749   \n",
       "1          B                    data             advertising  0.521637   \n",
       "38         F                   media              publishing  0.336198   \n",
       "39         B              publishing                   media  0.116271   \n",
       "28         F              e_commerce  network_communications  0.331656   \n",
       "29         B  network_communications              e_commerce  0.284633   \n",
       "15         B              e_commerce                    data  0.332263   \n",
       "14         F                    data              e_commerce  0.521870   \n",
       "25         B           web_of_things                    data  0.254115   \n",
       "24         F                    data           web_of_things  0.521674   \n",
       "17         B                   media                    data  0.335923   \n",
       "16         F                    data                   media  0.521266   \n",
       "18         F                    data  network_communications  0.521108   \n",
       "19         B  network_communications                    data  0.284696   \n",
       "13         B           web_of_things             advertising  0.254357   \n",
       "12         F             advertising           web_of_things  0.284160   \n",
       "35         B           web_of_things              e_commerce  0.254038   \n",
       "34         F              e_commerce           web_of_things  0.332285   \n",
       "23         B            smart_cities                    data  0.086318   \n",
       "22         F                    data            smart_cities  0.521421   \n",
       "46         F  network_communications            smart_cities  0.284041   \n",
       "47         B            smart_cities  network_communications  0.085773   \n",
       "8          F             advertising              publishing  0.284389   \n",
       "9          B              publishing             advertising  0.116231   \n",
       "44         F  network_communications              publishing  0.284155   \n",
       "45         B              publishing  network_communications  0.116209   \n",
       "31         B              publishing              e_commerce  0.116737   \n",
       "30         F              e_commerce              publishing  0.331436   \n",
       "27         B                   media              e_commerce  0.336545   \n",
       "26         F              e_commerce                   media  0.331752   \n",
       "53         B           web_of_things              publishing  0.254284   \n",
       "52         F              publishing           web_of_things  0.116422   \n",
       "\n",
       "    dev P(A)    P(A|B)  dev P(A|B)  deltaP(A,B)  dev deltaP(A,B)   \n",
       "36  0.030698  0.788727    0.050264     0.453050         0.045552  \\\n",
       "37  0.029618  0.666937    0.052671     0.383049         0.042066   \n",
       "3   0.030740  0.545114    0.061047     0.213200         0.050348   \n",
       "2   0.029142  0.467816    0.056127     0.182971         0.043866   \n",
       "55  0.027761  0.550061    0.108246     0.295890         0.103106   \n",
       "54  0.018144  0.186528    0.050588     0.100385         0.040219   \n",
       "6   0.029182  0.409348    0.060645     0.124670         0.049683   \n",
       "7   0.029347  0.409211    0.060880     0.124633         0.049699   \n",
       "48  0.029286  0.423762    0.063769     0.139282         0.053675   \n",
       "49  0.029064  0.378398    0.059660     0.124327         0.048272   \n",
       "11  0.018524  0.030700    0.021118    -0.055160         0.023291   \n",
       "10  0.030034  0.101922    0.066847    -0.182517         0.067818   \n",
       "42  0.030739  0.457141    0.064636     0.121439         0.054987   \n",
       "43  0.028635  0.346174    0.053859     0.091931         0.042140   \n",
       "33  0.018408  0.039078    0.021863    -0.047190         0.022275   \n",
       "32  0.030768  0.150720    0.078355    -0.181805         0.077334   \n",
       "5   0.031214  0.424375    0.059927     0.088415         0.050057   \n",
       "4   0.029125  0.359427    0.053464     0.074931         0.042765   \n",
       "50  0.020978  0.249725    0.093882     0.133238         0.087996   \n",
       "51  0.018525  0.184798    0.073548     0.098709         0.066735   \n",
       "40  0.031076  0.500236    0.109668     0.163999         0.104193   \n",
       "41  0.018541  0.128049    0.037912     0.041970         0.028392   \n",
       "21  0.021108  0.090616    0.025762    -0.025549         0.020202   \n",
       "20  0.032899  0.407504    0.092366    -0.114685         0.087379   \n",
       "0   0.029374  0.248426    0.038844    -0.036323         0.028067   \n",
       "1   0.032191  0.455082    0.060071    -0.066555         0.050993   \n",
       "38  0.031576  0.444870    0.093960     0.108672         0.088230   \n",
       "39  0.021083  0.153735    0.040131     0.037465         0.031248   \n",
       "28  0.030835  0.392943    0.059480     0.061286         0.050054   \n",
       "29  0.029960  0.337240    0.053722     0.052606         0.042946   \n",
       "15  0.031279  0.297896    0.041230    -0.034367         0.029920   \n",
       "14  0.032740  0.467992    0.056514    -0.053878         0.046537   \n",
       "25  0.028267  0.222831    0.037683    -0.031284         0.027520   \n",
       "24  0.032618  0.457414    0.064598    -0.064260         0.056222   \n",
       "17  0.031046  0.305513    0.041482    -0.030410         0.029649   \n",
       "16  0.032815  0.474084    0.055792    -0.047182         0.045721   \n",
       "18  0.032598  0.575143    0.060513     0.054035         0.051399   \n",
       "19  0.029599  0.314134    0.041504     0.029437         0.028168   \n",
       "13  0.028270  0.212290    0.050246    -0.042067         0.043735   \n",
       "12  0.029242  0.237018    0.054561    -0.047142         0.048799   \n",
       "35  0.028391  0.220566    0.046577    -0.033471         0.038882   \n",
       "34  0.030382  0.288421    0.057566    -0.043864         0.050663   \n",
       "23  0.018395  0.074416    0.023766    -0.011902         0.017746   \n",
       "22  0.033136  0.449583    0.109018    -0.071838         0.104227   \n",
       "46  0.028986  0.349562    0.102822     0.065521         0.098326   \n",
       "47  0.018101  0.105603    0.037487     0.019831         0.030738   \n",
       "8   0.030053  0.334465    0.089006     0.050076         0.083328   \n",
       "9   0.021466  0.136512    0.041562     0.020281         0.034557   \n",
       "44  0.029080  0.332574    0.089846     0.048419         0.084733   \n",
       "45  0.021150  0.136048    0.042476     0.019838         0.035145   \n",
       "31  0.021124  0.103942    0.035010    -0.012795         0.029362   \n",
       "30  0.031298  0.295201    0.087343    -0.036235         0.081915   \n",
       "27  0.031305  0.338839    0.054309     0.002294         0.044067   \n",
       "26  0.031075  0.333929    0.053189     0.002177         0.043522   \n",
       "53  0.028632  0.258525    0.081905     0.004241         0.077285   \n",
       "52  0.021197  0.118395    0.041571     0.001973         0.035763   \n",
       "\n",
       "    abs delta nsigma  delta p-value  \n",
       "36          9.945789         0.0000  \n",
       "37          9.105988         0.0000  \n",
       "3           4.234552         0.0000  \n",
       "2           4.171170         0.0000  \n",
       "55          2.869752         0.0016  \n",
       "54          2.495959         0.0016  \n",
       "6           2.509303         0.0035  \n",
       "7           2.507746         0.0035  \n",
       "48          2.594932         0.0037  \n",
       "49          2.575555         0.0037  \n",
       "11          2.368298         0.0145  \n",
       "10          2.691301         0.0145  \n",
       "42          2.208515         0.0145  \n",
       "43          2.181583         0.0145  \n",
       "33          2.118497         0.0205  \n",
       "32          2.350900         0.0205  \n",
       "5           1.766290         0.0398  \n",
       "4           1.752166         0.0398  \n",
       "50          1.514129         0.0477  \n",
       "51          1.479115         0.0477  \n",
       "40          1.573981         0.0595  \n",
       "41          1.478205         0.0595  \n",
       "21          1.264663         0.0979  \n",
       "20          1.312499         0.0979  \n",
       "0           1.294176         0.0996  \n",
       "1           1.305163         0.0996  \n",
       "38          1.231699         0.1081  \n",
       "39          1.198944         0.1081  \n",
       "28          1.224397         0.1098  \n",
       "29          1.224939         0.1098  \n",
       "15          1.148641         0.1254  \n",
       "14          1.157753         0.1254  \n",
       "25          1.136758         0.1305  \n",
       "24          1.142978         0.1305  \n",
       "17          1.025698         0.1453  \n",
       "16          1.031959         0.1453  \n",
       "18          1.051287         0.1489  \n",
       "19          1.045083         0.1489  \n",
       "13          0.961859         0.1641  \n",
       "12          0.966049         0.1641  \n",
       "35          0.860838         0.1911  \n",
       "34          0.865797         0.1911  \n",
       "23          0.670701         0.2507  \n",
       "22          0.689241         0.2507  \n",
       "46          0.666365         0.2631  \n",
       "47          0.645147         0.2631  \n",
       "8           0.600947         0.2849  \n",
       "9           0.586886         0.2849  \n",
       "44          0.571426         0.2966  \n",
       "45          0.564465         0.2966  \n",
       "31          0.435755         0.3205  \n",
       "30          0.442352         0.3205  \n",
       "27          0.052064         0.4846  \n",
       "26          0.050023         0.4846  \n",
       "53          0.054874         0.4968  \n",
       "52          0.055182         0.4968  "
      ]
     },
     "execution_count": 31,
     "metadata": {},
     "output_type": "execute_result"
    }
   ],
   "source": [
    "sumstats_df.sort_values(by=['delta p-value', 'deltaP(A,B)'], ascending=[True, False])"
   ]
  },
  {
   "cell_type": "markdown",
   "id": "d5991764-8f40-46ce-8abd-df98e4562c33",
   "metadata": {},
   "source": [
    "# Trash"
   ]
  },
  {
   "cell_type": "markdown",
   "id": "4ed57120-fac1-4db3-a825-f9a58d09998f",
   "metadata": {},
   "source": [
    "## Comparing scraps taken a few hours apart"
   ]
  },
  {
   "cell_type": "markdown",
   "id": "c153af5d-89c1-4e94-83b1-cbe74f54f814",
   "metadata": {},
   "source": [
    "Apparently there was a addition of a new member in the interval of a few hours."
   ]
  },
  {
   "cell_type": "code",
   "execution_count": 54,
   "id": "1d1a9ad0-4e89-4093-8a35-df8df67f2fcd",
   "metadata": {},
   "outputs": [],
   "source": [
    "# Load data scraped with the Chrome Web scraper extension:\n",
    "test_df = pd.read_csv('../data/raw/scraped/w3c_current-members_2025-04-15.csv')"
   ]
  },
  {
   "cell_type": "code",
   "execution_count": 67,
   "id": "c191a704-8a0e-4ce6-9fd5-1b0859d300a4",
   "metadata": {},
   "outputs": [
    {
     "data": {
      "text/plain": [
       "{'eBOUND Canada'}"
      ]
     },
     "execution_count": 67,
     "metadata": {},
     "output_type": "execute_result"
    }
   ],
   "source": [
    "# Data present only in last scrap:\n",
    "set(country_tomo_df['name']) - set(test_df['member_website'])"
   ]
  },
  {
   "cell_type": "code",
   "execution_count": 66,
   "id": "e60012b6-5cee-4142-9b79-e79b7c238520",
   "metadata": {},
   "outputs": [
    {
     "data": {
      "text/plain": [
       "set()"
      ]
     },
     "execution_count": 66,
     "metadata": {},
     "output_type": "execute_result"
    }
   ],
   "source": [
    "# Data missing in last scrap:\n",
    "set(test_df['member_website']) - set(country_tomo_df['name'])"
   ]
  }
 ],
 "metadata": {
  "kernelspec": {
   "display_name": "Python 3 (ipykernel)",
   "language": "python",
   "name": "python3"
  },
  "language_info": {
   "codemirror_mode": {
    "name": "ipython",
    "version": 3
   },
   "file_extension": ".py",
   "mimetype": "text/x-python",
   "name": "python",
   "nbconvert_exporter": "python",
   "pygments_lexer": "ipython3",
   "version": "3.8.10"
  }
 },
 "nbformat": 4,
 "nbformat_minor": 5
}
